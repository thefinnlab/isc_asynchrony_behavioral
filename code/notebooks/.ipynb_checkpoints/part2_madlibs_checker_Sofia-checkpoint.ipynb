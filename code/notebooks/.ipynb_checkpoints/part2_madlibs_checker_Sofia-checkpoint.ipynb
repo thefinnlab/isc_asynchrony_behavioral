{
 "cells": [
  {
   "cell_type": "markdown",
   "metadata": {},
   "source": [
    "### make sure you have the right environment set up"
   ]
  },
  {
   "cell_type": "code",
   "execution_count": 26,
   "metadata": {},
   "outputs": [],
   "source": [
    "import numpy\n",
    "import tqdm\n",
    "import pandas as pd\n",
    "from manual_spellchecker import spell_checker\n",
    "import os\n",
    "from glob import glob\n",
    "from tqdm.notebook import tqdm\n",
    "from IPython.display import clear_output"
   ]
  },
  {
   "cell_type": "code",
   "execution_count": 27,
   "metadata": {},
   "outputs": [],
   "source": [
    "import language_tool_python\n",
    "tool = language_tool_python.LanguageTool('en-US')"
   ]
  },
  {
   "cell_type": "code",
   "execution_count": 28,
   "metadata": {},
   "outputs": [
    {
     "name": "stdout",
     "output_type": "stream",
     "text": [
      "80\n"
     ]
    }
   ],
   "source": [
    "data_dir = '../part1/'\n",
    "files = sorted(glob(data_dir+'*madlibs_testing_*'))\n",
    "files = sorted(files)\n",
    "print(len(files))"
   ]
  },
  {
   "cell_type": "markdown",
   "metadata": {},
   "source": [
    "### Load in required functions"
   ]
  },
  {
   "cell_type": "code",
   "execution_count": 29,
   "metadata": {},
   "outputs": [],
   "source": [
    "def set_to_1(df,idx):\n",
    "    print('modifying the SML_remove column!')\n",
    "    for val in [0,1,2,3,4,5]: \n",
    "        df.at[idx-val,'SML_remove'] = 1\n",
    "    return df\n",
    "\n",
    "\n",
    "def issue_with_trial(trial_num,df,filename,idx_for_input):\n",
    "    y_n = input(f'Is there an issue with blank {trial_num} y/n: ')\n",
    "    if y_n=='y':\n",
    "        df = replace_input(list_input,df,trial_num,idx,filename,idx_for_input)\n",
    "    else:\n",
    "        None\n",
    "        \n",
    "def replace_input(list_input,df,input_num,idx,filename,idx_for_input):\n",
    "    #input num can be 1, 2 or 3\n",
    "    new_input = input(f'What should input {input_num} look like? It is currently \\033[1m {list_input[input_num-1]}:')\n",
    "    df.at[idx_for_input,f'input{input_num}'] = new_input\n",
    "    df.at[idx,'checked'] = '1'\n",
    "    df.to_csv(filename)\n",
    "    \n"
   ]
  },
  {
   "cell_type": "code",
   "execution_count": 286,
   "metadata": {},
   "outputs": [
    {
     "name": "stdout",
     "output_type": "stream",
     "text": [
      "../part1/madlibs_testing_iteration11_participant_43_temp.csv\n"
     ]
    }
   ],
   "source": [
    "\n",
    "filename = files[36] #<- CHANGE NUMBER HERE ! \n",
    "print(filename)"
   ]
  },
  {
   "cell_type": "code",
   "execution_count": 287,
   "metadata": {},
   "outputs": [],
   "source": [
    "# madlibs_5_random_blank_ML_iteration9_slider_vertical_participant57_prolific_id_6036e6d7a9be29063e16da2dtemp_1678835965025.csv\n",
    "# madlibs_5_random_blank_ML_iteration9_slider_vertical_participant39_prolific_id_60dd1c25668cc31eb13642edtemp_1678891365203.csv\n",
    "# madlibs_5_random_blank_ML_iteration9_slider_vertical_participant56_prolific_id_5cf656e90acc8f000147f643temp_1678885815430.csv\n",
    "# madlibs_5_random_blank_ML_iteration9_slider_vertical_participant49_prolific_id_6018a5c0e1600b187ccb8693temp_1678852327445.csv\n",
    "# madlibs_5_random_blank_ML_iteration9_slider_vertical_participant12_prolific_id_62aa591a476ebabe28612a92temp_1678849784327.csv\n",
    "# madlibs_5_random_blank_ML_iteration9_slider_vertical_participant7_prolific_id_634688391e61c68f25ca1f82temp_1678849232372.csv\n",
    "# madlibs_5_random_blank_ML_iteration9_slider_vertical_participant51_prolific_id_62cc1f77c32651ff9d35a471temp_1678850890216.csv\n",
    "# madlibs_5_random_blank_ML_iteration9_slider_vertical_participant1_prolific_id_63d196c147d1f420690e5b87temp_1678848812791.csv\n",
    "# madlibs_5_random_blank_ML_iteration9_slider_vertical_participant53_prolific_id_5f2fc0f05b67073c177aaecetemp_1678835639521.csv\n",
    "# madlibs_5_random_blank_ML_iteration9_slider_vertical_participant58_prolific_id_63d6ed4298023c87a3f001dbtemp_1678835988097.csv"
   ]
  },
  {
   "cell_type": "code",
   "execution_count": 288,
   "metadata": {},
   "outputs": [],
   "source": [
    "# a = 'madlibs_5_random_blank_ML_iteration9_slider_vertical_participant52_prolific_id_57b4face0fc08b00019fe2fetemp_1678834921292.csv'\n",
    "\n",
    "# filename = '../part1/' + a\n",
    "# filename"
   ]
  },
  {
   "cell_type": "code",
   "execution_count": 289,
   "metadata": {},
   "outputs": [
    {
     "data": {
      "text/plain": [
       "True"
      ]
     },
     "execution_count": 289,
     "metadata": {},
     "output_type": "execute_result"
    }
   ],
   "source": [
    "import ast\n",
    "df_og = pd.read_csv(filename, keep_default_na=False)\n",
    "len(list(ast.literal_eval(df_og.iloc[6]['responses']).values())[0])>0"
   ]
  },
  {
   "cell_type": "markdown",
   "metadata": {},
   "source": [
    "### Run the next two cells and confirm the outputs are true! "
   ]
  },
  {
   "cell_type": "code",
   "execution_count": 290,
   "metadata": {},
   "outputs": [
    {
     "name": "stdout",
     "output_type": "stream",
     "text": [
      "if this is not 60, then it is a mistake and let Clara know (and mark on the spreadsheet)!! 0\n"
     ]
    }
   ],
   "source": [
    "df = df_og\n",
    "val = 6\n",
    "filled_trials = df[val+1:].loc[df['trial_type'] == 'image-slider-response']\n",
    "filled_trials.shape\n",
    "print(f'if this is not 60, then it is a mistake and let Clara know (and mark on the spreadsheet)!! {filled_trials.shape[0]}')"
   ]
  },
  {
   "cell_type": "code",
   "execution_count": 291,
   "metadata": {},
   "outputs": [
    {
     "name": "stdout",
     "output_type": "stream",
     "text": [
      "if this is not 0, then it is a mistake and let Clara know (and mark on the spreadsheet)!! 0\n"
     ]
    }
   ],
   "source": [
    "a = df_og.index\n",
    "print(f'if this is not 0, then it is a mistake and let Clara know (and mark on the spreadsheet)!! {list(a)[0]}')"
   ]
  },
  {
   "cell_type": "code",
   "execution_count": 292,
   "metadata": {},
   "outputs": [
    {
     "data": {
      "text/plain": [
       "21                                     This man is a(n) \n",
       "28                       This is an interaction between \n",
       "35              The person that is carrying a poster of \n",
       "42                         This couple is outside a/the \n",
       "49                           The woman on the left is a \n",
       "55                                  This small child is \n",
       "62                               The donkey is carrying \n",
       "69                       These people are located in/at \n",
       "75                      The young boy is looking out at \n",
       "82                                   The person is a(n) \n",
       "89                           The kids in the window are \n",
       "96                                     This man is a(n) \n",
       "103                                    These people are \n",
       "109                    The child is laying down because \n",
       "117                        The woman is walking towards \n",
       "123                                  This is a group of \n",
       "130                    These children are in/on/at a(n) \n",
       "137                                  This is a group of \n",
       "144                          This is taking place at/in \n",
       "150    The man peering out from the door in the foreg...\n",
       "157                This man is sitting next to a bin of \n",
       "164                                  This is a group of \n",
       "171                       This woman just walked into a \n",
       "178                   These people are gathered because \n",
       "185                     The person on the right is a(n) \n",
       "192                                          Outside of \n",
       "198                                    This man is a(n) \n",
       "204                  A sailor and a boy are standing by \n",
       "210                        The children are gathered at \n",
       "216                                                A(n) \n",
       "224     The man in the center is holding a sign because \n",
       "231                 This crowd has gathered in order to \n",
       "238                            These people are part of \n",
       "245    These young children are standing behind the f...\n",
       "251    This museum has two paintings next to each oth...\n",
       "258                  The old woman is being pulled on a \n",
       "265                              This little girl is in \n",
       "272                    The people are standing in/at/on \n",
       "278                   This group of people is currently \n",
       "284                                  This is a group of \n",
       "291                     The group of men is playing for \n",
       "297                                  This is a group of \n",
       "304                                  This is a group of \n",
       "311               This group of boys is running because \n",
       "317                           These kids are looking at \n",
       "Name: ML1, dtype: object"
      ]
     },
     "execution_count": 292,
     "metadata": {},
     "output_type": "execute_result"
    }
   ],
   "source": [
    "filled_trials = df[val+1:].loc[df['trial_type'] == 'img_SML']\n",
    "filled_trials['ML1']"
   ]
  },
  {
   "cell_type": "markdown",
   "metadata": {},
   "source": [
    "# Cond 1 - 30 trials only. Note - the first one is just an example, can just click 'y'"
   ]
  },
  {
   "cell_type": "code",
   "execution_count": 294,
   "metadata": {
    "scrolled": false
   },
   "outputs": [
    {
     "data": {
      "application/vnd.jupyter.widget-view+json": {
       "model_id": "5f0f006369e74c058c9c33b0c71e21fa",
       "version_major": 2,
       "version_minor": 0
      },
      "text/plain": [
       "  0%|          | 0/31 [00:00<?, ?it/s]"
      ]
     },
     "metadata": {},
     "output_type": "display_data"
    },
    {
     "name": "stdout",
     "output_type": "stream",
     "text": [
      "18\n",
      "img-1...\n",
      "25\n",
      "img-2...\n",
      "32\n",
      "img-3...\n",
      "39\n",
      "img-4...\n",
      "46\n",
      "img-5...\n",
      "59\n",
      "img-6...\n",
      "66\n",
      "img-7...\n",
      "79\n",
      "img-8...\n",
      "86\n",
      "img-9...\n",
      "93\n",
      "img-10...\n",
      "100\n",
      "img-11...\n",
      "113\n",
      "img-12...\n",
      "127\n",
      "img-13...\n",
      "134\n",
      "img-14...\n",
      "141\n",
      "img-15...\n",
      "154\n",
      "img-16...\n",
      "161\n",
      "img-17...\n",
      "168\n",
      "img-18...\n",
      "175\n",
      "img-19...\n",
      "182\n",
      "img-20...\n",
      "189\n",
      "img-21...\n",
      "220\n",
      "img-22...\n",
      "228\n",
      "img-23...\n",
      "235\n",
      "img-24...\n",
      "242\n",
      "img-25...\n",
      "255\n",
      "img-26...\n",
      "262\n",
      "img-27...\n",
      "269\n",
      "img-28...\n",
      "288\n",
      "img-29...\n",
      "301\n",
      "img-30...\n",
      "308\n",
      "img-31...\n",
      "CONTACT CLARA - THERE MIGHT BE AN ISSUE WITH THE FILE UNLESS YOU ARE AT THE END\n"
     ]
    }
   ],
   "source": [
    "# run through all files\n",
    "df_og = pd.read_csv(filename, keep_default_na=False)\n",
    "\n",
    "val = 6 #might change\n",
    "if len(list(ast.literal_eval(df_og.iloc[val]['responses']).values())[0])>0:\n",
    "    \n",
    "    df = df_og\n",
    "    if 'checked' not in df.columns:\n",
    "        df['checked'] = pd.Series(dtype='int')\n",
    "\n",
    "    filled_trials = df[val+1:].loc[df['trial_type'] == 'img_slider_SML_OML']\n",
    "    slider_trial_idx = list(filled_trials.index)\n",
    "#     if 3 in slider_trial_idx: #getting rid of the first one that does not require fill in\n",
    "#         t = slider_trial_idx.index(3)\n",
    "#         slider_trial_idx.pop(t)\n",
    "\n",
    "    for i,idx in enumerate(tqdm(slider_trial_idx)):\n",
    "        print(idx)\n",
    "        print(f'img-{i+1}...')\n",
    "        if (df.loc[idx]['checked'] != '1') and (df.loc[idx]['checked'] != '1.0'):\n",
    "            print(df.loc[idx]['checked'])\n",
    "            temp = df.loc[idx-4:idx]\n",
    "            if len(list(temp['input1'])[0])>0:\n",
    "                madlib = list(temp['ML1'])[0] + '\\033[1m' + list(temp['input1'])[0] + '\\033[0m' + list(temp['ML2'])[0] + '\\033[1m' + list(temp['input2'])[0] + '\\033[0m' +  list(temp['ML3'])[0] + '\\033[1m' + list(temp['input3'])[0] + '\\033[0m' \n",
    "                madlib_for_checking = list(temp['ML1'])[0] + list(temp['input1'])[0] + list(temp['ML2'])[0] +  list(temp['input2'])[0] +  list(temp['ML3'])[0] + list(temp['input3'])[0] \n",
    "                idx_for_input = idx-4\n",
    "#             if len(list(temp['input1'])[1])>0:\n",
    "#                 madlib = list(temp['ML1'])[0] + '\\033[1m' + list(temp['input1'])[1] + '\\033[0m' + list(temp['ML2'])[0] + '\\033[1m' + list(temp['input2'])[1] + '\\033[0m' +  list(temp['ML3'])[0] + '\\033[1m' + list(temp['input3'])[1] + '\\033[0m' \n",
    "#                 madlib_for_checking = list(temp['ML1'])[0] + list(temp['input1'])[1] + list(temp['ML2'])[0] + list(temp['input2'])[1] +   list(temp['ML3'])[0] +  list(temp['input3'])[1] \n",
    "#                 idx_for_input = idx-1\n",
    "            \n",
    "            print(f'The madlib was \\n{madlib} \\n')\n",
    "            print(tool.check(madlib_for_checking))\n",
    "\n",
    "            y_n = input('Are there any issues y/n ')\n",
    "\n",
    "            if y_n=='y':\n",
    "                y_n2 = input('Do you know how to fix this issue (y) or should this trial be discarded? (n) y/n')\n",
    "                \n",
    "                if len(list(temp['input1'])[0])>0:\n",
    "                    list_input = [list(temp['input1'])[0],list(temp['input2'])[0],list(temp['input3'])[0]]\n",
    "                if len(list(temp['input1'])[1])>0:\n",
    "                    list_input = [list(temp['input1'])[1],list(temp['input2'])[1],list(temp['input3'])[1]]\n",
    "                \n",
    "                if y_n2 == 'y':\n",
    "                    issue_with_trial(1,df,filename,idx_for_input)\n",
    "                    issue_with_trial(2,df,filename,idx_for_input)\n",
    "                    issue_with_trial(3,df,filename,idx_for_input)\n",
    "\n",
    "                elif y_n2 == 'n':\n",
    "                    df = set_to_1(df,idx)\n",
    "                    df.at[idx,'checked'] = '1'\n",
    "                    df.to_csv(filename)\n",
    "                else:\n",
    "                    print('ERROR! Enter y or n ')\n",
    "                    break\n",
    "\n",
    "            elif y_n =='n':\n",
    "                df.at[idx,'checked'] = '1'\n",
    "                df.to_csv(filename)\n",
    "            else:\n",
    "                print('ERROR! Enter y or n ')\n",
    "                df.at[idx,'checked'] = '0'\n",
    "                break\n",
    "            print('////////////////////////////////////////////')\n",
    "        else: \n",
    "            df.at[idx,'checked'] = '1'\n",
    "\n",
    "        df.to_csv(filename)\n",
    "    \n",
    "    else:\n",
    "        print('CONTACT CLARA - THERE MIGHT BE AN ISSUE WITH THE FILE UNLESS YOU ARE AT THE END')\n",
    "\n"
   ]
  },
  {
   "cell_type": "code",
   "execution_count": null,
   "metadata": {},
   "outputs": [],
   "source": []
  },
  {
   "cell_type": "markdown",
   "metadata": {},
   "source": [
    "# Now do condition 2 (CONTROL TRIALS - indices are different, but there are only 15)\n"
   ]
  },
  {
   "cell_type": "code",
   "execution_count": 295,
   "metadata": {},
   "outputs": [],
   "source": [
    "#rerun this because the index changes! \n",
    "def set_to_1(df,idx):\n",
    "    print('modifying the SML_remove column!')\n",
    "    for val in [0,1,2,3,4]: \n",
    "        df.at[idx-val,'SML_remove'] = 1\n",
    "    return df"
   ]
  },
  {
   "cell_type": "code",
   "execution_count": 296,
   "metadata": {},
   "outputs": [
    {
     "data": {
      "application/vnd.jupyter.widget-view+json": {
       "model_id": "a4af20fead844867af9e7ce3c848a01e",
       "version_major": 2,
       "version_minor": 0
      },
      "text/plain": [
       "  0%|          | 0/15 [00:00<?, ?it/s]"
      ]
     },
     "metadata": {},
     "output_type": "display_data"
    },
    {
     "name": "stdout",
     "output_type": "stream",
     "text": [
      "52\n",
      "img-1...\n",
      "\n",
      "The madlib was \n",
      "The woman on the left is a \u001b[1mnurse\u001b[0m. They are standing in/at \u001b[1mthe side of a military parade\u001b[0m and waiting for \u001b[1mto see the child's father\u001b[0m \n",
      "\n",
      "[]\n",
      "Are there any issues y/n n\n",
      "////////////////////////////////////////////\n",
      "72\n",
      "img-2...\n",
      "\n",
      "The madlib was \n",
      "These people are located in/at \u001b[1mVietnam\u001b[0m. One of the young children is talking to \u001b[1ma solider\u001b[0m because \u001b[1mhe offered her some food\u001b[0m \n",
      "\n",
      "[]\n",
      "Are there any issues y/n n\n",
      "////////////////////////////////////////////\n",
      "106\n",
      "img-3...\n",
      "\n",
      "The madlib was \n",
      "These people are \u001b[1mhugging \u001b[0m the tree because \u001b[1mit is so old and respected\u001b[0m. The person in the background is running towards them in order to \u001b[1mjoin in on the fun\u001b[0m \n",
      "\n",
      "[Match({'ruleId': 'WHITESPACE_RULE', 'message': 'Possible typo: you repeated a whitespace', 'replacements': [' '], 'offsetInContext': 24, 'context': 'These people are hugging  the tree because it is so old and respec...', 'offset': 24, 'errorLength': 2, 'category': 'TYPOGRAPHY', 'ruleIssueType': 'whitespace', 'sentence': 'These people are hugging  the tree because it is so old and respected.'})]\n",
      "Are there any issues y/n n\n",
      "////////////////////////////////////////////\n",
      "120\n",
      "img-4...\n",
      "\n",
      "The madlib was \n",
      "The woman is walking towards \u001b[1ma hotel\u001b[0m. This man is trying to \u001b[1mhold the door for her\u001b[0m. His presence makes her feel \u001b[1mappreciated\u001b[0m \n",
      "\n",
      "[]\n",
      "Are there any issues y/n n\n",
      "////////////////////////////////////////////\n",
      "147\n",
      "img-5...\n",
      "\n",
      "The madlib was \n",
      "This is taking place at/in \u001b[1mestate\u001b[0m. The man in front is there in order to \u001b[1mexecute the plans\u001b[0m while the men in the robes around him are \u001b[1mlisten earnestly\u001b[0m \n",
      "\n",
      "[Match({'ruleId': 'NOUN_AROUND_IT', 'message': 'Consider using “the surrounding robes”.', 'replacements': ['the surrounding robes'], 'offsetInContext': 43, 'context': '...r to execute the plans while the men in the robes around him are listen earnestly', 'offset': 108, 'errorLength': 20, 'category': 'REDUNDANCY', 'ruleIssueType': 'style', 'sentence': 'The man in front is there in order to execute the plans while the men in the robes around him are listen earnestly'}), Match({'ruleId': 'BEEN_PART_AGREEMENT', 'message': 'Consider using either the past participle “listened” or the present participle “listening” here.', 'replacements': ['listened', 'listening'], 'offsetInContext': 43, 'context': '...ile the men in the robes around him are listen earnestly', 'offset': 133, 'errorLength': 6, 'category': 'GRAMMAR', 'ruleIssueType': 'grammar', 'sentence': 'The man in front is there in order to execute the plans while the men in the robes around him are listen earnestly'})]\n",
      "Are there any issues y/n y\n",
      "Do you know how to fix this issue (y) or should this trial be discarded? (n) y/ny\n",
      "Is there an issue with blank 1 y/n: n\n",
      "Is there an issue with blank 2 y/n: n\n",
      "Is there an issue with blank 3 y/n: y\n",
      "What should input 3 look like? It is currently  listen earnestly:listening earnestly \n",
      "////////////////////////////////////////////\n",
      "195\n",
      "img-6...\n",
      "\n",
      "The madlib was \n",
      "Outside of \u001b[1mtheir home\u001b[0m, this group is currently organizing \u001b[1mcoconut shells\u001b[0m on the ground for \u001b[1minventory taking\u001b[0m \n",
      "\n",
      "[Match({'ruleId': 'OUTSIDE_OF', 'message': 'This phrase is redundant. Consider using “Outside”.', 'replacements': ['Outside'], 'offsetInContext': 0, 'context': 'Outside of their home, this group is currently org...', 'offset': 0, 'errorLength': 10, 'category': 'REDUNDANCY', 'ruleIssueType': 'style', 'sentence': 'Outside of their home, this group is currently organizing coconut shells on the ground for inventory taking'})]\n",
      "Are there any issues y/n n\n",
      "////////////////////////////////////////////\n",
      "201\n",
      "img-7...\n",
      "\n",
      "The madlib was \n",
      "This man is a(n) \u001b[1mdoctor\u001b[0m. He is walking towards \u001b[1mthe hospital\u001b[0m and he feels \u001b[1mprepared\u001b[0m \n",
      "\n",
      "[]\n",
      "Are there any issues y/n n\n",
      "////////////////////////////////////////////\n",
      "207\n",
      "img-8...\n",
      "\n",
      "The madlib was \n",
      "A sailor and a boy are standing by \u001b[1ma storefront\u001b[0m. The sailor is there in order to \u001b[1mread a memoir\u001b[0m. Behind the pillar, the kid is thinking about \u001b[1mhis tough luck\u001b[0m \n",
      "\n",
      "[]\n",
      "Are there any issues y/n n\n",
      "////////////////////////////////////////////\n",
      "213\n",
      "img-9...\n",
      "\n",
      "The madlib was \n",
      "The children are gathered at \u001b[1mthe local photo shop\u001b[0m where they are looking at images of \u001b[1mbody builders and cowboys\u001b[0m. They are feeling \u001b[1minspired\u001b[0m \n",
      "\n",
      "[]\n",
      "Are there any issues y/n n\n",
      "////////////////////////////////////////////\n",
      "248\n",
      "img-10...\n",
      "\n",
      "The madlib was \n",
      "These young children are standing behind the fence of a(n) \u001b[1moil working rig\u001b[0m because they are \u001b[1mcurrently stationed there\u001b[0m. They are all feeling \u001b[1mexhausted\u001b[0m \n",
      "\n",
      "[]\n",
      "Are there any issues y/n n\n",
      "////////////////////////////////////////////\n",
      "275\n",
      "img-11...\n",
      "\n",
      "The madlib was \n",
      "The people are standing in/at/on \u001b[1man air show viewing area\u001b[0m because \u001b[1mthey are there to specta\u001b[0m. They are looking at \u001b[1mthe planes above\u001b[0m \n",
      "\n",
      "[Match({'ruleId': 'MORFOLOGIK_RULE_EN_US', 'message': 'Possible spelling mistake found.', 'replacements': ['spectra', 'spec ta'], 'offsetInContext': 43, 'context': '... viewing area because they are there to specta. They are looking at the planes above', 'offset': 84, 'errorLength': 6, 'category': 'TYPOS', 'ruleIssueType': 'misspelling', 'sentence': 'The people are standing in/at/on an air show viewing area because they are there to specta.'})]\n",
      "Are there any issues y/n y\n",
      "Do you know how to fix this issue (y) or should this trial be discarded? (n) y/ny\n",
      "Is there an issue with blank 1 y/n: n\n",
      "Is there an issue with blank 2 y/n: y\n",
      "What should input 2 look like? It is currently  they are there to specta:they are there to spectate\n",
      "Is there an issue with blank 3 y/n: n\n",
      "////////////////////////////////////////////\n",
      "281\n",
      "img-12...\n",
      "\n",
      "The madlib was \n",
      "This group of people is currently \u001b[1mhaving a dance party\u001b[0m because \u001b[1ma holiday\u001b[0m is occurring. They are feeling \u001b[1mcelebratory\u001b[0m \n",
      "\n",
      "[]\n",
      "Are there any issues y/n n\n",
      "////////////////////////////////////////////\n",
      "294\n",
      "img-13...\n",
      "\n",
      "The madlib was \n",
      "The group of men is playing for \u001b[1mthe local orchestra\u001b[0m. The crowd behind them seems \u001b[1mto be fans\u001b[0m, and the musicians are feeling \u001b[1mhappy but tired\u001b[0m \n",
      "\n",
      "[]\n",
      "Are there any issues y/n n\n",
      "////////////////////////////////////////////\n",
      "314\n",
      "img-14...\n",
      "\n",
      "The madlib was \n",
      "This group of boys is running because \u001b[1mit is summer time\u001b[0m. They are in/at \u001b[1mtheir village\u001b[0m. They are feeling \u001b[1mexcited to enjoy the afternoon\u001b[0m \n",
      "\n",
      "[Match({'ruleId': 'SUMMER_TIME', 'message': 'Consider using “summer”.', 'replacements': ['summer'], 'offsetInContext': 43, 'context': '... group of boys is running because it is summer time. They are in/at their village. They are...', 'offset': 44, 'errorLength': 11, 'category': 'REDUNDANCY', 'ruleIssueType': 'style', 'sentence': 'This group of boys is running because it is summer time.'})]\n",
      "Are there any issues y/n n\n",
      "////////////////////////////////////////////\n",
      "320\n",
      "img-15...\n",
      "\n",
      "The madlib was \n",
      "These kids are looking at \u001b[1mthe camera\u001b[0m. The one in the middle is wondering \u001b[1mif they have taken the photo yet\u001b[0m. The boy on the right is holding up his fingers because \u001b[1mhe is intrigued and waving at the camera\u001b[0m \n",
      "\n",
      "[]\n",
      "Are there any issues y/n n\n",
      "////////////////////////////////////////////\n"
     ]
    }
   ],
   "source": [
    "# run through all files\n",
    "df_og = pd.read_csv(filename, keep_default_na=False)\n",
    "\n",
    "val = 6 #might change\n",
    "if len(list(ast.literal_eval(df_og.iloc[val]['responses']).values())[0])>0:\n",
    "    \n",
    "    df = df_og\n",
    "    if 'checked' not in df.columns:\n",
    "        df['checked'] = pd.Series(dtype='int')\n",
    "\n",
    "    filled_trials = df[val+1:].loc[df['trial_type'] == 'img_SML_sliderSML2']\n",
    "    slider_trial_idx = list(filled_trials.index)\n",
    "#     if 3 in slider_trial_idx: #getting rid of the first one that does not require fill in\n",
    "#         t = slider_trial_idx.index(3)\n",
    "#         slider_trial_idx.pop(t)\n",
    "\n",
    "    for i,idx in enumerate(tqdm(slider_trial_idx)):\n",
    "        print(idx)\n",
    "        print(f'img-{i+1}...')\n",
    "        if (df.loc[idx]['checked'] != '1') and (df.loc[idx]['checked'] != '1.0'):\n",
    "            print(df.loc[idx]['checked'])\n",
    "            temp = df.loc[idx-3:idx]\n",
    "            if len(list(temp['input1'])[0])>0:\n",
    "                madlib = list(temp['ML1'])[0] + '\\033[1m' + list(temp['input1'])[0] + '\\033[0m' + list(temp['ML2'])[0] + '\\033[1m' + list(temp['input2'])[0] + '\\033[0m' +  list(temp['ML3'])[0] + '\\033[1m' + list(temp['input3'])[0] + '\\033[0m' \n",
    "                madlib_for_checking = list(temp['ML1'])[0] + list(temp['input1'])[0] + list(temp['ML2'])[0] +  list(temp['input2'])[0] +  list(temp['ML3'])[0] + list(temp['input3'])[0] \n",
    "                idx_for_input = idx-3\n",
    "#             if len(list(temp['input1'])[1])>0:\n",
    "#                 madlib = list(temp['ML1'])[0] + '\\033[1m' + list(temp['input1'])[1] + '\\033[0m' + list(temp['ML2'])[0] + '\\033[1m' + list(temp['input2'])[1] + '\\033[0m' +  list(temp['ML3'])[0] + '\\033[1m' + list(temp['input3'])[1] + '\\033[0m' \n",
    "#                 madlib_for_checking = list(temp['ML1'])[0] + list(temp['input1'])[1] + list(temp['ML2'])[0] + list(temp['input2'])[1] +   list(temp['ML3'])[0] +  list(temp['input3'])[1] \n",
    "#                 idx_for_input = idx-1\n",
    "            \n",
    "            print(f'The madlib was \\n{madlib} \\n')\n",
    "            print(tool.check(madlib_for_checking))\n",
    "\n",
    "            y_n = input('Are there any issues y/n ')\n",
    "\n",
    "            if y_n=='y':\n",
    "                y_n2 = input('Do you know how to fix this issue (y) or should this trial be discarded? (n) y/n')\n",
    "                \n",
    "                if len(list(temp['input1'])[0])>0:\n",
    "                    list_input = [list(temp['input1'])[0],list(temp['input2'])[0],list(temp['input3'])[0]]\n",
    "                if len(list(temp['input1'])[1])>0:\n",
    "                    list_input = [list(temp['input1'])[1],list(temp['input2'])[1],list(temp['input3'])[1]]\n",
    "                \n",
    "                if y_n2 == 'y':\n",
    "                    issue_with_trial(1,df,filename,idx_for_input)\n",
    "                    issue_with_trial(2,df,filename,idx_for_input)\n",
    "                    issue_with_trial(3,df,filename,idx_for_input)\n",
    "\n",
    "                elif y_n2 == 'n':\n",
    "                    df = set_to_1(df,idx)\n",
    "                    df.at[idx,'checked'] = '1'\n",
    "                    df.to_csv(filename)\n",
    "                else:\n",
    "                    print('ERROR! Enter y or n ')\n",
    "                    break\n",
    "\n",
    "            elif y_n =='n':\n",
    "                df.at[idx,'checked'] = '1'\n",
    "                df.to_csv(filename)\n",
    "            else:\n",
    "                print('ERROR! Enter y or n ')\n",
    "                df.at[idx,'checked'] = '0'\n",
    "                break\n",
    "            print('////////////////////////////////////////////')\n",
    "        else: \n",
    "            df.at[idx,'checked'] = '1'\n",
    "\n",
    "        df.to_csv(filename)\n",
    "    \n"
   ]
  },
  {
   "cell_type": "code",
   "execution_count": null,
   "metadata": {},
   "outputs": [],
   "source": []
  },
  {
   "cell_type": "code",
   "execution_count": 232,
   "metadata": {},
   "outputs": [],
   "source": [
    "# Define a function to correct misspelled words using LanguageTool\n",
    "def correct_words(df, column_name):\n",
    "    tool = language_tool_python.LanguageTool('en-US')\n",
    "    for index, row in df.iterrows():\n",
    "        text = row[column_name]\n",
    "        matches = tool.check(text)\n",
    "        for match in reversed(matches):\n",
    "            if match.ruleId == \"MORFOLOGIK_RULE_EN_US\" and match.replacements:\n",
    "                corrected_text = text[:match.offset] + match.replacements[0] + text[match.offset + len(match.errorLength):]\n",
    "                df.at[index, column_name] = corrected_text\n",
    "    return df"
   ]
  },
  {
   "cell_type": "code",
   "execution_count": null,
   "metadata": {},
   "outputs": [],
   "source": []
  }
 ],
 "metadata": {
  "kernelspec": {
   "display_name": "Python 3",
   "language": "python",
   "name": "python3"
  },
  "language_info": {
   "codemirror_mode": {
    "name": "ipython",
    "version": 3
   },
   "file_extension": ".py",
   "mimetype": "text/x-python",
   "name": "python",
   "nbconvert_exporter": "python",
   "pygments_lexer": "ipython3",
   "version": "3.8.8"
  }
 },
 "nbformat": 4,
 "nbformat_minor": 4
}
