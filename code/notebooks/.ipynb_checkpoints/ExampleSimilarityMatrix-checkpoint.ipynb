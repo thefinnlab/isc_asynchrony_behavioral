{
 "cells": [
  {
   "cell_type": "code",
   "execution_count": null,
   "id": "fad1798e",
   "metadata": {},
   "outputs": [],
   "source": [
    "%load_ext autoreload\n",
    "%autoreload 2\n",
    "\n",
    "# load all necessary packages \n",
    "import sys, os\n",
    "from gensim.models import KeyedVectors\n",
    "from subprocess import run\n",
    "import numpy as np\n",
    "import pandas as pd\n",
    "\n",
    "# custom utils \n",
    "from nlp_utils import download_model, load_glove_model, get_basis_vector, get_word_score, get_bert_model, extract_response_embeddings\n",
    "\n"
   ]
  },
  {
   "cell_type": "markdown",
   "id": "0dd27d12",
   "metadata": {},
   "source": [
    "Load GloVe model"
   ]
  },
  {
   "cell_type": "code",
   "execution_count": null,
   "id": "8c0829a3",
   "metadata": {},
   "outputs": [],
   "source": [
    "#set model to use\n",
    "model_name = 'glove.42B.300d'\n",
    "\n",
    "# set directories\n",
    "base_dir = '/dartfs/rc/lab/F/FinnLab/tommy/primals_predictions/'\n",
    "models_dir = os.path.join(base_dir, 'models')\n",
    "stim_dir = os.path.join(base_dir, 'stimuli')"
   ]
  }
 ],
 "metadata": {
  "kernelspec": {
   "display_name": "Python 3 (ipykernel)",
   "language": "python",
   "name": "python3"
  },
  "language_info": {
   "codemirror_mode": {
    "name": "ipython",
    "version": 3
   },
   "file_extension": ".py",
   "mimetype": "text/x-python",
   "name": "python",
   "nbconvert_exporter": "python",
   "pygments_lexer": "ipython3",
   "version": "3.7.13"
  }
 },
 "nbformat": 4,
 "nbformat_minor": 5
}
