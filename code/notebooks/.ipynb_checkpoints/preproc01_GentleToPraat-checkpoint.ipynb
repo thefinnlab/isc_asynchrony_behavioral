{
 "cells": [
  {
   "cell_type": "code",
   "execution_count": 78,
   "id": "b4491ce9",
   "metadata": {},
   "outputs": [],
   "source": [
    "import os, sys\n",
    "import numpy as np"
   ]
  },
  {
   "cell_type": "code",
   "execution_count": 112,
   "id": "524da7f4",
   "metadata": {},
   "outputs": [],
   "source": [
    "\"\"\"\n",
    "This script will take a CSV of transcription, file path pairs and make textgrids for you\n",
    "These are saved in a new folder (textgrids)\n",
    "\"\"\"\n",
    "\n",
    "import pandas as pd\n",
    "from contextlib import contextmanager\n",
    "import signal, json, wave, contextlib\n",
    "from praatio import textgrid as tgio\n",
    "\n",
    "def alignment_to_textgrid(alignment_fn, path):\n",
    "    \"\"\"\n",
    "    Take a filename and its associated transcription and fill in all the gaps\n",
    "    \"\"\"\n",
    "    with contextlib.closing(wave.open(path, 'r')) as f:\n",
    "        frames = f.getnframes()\n",
    "        rate = f.getframerate()\n",
    "        duration = frames / float(rate)\n",
    "    rearranged_words = []\n",
    "    file_ons = 0\n",
    "    try:\n",
    "        # load the alignment file\n",
    "        with open(alignment_fn, encoding='utf-8') as f:\n",
    "            content = json.load(f)\n",
    "        all_ons = content['words'][0]['start']\n",
    "        \n",
    "        for ix, word in enumerate(content['words']):\n",
    "            word_ons = np.round(word['start'], 3)\n",
    "            word_off = np.round(word['end'], 3)\n",
    "            target = word['alignedWord']\n",
    "#             if (ix >= 1) and (ix < (len(content['words']))):\n",
    "#                 prev_word = content['words'][ix - 1]\n",
    "#                 prev_off = np.round(prev_word['end'], 3)\n",
    "#                 if word['start'] > prev_off:\n",
    "#                     rearranged_words.append((prev_off, word_ons, ''))\n",
    "#             elif ix == 0:\n",
    "#                 rearranged_words.append((file_ons, all_ons, ''))  # make empty first tier\n",
    "            rearranged_words.append((word_ons, word_off, target))\n",
    "        if word_off < duration:\n",
    "            rearranged_words.append((word_off, duration, ''))\n",
    "    except:\n",
    "        target =  content['words'][ix]['word']\n",
    "        prev_word_off = content['words'][ix-1]['end']\n",
    "        next_word_ons = content['words'][ix+1]['start']\n",
    "        rearranged_words.append((prev_word_off, next_word_ons, target))\n",
    "    \n",
    "    tg = tgio.Textgrid()\n",
    "    tg.addTier(tgio.IntervalTier('word', rearranged_words))\n",
    "    return tg\n",
    "\n",
    "\n",
    "def save_textgrid(textgrid, path):\n",
    "    if path is not None:\n",
    "        textgrid.save(path)"
   ]
  },
  {
   "cell_type": "code",
   "execution_count": 108,
   "id": "602bf23c",
   "metadata": {},
   "outputs": [],
   "source": [
    "base_dir = '/dartfs/rc/lab/F/FinnLab/tommy/isc_asynchrony_behavioral/'\n",
    "gentle_dir = os.path.join(base_dir, 'stimuli', 'gentle')\n",
    "\n",
    "alignment_fn = os.path.join(gentle_dir, 'black', 'align.json')\n",
    "audio_fn = os.path.join(gentle_dir, 'black', 'a.wav')\n",
    "\n",
    "rearranged = alignment_to_textgrid(alignment_fn, audio_fn)"
   ]
  },
  {
   "cell_type": "code",
   "execution_count": 113,
   "id": "645a35e2",
   "metadata": {},
   "outputs": [
    {
     "ename": "AttributeError",
     "evalue": "'Textgrid' object has no attribute 'openTextgrid'",
     "output_type": "error",
     "traceback": [
      "\u001b[0;31m---------------------------------------------------------------------------\u001b[0m",
      "\u001b[0;31mAttributeError\u001b[0m                            Traceback (most recent call last)",
      "\u001b[0;32m/tmp/ipykernel_20868/3051328235.py\u001b[0m in \u001b[0;36m<module>\u001b[0;34m\u001b[0m\n\u001b[0;32m----> 1\u001b[0;31m \u001b[0mtg\u001b[0m \u001b[0;34m=\u001b[0m \u001b[0mtg\u001b[0m\u001b[0;34m.\u001b[0m\u001b[0mopenTextgrid\u001b[0m\u001b[0;34m(\u001b[0m\u001b[0;34m\"black_longtext_minute_1_adjusted.TextGrid\"\u001b[0m\u001b[0;34m,\u001b[0m \u001b[0;32mFalse\u001b[0m\u001b[0;34m)\u001b[0m\u001b[0;34m\u001b[0m\u001b[0;34m\u001b[0m\u001b[0m\n\u001b[0m",
      "\u001b[0;31mAttributeError\u001b[0m: 'Textgrid' object has no attribute 'openTextgrid'"
     ]
    }
   ],
   "source": [
    "tg = tg.openTextgrid(\"black_longtext_minute_1_adjusted.TextGrid\", False)"
   ]
  },
  {
   "cell_type": "code",
   "execution_count": 110,
   "id": "1d78b18a",
   "metadata": {},
   "outputs": [
    {
     "data": {
      "text/plain": [
       "['completed_cleaned.txt',\n",
       " '.ipynb_checkpoints',\n",
       " 'preproc01_GentleToPraat.ipynb',\n",
       " 'task-bronx_gpt2-predictions_context-25.csv',\n",
       " 'task-black_gpt2-predictions_context-25.csv',\n",
       " 'analysis02_ProcessNWPData.ipynb',\n",
       " 'black.txt',\n",
       " 'next-word-prediction_plotting.Rmd',\n",
       " 'analysis03_MultimodalPrediction.ipynb',\n",
       " 'task-black_gpt2-predictions_context-100.csv',\n",
       " 'bronx.txt',\n",
       " 'black_longtext_minute_1_adjusted.TextGrid',\n",
       " 'next-word-prediction_plotting.nb.html',\n",
       " 'analysis01_PrepNextWordTranscripts.ipynb']"
      ]
     },
     "execution_count": 110,
     "metadata": {},
     "output_type": "execute_result"
    }
   ],
   "source": [
    "os.listdir()"
   ]
  },
  {
   "cell_type": "code",
   "execution_count": 104,
   "id": "0cfffd05",
   "metadata": {},
   "outputs": [],
   "source": [
    "tg = tgio.Textgrid()\n",
    "# tg.addTier(tgio.IntervalTier('word', rearranged_words))"
   ]
  },
  {
   "cell_type": "code",
   "execution_count": 105,
   "id": "7bb999a1",
   "metadata": {},
   "outputs": [],
   "source": [
    "tg.addTier(tgio.IntervalTier('word', rearranged))"
   ]
  },
  {
   "cell_type": "code",
   "execution_count": 27,
   "id": "6311bc61",
   "metadata": {},
   "outputs": [],
   "source": [
    "\n",
    "# json.loads(alignment_fn.to_json())"
   ]
  },
  {
   "cell_type": "code",
   "execution_count": 23,
   "id": "6a12dfc5",
   "metadata": {},
   "outputs": [
    {
     "ename": "AttributeError",
     "evalue": "'dict' object has no attribute 'to_json'",
     "output_type": "error",
     "traceback": [
      "\u001b[0;31m---------------------------------------------------------------------------\u001b[0m",
      "\u001b[0;31mAttributeError\u001b[0m                            Traceback (most recent call last)",
      "\u001b[0;32m/tmp/ipykernel_20868/2114043375.py\u001b[0m in \u001b[0;36m<module>\u001b[0;34m\u001b[0m\n\u001b[0;32m----> 1\u001b[0;31m \u001b[0mdata\u001b[0m\u001b[0;34m.\u001b[0m\u001b[0mto_json\u001b[0m\u001b[0;34m(\u001b[0m\u001b[0;34m)\u001b[0m\u001b[0;34m\u001b[0m\u001b[0;34m\u001b[0m\u001b[0m\n\u001b[0m",
      "\u001b[0;31mAttributeError\u001b[0m: 'dict' object has no attribute 'to_json'"
     ]
    }
   ],
   "source": [
    "data.to_json()"
   ]
  },
  {
   "cell_type": "code",
   "execution_count": 107,
   "id": "73f59919",
   "metadata": {},
   "outputs": [],
   "source": [
    "tg.save('test', 'long_textgrid', True)"
   ]
  }
 ],
 "metadata": {
  "kernelspec": {
   "display_name": "Python 3 (ipykernel)",
   "language": "python",
   "name": "python3"
  },
  "language_info": {
   "codemirror_mode": {
    "name": "ipython",
    "version": 3
   },
   "file_extension": ".py",
   "mimetype": "text/x-python",
   "name": "python",
   "nbconvert_exporter": "python",
   "pygments_lexer": "ipython3",
   "version": "3.7.13"
  }
 },
 "nbformat": 4,
 "nbformat_minor": 5
}
