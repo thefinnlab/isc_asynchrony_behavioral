{
 "cells": [
  {
   "cell_type": "code",
   "execution_count": null,
   "id": "c74b75aa",
   "metadata": {},
   "outputs": [],
   "source": [
    "%load_ext autoreload\n",
    "%autoreload 2\n",
    "\n",
    "import os, sys\n",
    "import glob\n",
    "import numpy as np\n",
    "import pandas as pd\n",
    "import subprocess\n",
    "from praatio import textgrid as tgio\n",
    "import argparse\n",
    "\n",
    "sys.path.append('../utils/')\n",
    "\n",
    "from config import *\n",
    "import dataset_utils as utils\n",
    "from preproc_utils import cut_stimulus_segments, get_cut_times"
   ]
  },
  {
   "cell_type": "code",
   "execution_count": 34,
   "id": "8c0b2e32",
   "metadata": {},
   "outputs": [],
   "source": [
    "experiment_version = 'final-multimodal-01'\n",
    "task = 'howtodraw'\n",
    "stim_type = 'video'\n",
    "subject = 'sub-00001'\n",
    "\n",
    "# set directories\n",
    "stim_dir = os.path.join(BASE_DIR, 'stimuli')\n",
    "presentation_orders_dir = os.path.join(stim_dir, 'presentation_orders', experiment_version, task)\n",
    "\n",
    "if stim_type == 'video':\n",
    "    stim_fn = glob.glob(os.path.join(stim_dir, 'video', f'{task}*.mp4'))\n",
    "    jspsych_out_dir = os.path.join(presentation_orders_dir, 'jspsych-video')\n",
    "else:\n",
    "    stim_fn = glob.glob(os.path.join(stim_dir, 'audio', f'{task}*.wav'))\n",
    "    jspsych_out_dir = os.path.join(presentation_orders_dir, 'jspsych')"
   ]
  },
  {
   "cell_type": "code",
   "execution_count": 35,
   "id": "dca0362a",
   "metadata": {},
   "outputs": [],
   "source": [
    "\n",
    "# load preprocessed transcript and find indices that are to be predicted\n",
    "df_preproc_fn = os.path.join(presentation_orders_dir, 'preproc', f'{subject}_task-{task}.csv')\n",
    "df_preproc = pd.read_csv(df_preproc_fn)"
   ]
  },
  {
   "cell_type": "code",
   "execution_count": 78,
   "id": "ab9eb104",
   "metadata": {},
   "outputs": [],
   "source": [
    "\n",
    "# Create sequential pairs\n",
    "candidate_idxs = np.where(df_preproc['NWP_Candidate'].to_numpy())[0] # First get indices\n",
    "candidate_idxs = np.concatenate([[0], candidate_idxs], axis=0) # Add the first item for the first cut\n",
    "segments = np.vstack((candidate_idxs[:-1], candidate_idxs[1:]-1)).T # Stack and make pairs\n",
    "segment_indices = segments.tolist()\n"
   ]
  },
  {
   "cell_type": "code",
   "execution_count": 86,
   "id": "3a074716",
   "metadata": {},
   "outputs": [
    {
     "name": "stdout",
     "output_type": "stream",
     "text": [
      "1.840572650987489\n"
     ]
    }
   ],
   "source": [
    "print (onset)"
   ]
  },
  {
   "cell_type": "code",
   "execution_count": 84,
   "id": "37960eb9",
   "metadata": {},
   "outputs": [
    {
     "name": "stderr",
     "output_type": "stream",
     "text": [
      "Cutting stimulus segments:   0%|          | 0/81 [00:00<?, ?it/s]\n"
     ]
    },
    {
     "ename": "SystemExit",
     "evalue": "0",
     "output_type": "error",
     "traceback": [
      "An exception has occurred, use %tb to see the full traceback.\n",
      "\u001b[0;31mSystemExit\u001b[0m\u001b[0;31m:\u001b[0m 0\n"
     ]
    }
   ],
   "source": [
    "from tqdm import tqdm\n",
    "\n",
    "for i, (start_idx, end_idx) in enumerate(tqdm(segment_indices, desc=\"Cutting stimulus segments\")):\n",
    "    onset, offset, duration = get_cut_times(df_preproc, start_idx, end_idx)\n",
    "\n",
    "    sys.exit(0)\n",
    "    print (onset)"
   ]
  },
  {
   "cell_type": "code",
   "execution_count": 79,
   "id": "5365818b",
   "metadata": {},
   "outputs": [
    {
     "data": {
      "text/plain": [
       "[[0, 20],\n",
       " [21, 59],\n",
       " [60, 121],\n",
       " [122, 141],\n",
       " [142, 178],\n",
       " [179, 207],\n",
       " [208, 287],\n",
       " [288, 298],\n",
       " [299, 332],\n",
       " [333, 343],\n",
       " [344, 378],\n",
       " [379, 403],\n",
       " [404, 416],\n",
       " [417, 429],\n",
       " [430, 454],\n",
       " [455, 484],\n",
       " [485, 497],\n",
       " [498, 509],\n",
       " [510, 532],\n",
       " [533, 570],\n",
       " [571, 583],\n",
       " [584, 681],\n",
       " [682, 696],\n",
       " [697, 717],\n",
       " [718, 733],\n",
       " [734, 752],\n",
       " [753, 793],\n",
       " [794, 825],\n",
       " [826, 837],\n",
       " [838, 849],\n",
       " [850, 864],\n",
       " [865, 876],\n",
       " [877, 887],\n",
       " [888, 909],\n",
       " [910, 924],\n",
       " [925, 952],\n",
       " [953, 971],\n",
       " [972, 1011],\n",
       " [1012, 1024],\n",
       " [1025, 1039],\n",
       " [1040, 1055],\n",
       " [1056, 1064],\n",
       " [1065, 1069],\n",
       " [1070, 1075],\n",
       " [1076, 1081],\n",
       " [1082, 1093],\n",
       " [1094, 1100],\n",
       " [1101, 1106],\n",
       " [1107, 1153],\n",
       " [1154, 1175],\n",
       " [1176, 1187],\n",
       " [1188, 1228],\n",
       " [1229, 1262],\n",
       " [1263, 1283],\n",
       " [1284, 1295],\n",
       " [1296, 1308],\n",
       " [1309, 1321],\n",
       " [1322, 1339],\n",
       " [1340, 1379],\n",
       " [1380, 1410],\n",
       " [1411, 1448],\n",
       " [1449, 1472],\n",
       " [1473, 1514],\n",
       " [1515, 1535],\n",
       " [1536, 1551],\n",
       " [1552, 1567],\n",
       " [1568, 1613],\n",
       " [1614, 1626],\n",
       " [1627, 1658],\n",
       " [1659, 1676],\n",
       " [1677, 1712],\n",
       " [1713, 1731],\n",
       " [1732, 1746],\n",
       " [1747, 1780],\n",
       " [1781, 1843],\n",
       " [1844, 1857],\n",
       " [1858, 1870],\n",
       " [1871, 1887],\n",
       " [1888, 1900],\n",
       " [1901, 1915],\n",
       " [1916, 1931]]"
      ]
     },
     "execution_count": 79,
     "metadata": {},
     "output_type": "execute_result"
    }
   ],
   "source": [
    "segment_indices"
   ]
  },
  {
   "cell_type": "code",
   "execution_count": 37,
   "id": "fa3ea1af",
   "metadata": {},
   "outputs": [
    {
     "data": {
      "text/plain": [
       "array([0.  , 0.  , 0.  , 0.  , 0.  , 0.  , 0.  , 0.05, 0.  , 0.  , 0.  ,\n",
       "       0.  , 0.  , 0.  , 0.  , 0.  , 0.  , 0.  , 0.  , 0.  , 0.01, 0.  ,\n",
       "       0.  , 0.  , 0.  , 0.  , 0.  , 0.  , 0.  , 0.  , 0.  , 0.  , 0.  ,\n",
       "       0.18, 0.  , 0.  , 0.  , 0.  , 0.04, 0.  , 0.  , 0.  , 0.  , 0.  ,\n",
       "       0.  , 0.  , 0.  , 0.  , 0.  , 0.  , 0.  , 0.  , 0.  , 0.  , 0.  ,\n",
       "       0.  , 0.  , 0.  , 0.  , 0.  , 0.  , 0.  , 0.  , 0.  , 0.  , 0.  ,\n",
       "       0.  , 0.  , 0.  , 0.  , 0.  , 0.  , 0.  , 0.  , 0.  , 0.  , 0.  ,\n",
       "       0.  , 0.  , 0.29])"
      ]
     },
     "execution_count": 37,
     "metadata": {},
     "output_type": "execute_result"
    }
   ],
   "source": [
    "# Find the amount of time that is skipped\n",
    "skipped = df_preproc.loc[segments[1:, 0], 'Onset'].to_numpy() - df_preproc.loc[segments[:-1, 1], 'Offset'].to_numpy() \n",
    "\n",
    "np.round(skipped, 2)"
   ]
  },
  {
   "cell_type": "code",
   "execution_count": null,
   "id": "7179bb9a",
   "metadata": {},
   "outputs": [],
   "source": [
    "\n",
    "\n",
    "\t# Create sequential pairs\n",
    "\tcandidate_idxs = np.where(df_preproc['NWP_Candidate'].to_numpy())[0] # First get indices\n",
    "\tcandidate_idxs = np.concatenate([[0], candidate_idxs], axis=0) # Add the first item for the first cut\n",
    "\tsegments = np.vstack((candidate_idxs[:-1], candidate_idxs[1:]-1)).T # Stack and make pairs\n",
    "\tsegment_indices = segments.tolist()\n",
    "\t\n",
    "\t# perform audio segmenting for the current subject\n",
    "\tout_fns, df_segments = cut_stimulus_segments(df_preproc, task=p.task, stim_fn=stim_fn, stim_out_dir=stim_out_dir, segment_indices=segment_indices, stim_type=p.stim_type)\n",
    "\tdf_participant = create_participant_df(df_preproc, df_segments)\n",
    "\n",
    "\t# now write the file for jspsych to use\n",
    "\tjspsych_fn = os.path.join(jspsych_out_dir, f'{p.subject}_task-{p.task}')\n",
    "\tdf_participant.to_csv(f'{jspsych_fn}.csv', index=False)\n",
    "\tdf_participant.to_json(f'{jspsych_fn}.json', orient='records')"
   ]
  }
 ],
 "metadata": {
  "kernelspec": {
   "display_name": "Python 3",
   "language": "python",
   "name": "python3"
  },
  "language_info": {
   "codemirror_mode": {
    "name": "ipython",
    "version": 3
   },
   "file_extension": ".py",
   "mimetype": "text/x-python",
   "name": "python",
   "nbconvert_exporter": "python",
   "pygments_lexer": "ipython3",
   "version": "3.9.21"
  }
 },
 "nbformat": 4,
 "nbformat_minor": 5
}
