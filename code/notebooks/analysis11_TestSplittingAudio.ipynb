{
 "cells": [
  {
   "cell_type": "code",
   "execution_count": 3,
   "id": "c74b75aa",
   "metadata": {},
   "outputs": [
    {
     "ename": "AttributeError",
     "evalue": "partially initialized module 'pandas' has no attribute 'core' (most likely due to a circular import)",
     "output_type": "error",
     "traceback": [
      "\u001b[0;31m---------------------------------------------------------------------------\u001b[0m",
      "\u001b[0;31mAttributeError\u001b[0m                            Traceback (most recent call last)",
      "Cell \u001b[0;32mIn[3], line 4\u001b[0m\n\u001b[1;32m      2\u001b[0m \u001b[38;5;28;01mimport\u001b[39;00m \u001b[38;5;21;01mglob\u001b[39;00m\n\u001b[1;32m      3\u001b[0m \u001b[38;5;28;01mimport\u001b[39;00m \u001b[38;5;21;01mnumpy\u001b[39;00m \u001b[38;5;28;01mas\u001b[39;00m \u001b[38;5;21;01mnp\u001b[39;00m\n\u001b[0;32m----> 4\u001b[0m \u001b[38;5;28;01mimport\u001b[39;00m \u001b[38;5;21;01mpandas\u001b[39;00m \u001b[38;5;28;01mas\u001b[39;00m \u001b[38;5;21;01mpd\u001b[39;00m\n\u001b[1;32m      5\u001b[0m \u001b[38;5;28;01mimport\u001b[39;00m \u001b[38;5;21;01msubprocess\u001b[39;00m\n\u001b[1;32m      6\u001b[0m \u001b[38;5;28;01mfrom\u001b[39;00m \u001b[38;5;21;01mpraatio\u001b[39;00m \u001b[38;5;28;01mimport\u001b[39;00m textgrid \u001b[38;5;28;01mas\u001b[39;00m tgio\n",
      "File \u001b[0;32m/dartfs/rc/lab/F/FinnLab/tommy/conda/envs/dark_matter/lib/python3.9/site-packages/pandas/__init__.py:179\u001b[0m\n\u001b[1;32m    176\u001b[0m \u001b[38;5;28;01mfrom\u001b[39;00m \u001b[38;5;21;01mpandas\u001b[39;00m\u001b[38;5;21;01m.\u001b[39;00m\u001b[38;5;21;01mio\u001b[39;00m\u001b[38;5;21;01m.\u001b[39;00m\u001b[38;5;21;01mjson\u001b[39;00m \u001b[38;5;28;01mimport\u001b[39;00m _json_normalize \u001b[38;5;28;01mas\u001b[39;00m json_normalize\n\u001b[1;32m    178\u001b[0m \u001b[38;5;28;01mfrom\u001b[39;00m \u001b[38;5;21;01mpandas\u001b[39;00m\u001b[38;5;21;01m.\u001b[39;00m\u001b[38;5;21;01mutil\u001b[39;00m\u001b[38;5;21;01m.\u001b[39;00m\u001b[38;5;21;01m_tester\u001b[39;00m \u001b[38;5;28;01mimport\u001b[39;00m test\n\u001b[0;32m--> 179\u001b[0m \u001b[38;5;28;01mimport\u001b[39;00m \u001b[38;5;21;01mpandas\u001b[39;00m\u001b[38;5;21;01m.\u001b[39;00m\u001b[38;5;21;01mtesting\u001b[39;00m\n\u001b[1;32m    180\u001b[0m \u001b[38;5;28;01mimport\u001b[39;00m \u001b[38;5;21;01mpandas\u001b[39;00m\u001b[38;5;21;01m.\u001b[39;00m\u001b[38;5;21;01marrays\u001b[39;00m\n\u001b[1;32m    182\u001b[0m \u001b[38;5;66;03m# use the closest tagged version if possible\u001b[39;00m\n",
      "File \u001b[0;32m/dartfs/rc/lab/F/FinnLab/tommy/conda/envs/dark_matter/lib/python3.9/site-packages/pandas/testing.py:5\u001b[0m\n\u001b[1;32m      1\u001b[0m \u001b[38;5;124;03m\"\"\"\u001b[39;00m\n\u001b[1;32m      2\u001b[0m \u001b[38;5;124;03mPublic testing utility functions.\u001b[39;00m\n\u001b[1;32m      3\u001b[0m \u001b[38;5;124;03m\"\"\"\u001b[39;00m\n\u001b[0;32m----> 5\u001b[0m \u001b[38;5;28;01mfrom\u001b[39;00m \u001b[38;5;21;01mpandas\u001b[39;00m\u001b[38;5;21;01m.\u001b[39;00m\u001b[38;5;21;01m_testing\u001b[39;00m \u001b[38;5;28;01mimport\u001b[39;00m (\n\u001b[1;32m      6\u001b[0m     assert_extension_array_equal,\n\u001b[1;32m      7\u001b[0m     assert_frame_equal,\n\u001b[1;32m      8\u001b[0m     assert_index_equal,\n\u001b[1;32m      9\u001b[0m     assert_series_equal,\n\u001b[1;32m     10\u001b[0m )\n\u001b[1;32m     12\u001b[0m __all__ \u001b[38;5;241m=\u001b[39m [\n\u001b[1;32m     13\u001b[0m     \u001b[38;5;124m\"\u001b[39m\u001b[38;5;124massert_extension_array_equal\u001b[39m\u001b[38;5;124m\"\u001b[39m,\n\u001b[1;32m     14\u001b[0m     \u001b[38;5;124m\"\u001b[39m\u001b[38;5;124massert_frame_equal\u001b[39m\u001b[38;5;124m\"\u001b[39m,\n\u001b[1;32m     15\u001b[0m     \u001b[38;5;124m\"\u001b[39m\u001b[38;5;124massert_series_equal\u001b[39m\u001b[38;5;124m\"\u001b[39m,\n\u001b[1;32m     16\u001b[0m     \u001b[38;5;124m\"\u001b[39m\u001b[38;5;124massert_index_equal\u001b[39m\u001b[38;5;124m\"\u001b[39m,\n\u001b[1;32m     17\u001b[0m ]\n",
      "File \u001b[0;32m/dartfs/rc/lab/F/FinnLab/tommy/conda/envs/dark_matter/lib/python3.9/site-packages/pandas/_testing.py:3054\u001b[0m\n\u001b[1;32m   3049\u001b[0m     \u001b[38;5;28;01mimport\u001b[39;00m \u001b[38;5;21;01mpytest\u001b[39;00m\n\u001b[1;32m   3051\u001b[0m     \u001b[38;5;28;01mreturn\u001b[39;00m pytest\u001b[38;5;241m.\u001b[39mraises(expected_exception, match\u001b[38;5;241m=\u001b[39m\u001b[38;5;28;01mNone\u001b[39;00m)\n\u001b[0;32m-> 3054\u001b[0m cython_table \u001b[38;5;241m=\u001b[39m \u001b[43mpd\u001b[49m\u001b[38;5;241;43m.\u001b[39;49m\u001b[43mcore\u001b[49m\u001b[38;5;241m.\u001b[39mbase\u001b[38;5;241m.\u001b[39mSelectionMixin\u001b[38;5;241m.\u001b[39m_cython_table\u001b[38;5;241m.\u001b[39mitems()\n\u001b[1;32m   3057\u001b[0m \u001b[38;5;28;01mdef\u001b[39;00m \u001b[38;5;21mget_cython_table_params\u001b[39m(ndframe, func_names_and_expected):\n\u001b[1;32m   3058\u001b[0m \u001b[38;5;250m    \u001b[39m\u001b[38;5;124;03m\"\"\"\u001b[39;00m\n\u001b[1;32m   3059\u001b[0m \u001b[38;5;124;03m    Combine frame, functions from SelectionMixin._cython_table\u001b[39;00m\n\u001b[1;32m   3060\u001b[0m \u001b[38;5;124;03m    keys and expected result.\u001b[39;00m\n\u001b[0;32m   (...)\u001b[0m\n\u001b[1;32m   3072\u001b[0m \u001b[38;5;124;03m        List of three items (DataFrame, function, expected result)\u001b[39;00m\n\u001b[1;32m   3073\u001b[0m \u001b[38;5;124;03m    \"\"\"\u001b[39;00m\n",
      "\u001b[0;31mAttributeError\u001b[0m: partially initialized module 'pandas' has no attribute 'core' (most likely due to a circular import)"
     ]
    }
   ],
   "source": [
    "import os, sys\n",
    "import glob\n",
    "import numpy as np\n",
    "import pandas as pd\n",
    "import subprocess\n",
    "from praatio import textgrid as tgio\n",
    "import argparse\n",
    "\n",
    "sys.path.append('../../utils/')\n",
    "\n",
    "from config import *\n",
    "import dataset_utils as utils\n",
    "from preproc_utils import cut_stimulus_segments"
   ]
  },
  {
   "cell_type": "code",
   "execution_count": 2,
   "id": "8c0b2e32",
   "metadata": {},
   "outputs": [
    {
     "ename": "NameError",
     "evalue": "name 'BASE_DIR' is not defined",
     "output_type": "error",
     "traceback": [
      "\u001b[0;31m---------------------------------------------------------------------------\u001b[0m",
      "\u001b[0;31mNameError\u001b[0m                                 Traceback (most recent call last)",
      "Cell \u001b[0;32mIn[2], line 7\u001b[0m\n\u001b[1;32m      4\u001b[0m subject \u001b[38;5;241m=\u001b[39m \u001b[38;5;124m'\u001b[39m\u001b[38;5;124msub-00001\u001b[39m\u001b[38;5;124m'\u001b[39m\n\u001b[1;32m      6\u001b[0m \u001b[38;5;66;03m# set directories\u001b[39;00m\n\u001b[0;32m----> 7\u001b[0m stim_dir \u001b[38;5;241m=\u001b[39m os\u001b[38;5;241m.\u001b[39mpath\u001b[38;5;241m.\u001b[39mjoin(\u001b[43mBASE_DIR\u001b[49m, \u001b[38;5;124m'\u001b[39m\u001b[38;5;124mstimuli\u001b[39m\u001b[38;5;124m'\u001b[39m)\n\u001b[1;32m      8\u001b[0m presentation_orders_dir \u001b[38;5;241m=\u001b[39m os\u001b[38;5;241m.\u001b[39mpath\u001b[38;5;241m.\u001b[39mjoin(stim_dir, \u001b[38;5;124m'\u001b[39m\u001b[38;5;124mpresentation_orders\u001b[39m\u001b[38;5;124m'\u001b[39m, experiment_version, task)\n\u001b[1;32m     10\u001b[0m \u001b[38;5;28;01mif\u001b[39;00m stim_type \u001b[38;5;241m==\u001b[39m \u001b[38;5;124m'\u001b[39m\u001b[38;5;124mvideo\u001b[39m\u001b[38;5;124m'\u001b[39m:\n",
      "\u001b[0;31mNameError\u001b[0m: name 'BASE_DIR' is not defined"
     ]
    }
   ],
   "source": [
    "experiment_version = 'final-multimodal-01'\n",
    "task = 'wheretheressmoke'\n",
    "stim_type = 'video'\n",
    "subject = 'sub-00001'\n",
    "\n",
    "# set directories\n",
    "stim_dir = os.path.join(BASE_DIR, 'stimuli')\n",
    "presentation_orders_dir = os.path.join(stim_dir, 'presentation_orders', experiment_version, task)\n",
    "\n",
    "if stim_type == 'video':\n",
    "    stim_fn = glob.glob(os.path.join(stim_dir, 'video', f'{task}*.mp4'))\n",
    "    jspsych_out_dir = os.path.join(presentation_orders_dir, 'jspsych-video')\n",
    "else:\n",
    "    stim_fn = glob.glob(os.path.join(stim_dir, 'audio', f'{task}*.wav'))\n",
    "    jspsych_out_dir = os.path.join(presentation_orders_dir, 'jspsych')"
   ]
  },
  {
   "cell_type": "code",
   "execution_count": null,
   "id": "dca0362a",
   "metadata": {},
   "outputs": [],
   "source": [
    "\n",
    "# load preprocessed transcript and find indices that are to be predicted\n",
    "df_preproc_fn = os.path.join(presentation_orders_dir, 'preproc', f'{subject}_task-{task}.csv')\n",
    "df_preproc = pd.read_csv(df_preproc_fn)"
   ]
  },
  {
   "cell_type": "code",
   "execution_count": null,
   "id": "7179bb9a",
   "metadata": {},
   "outputs": [],
   "source": [
    "\n",
    "\n",
    "\t# Create sequential pairs\n",
    "\tcandidate_idxs = np.where(df_preproc['NWP_Candidate'].to_numpy())[0] # First get indices\n",
    "\tcandidate_idxs = np.concatenate([[0], candidate_idxs], axis=0) # Add the first item for the first cut\n",
    "\tsegments = np.vstack((candidate_idxs[:-1], candidate_idxs[1:]-1)).T # Stack and make pairs\n",
    "\tsegment_indices = segments.tolist()\n",
    "\t\n",
    "\t# perform audio segmenting for the current subject\n",
    "\tout_fns, df_segments = cut_stimulus_segments(df_preproc, task=p.task, stim_fn=stim_fn, stim_out_dir=stim_out_dir, segment_indices=segment_indices, stim_type=p.stim_type)\n",
    "\tdf_participant = create_participant_df(df_preproc, df_segments)\n",
    "\n",
    "\t# now write the file for jspsych to use\n",
    "\tjspsych_fn = os.path.join(jspsych_out_dir, f'{p.subject}_task-{p.task}')\n",
    "\tdf_participant.to_csv(f'{jspsych_fn}.csv', index=False)\n",
    "\tdf_participant.to_json(f'{jspsych_fn}.json', orient='records')"
   ]
  }
 ],
 "metadata": {
  "kernelspec": {
   "display_name": "Python 3",
   "language": "python",
   "name": "python3"
  },
  "language_info": {
   "codemirror_mode": {
    "name": "ipython",
    "version": 3
   },
   "file_extension": ".py",
   "mimetype": "text/x-python",
   "name": "python",
   "nbconvert_exporter": "python",
   "pygments_lexer": "ipython3",
   "version": "3.9.21"
  }
 },
 "nbformat": 4,
 "nbformat_minor": 5
}
