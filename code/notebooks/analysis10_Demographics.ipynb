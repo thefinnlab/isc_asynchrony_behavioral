{
 "cells": [
  {
   "cell_type": "code",
   "execution_count": 183,
   "id": "c74b75aa",
   "metadata": {},
   "outputs": [],
   "source": [
    "import os, sys\n",
    "import glob\n",
    "import json\n",
    "import re\n",
    "\n",
    "import numpy as np\n",
    "import pandas as pd\n",
    "\n",
    "import seaborn as sns\n",
    "from matplotlib import pyplot as plt\n",
    "from scipy import stats\n",
    "from scipy.stats import pearsonr, spearmanr, kendalltau\n",
    "import matplotlib.colors as clr\n",
    "\n",
    "from scipy import stats\n",
    "from scipy.stats import ttest_ind, f_oneway\n",
    "from scipy.stats import chi2_contingency, fisher_exact, barnard_exact\n",
    "\n",
    "\n",
    "sys.path.append('/dartfs/rc/lab/F/FinnLab/tommy/isc_asynchrony_behavior/code/utils/')\n",
    "\n",
    "from config import *\n",
    "import analysis_utils as utils"
   ]
  },
  {
   "cell_type": "code",
   "execution_count": 3,
   "id": "e970399b",
   "metadata": {},
   "outputs": [],
   "source": [
    "# Sourced for aggregating data across subjects\n",
    "preproc_dir = os.path.join(BASE_DIR, 'stimuli/preprocessed')\n",
    "behavioral_dir = os.path.join(BASE_DIR, 'derivatives/results/behavioral/') # where we will write our data"
   ]
  },
  {
   "cell_type": "markdown",
   "id": "69dc633c",
   "metadata": {},
   "source": [
    "## Define function for extracting phonemes"
   ]
  },
  {
   "cell_type": "code",
   "execution_count": 4,
   "id": "960b7c44",
   "metadata": {},
   "outputs": [],
   "source": [
    "import nltk\n",
    "from functools import lru_cache\n",
    "from itertools import product as iterprod\n",
    "\n",
    "try:\n",
    "    arpabet = nltk.corpus.cmudict.dict()\n",
    "except LookupError:\n",
    "    nltk.download('cmudict')\n",
    "    arpabet = nltk.corpus.cmudict.dict()\n",
    "\n",
    "@lru_cache()\n",
    "def wordbreak(s):\n",
    "    s = s.lower()\n",
    "    if s in arpabet:\n",
    "        return arpabet[s]\n",
    "    middle = len(s)/2\n",
    "    partition = sorted(list(range(len(s))), key=lambda x: (x-middle)**2-x)\n",
    "    for i in partition:\n",
    "        pre, suf = (s[:i], s[i:])\n",
    "        if pre in arpabet and wordbreak(suf) is not None:\n",
    "            return [x+y for x,y in iterprod(arpabet[pre], wordbreak(suf))]\n",
    "    return None"
   ]
  },
  {
   "cell_type": "markdown",
   "id": "6044c3f2",
   "metadata": {},
   "source": [
    "## Load subject-level results"
   ]
  },
  {
   "cell_type": "code",
   "execution_count": 208,
   "id": "403e7516",
   "metadata": {},
   "outputs": [],
   "source": [
    "import nltk\n",
    "from functools import lru_cache\n",
    "from itertools import product as iterprod\n",
    "\n",
    "try:\n",
    "    arpabet = nltk.corpus.cmudict.dict()\n",
    "except LookupError:\n",
    "    nltk.download('cmudict')\n",
    "    arpabet = nltk.corpus.cmudict.dict()\n",
    "\n",
    "@lru_cache()\n",
    "def wordbreak(s):\n",
    "    s = s.lower()\n",
    "    if s in arpabet:\n",
    "        return arpabet[s]\n",
    "    middle = len(s)/2\n",
    "    partition = sorted(list(range(len(s))), key=lambda x: (x-middle)**2-x)\n",
    "    for i in partition:\n",
    "        pre, suf = (s[:i], s[i:])\n",
    "        if pre in arpabet and wordbreak(suf) is not None:\n",
    "            return [x+y for x,y in iterprod(arpabet[pre], wordbreak(suf))]\n",
    "    return None\n",
    "\n",
    "def compare_wrong_phonemes(responses, ground_truth, n_phones=1):\n",
    "    '''\n",
    "    Find match of first n_phonemes to the ground truth\n",
    "    '''\n",
    "\n",
    "    # Grab ground truth phoneme\n",
    "    ground_truth_phoneme = wordbreak(ground_truth)[0][:n_phones]\n",
    "\n",
    "    # Get first phoneme of each response\n",
    "    predicted_phoneme = [wordbreak(word)[0][:n_phones] for word in responses]\n",
    "    unique, counts = np.unique(predicted_phoneme, return_counts=True)\n",
    "\n",
    "    # Find accuracy of first letter\n",
    "    phoneme_accuracy = np.asarray([phone == ground_truth_phoneme for phone in predicted_phoneme])\n",
    "\n",
    "    # Focus on wrong responses\n",
    "    wrong_responses = np.argwhere(responses != ground_truth)\n",
    "\n",
    "    # Make sure there is at least 1 wrong response\n",
    "    if len(wrong_responses) >= 1:\n",
    "\n",
    "        # Extract the wrong response phonemes and accompanying accuracy\n",
    "        wrong_phonemes = np.asarray(predicted_phoneme)[wrong_responses]\n",
    "        wrong_accuracy = phoneme_accuracy[wrong_responses]\n",
    "\n",
    "        # Get number of correct responses for the wrong response\n",
    "        wrong_resp_correct = np.sum(wrong_accuracy)\n",
    "        wrong_resp_incorrect = len(wrong_accuracy) - wrong_resp_correct\n",
    "        wrong_resp_accuracy = wrong_resp_correct / len(wrong_accuracy)\n",
    "    else:\n",
    "        wrong_resp_correct = np.nan \n",
    "        wrong_resp_incorrect = np.nan \n",
    "        wrong_resp_accuracy = np.nan\n",
    "\n",
    "    return wrong_resp_correct, wrong_resp_incorrect, wrong_resp_accuracy\n",
    "\n",
    "\n",
    "def get_leakage_stats(df_cleaned_behavior):\n",
    "\n",
    "    df_stack = []\n",
    "    columns = ['wrong_resp_n_correct', 'wrong_resp_n_incorrect', 'wrong_response_accuracy']\n",
    "\n",
    "    for (task, word_index), df_task in df_cleaned_behavior.groupby(['task', 'word_index']): \n",
    "\n",
    "        _df = []\n",
    "\n",
    "        # Go through each modality and get the stats\n",
    "        for modality, df in df_task.groupby('modality'):\n",
    "\n",
    "            ground_truth = df['ground_truth'].unique()[0]\n",
    "            ground_truth_phoneme = wordbreak(ground_truth)[0][0]\n",
    "\n",
    "            responses = df['response'].to_numpy()\n",
    "\n",
    "            # get phoneme statistics\n",
    "            df.loc[:, columns] = get_leakage_phoneme_match(responses, ground_truth, n_phones=1)\n",
    "            _df.append(df)\n",
    "\n",
    "        # Conduct stats now that we have both modalities\n",
    "        _df = pd.concat(_df).reset_index(drop=True)\n",
    "\n",
    "    # Create a contingency table\n",
    "    contingency = _df[['wrong_resp_correct', 'wrong_resp_incorrect']].to_numpy().astype(float)\n",
    "\n",
    "    if np.isnan(contingency).any():\n",
    "        results = barnard_exact(contingency, alternative='greater')\n",
    "        statistic, pvalue = results.statistic, results.pvalue\n",
    "    else:\n",
    "        \n",
    "\n",
    "    # results = fisher_exact(contingency, alternative='greater')\n",
    "    # results = chi2_contingency((contingency + 1))\n",
    "    results = barnard_exact(contingency, alternative='greater')\n",
    "\n",
    "    df_pvals.loc[len(df_pvals)] = {\n",
    "        'task': task,\n",
    "        'word_index': word_index,\n",
    "        'stat': results.statistic,\n",
    "        'pval': results.pvalue\n",
    "    }\n",
    "    df_stack = pd.concat(df_stack).reset_index(drop=True)\n",
    "\n",
    "    ### Now conduct stats on it --> groupby word index within task modality \n",
    "    return df_stack\n",
    "        \n",
    "\n"
   ]
  },
  {
   "cell_type": "code",
   "execution_count": 206,
   "id": "3fd87d54",
   "metadata": {},
   "outputs": [],
   "source": [
    "# Load results\n",
    "df_results = pd.read_csv(os.path.join(behavioral_dir, f'all-task_subject-behavior_lemmatized.csv'))\n",
    "\n",
    "# Create dataframe for evaluating leakage\n",
    "df_leakage = pd.DataFrame(columns=[\n",
    "        'task', 'modality', 'word_index', \n",
    "        'wrong_resp_correct', 'wrong_resp_incorrect', 'wrong_resp_accuracy', # focusing on the wrong responses, how many were correct v. incorrect\n",
    "        \n",
    "])\n",
    "\n",
    "for (task, modality, word_index), df in df_results.groupby(['task', 'modality', 'word_index']):\n",
    "\n",
    "    ground_truth = df['ground_truth'].unique()[0]\n",
    "    ground_truth_phoneme = wordbreak(ground_truth)[0][0]\n",
    "\n",
    "    responses = df['response'].to_numpy()\n",
    "\n",
    "    # get phoneme statistics\n",
    "    wrong_resp_correct, wrong_resp_incorrect, wrong_resp_accuracy = get_leakage_phoneme_match(responses, ground_truth, n_phones=1)\n",
    "\n",
    "\n",
    "    df_leakage.loc[len(df_leakage)] = {\n",
    "        'task': task,\n",
    "        'modality': modality,\n",
    "        'word_index': word_index,\n",
    "        'wrong_resp_correct': wrong_resp_correct,\n",
    "        'wrong_resp_incorrect': wrong_resp_incorrect,\n",
    "        'wrong_resp_accuracy': wrong_resp_accuracy,\n",
    "    }"
   ]
  },
  {
   "cell_type": "markdown",
   "id": "389a5e0d",
   "metadata": {},
   "source": [
    "## Calculate leakage statistics\n",
    "\n",
    "For each predicted word, create a contingency table of (audio v. text) x (correct v. incorrect) specifically for the wrong responses."
   ]
  },
  {
   "cell_type": "code",
   "execution_count": 202,
   "id": "ee2f1178",
   "metadata": {},
   "outputs": [],
   "source": [
    "all_pvals = []\n",
    "df_pvals = pd.DataFrame(columns=['task', 'word_index', 'stat', 'pval'])\n",
    "\n",
    "for (task, word_index), df in df_leakage.groupby(['task', 'word_index']):\n",
    "\n",
    "    contingency = df[['wrong_resp_correct', 'wrong_resp_incorrect']].to_numpy().astype(float)\n",
    "\n",
    "    if np.isnan(contingency).any():\n",
    "        continue\n",
    "\n",
    "\n",
    "    # results = fisher_exact(contingency, alternative='greater')\n",
    "    # results = chi2_contingency((contingency + 1))\n",
    "    results = barnard_exact(contingency, alternative='greater')\n",
    "\n",
    "    df_pvals.loc[len(df_pvals)] = {\n",
    "        'task': task,\n",
    "        'word_index': word_index,\n",
    "        'stat': results.statistic,\n",
    "        'pval': results.pvalue\n",
    "    }"
   ]
  },
  {
   "cell_type": "code",
   "execution_count": 200,
   "id": "03f096cf",
   "metadata": {},
   "outputs": [],
   "source": [
    "def fishers_method(p_values):\n",
    "    \"\"\"\n",
    "    Perform Fisher's method to combine p-values from multiple tests.\n",
    "    \n",
    "    Parameters:\n",
    "    p_values (list or numpy array): A list of p-values from independent tests\n",
    "    \n",
    "    Returns:\n",
    "    tuple: (combined_statistic, combined_p_value)\n",
    "        - combined_statistic: Chi-squared statistic from the combined tests\n",
    "        - combined_p_value: Overall significance of the combined tests\n",
    "    \"\"\"\n",
    "    # Validate input\n",
    "    if not isinstance(p_values, (list, np.ndarray)):\n",
    "        raise TypeError(\"Input must be a list or numpy array of p-values\")\n",
    "    \n",
    "    # Check for valid p-values (between 0 and 1)\n",
    "    if any((p < 0 or p > 1) for p in p_values):\n",
    "        raise ValueError(\"P-values must be between 0 and 1\")\n",
    "    \n",
    "    # Calculate the combined chi-squared statistic\n",
    "    # Fisher's method: -2 * sum(ln(p-values))\n",
    "    combined_statistic = -2 * np.sum(np.log(p_values))\n",
    "    \n",
    "    # Degrees of freedom = 2 * number of tests\n",
    "    degrees_of_freedom = 2 * len(p_values)\n",
    "    \n",
    "    # Calculate the combined p-value\n",
    "    combined_p_value = 1 - stats.chi2.cdf(combined_statistic, degrees_of_freedom)\n",
    "    \n",
    "    return combined_statistic, combined_p_value"
   ]
  },
  {
   "cell_type": "code",
   "execution_count": null,
   "id": "a7ec4020",
   "metadata": {},
   "outputs": [],
   "source": []
  },
  {
   "cell_type": "code",
   "execution_count": 203,
   "id": "961f03a9",
   "metadata": {},
   "outputs": [
    {
     "name": "stdout",
     "output_type": "stream",
     "text": [
      "Task black -- 0.0\n",
      "Task howtodraw -- 1.0\n",
      "Task wheretheressmoke -- 0.99999999923183\n"
     ]
    }
   ],
   "source": [
    "from statsmodels.stats.multitest import multipletests\n",
    "\n",
    "for i, df in df_pvals.groupby('task'):\n",
    "    # results = stats.ttest_1samp(df['stat'], 0, alternative='greater')\n",
    "    pvalues = df['pval'].to_numpy()\n",
    "    test_stat = df['stat'].to_numpy()\n",
    "\n",
    "    pvalues = multipletests(pvalues, method='fdr_bh')[1]\n",
    "    stat, pval = fishers_method(pvalues)\n",
    "    print (f'Task {i} -- {pval}')"
   ]
  },
  {
   "cell_type": "markdown",
   "id": "5d62b90e",
   "metadata": {},
   "source": [
    "### Plot phoneme accuracy across tasks"
   ]
  },
  {
   "cell_type": "code",
   "execution_count": 99,
   "id": "a8e4cfb7",
   "metadata": {},
   "outputs": [
    {
     "data": {
      "text/plain": [
       "Text(0.5, 1.05, 'Phoneme accuracy across tasks')"
      ]
     },
     "execution_count": 99,
     "metadata": {},
     "output_type": "execute_result"
    },
    {
     "data": {
      "image/png": "[encoded data removed]",
      "text/plain": [
       "<Figure size 900x300 with 3 Axes>"
      ]
     },
     "metadata": {},
     "output_type": "display_data"
    }
   ],
   "source": [
    "g = sns.FacetGrid(df_leakage, col=\"task\")\n",
    "g.map_dataframe(sns.histplot, x=\"wrong_resp_accuracy\", hue='modality')\n",
    "\n",
    "g.set_axis_labels(\"Phoneme Accuracy\", \"Count\")\n",
    "plt.suptitle('Phoneme accuracy across tasks', y=1.05)"
   ]
  },
  {
   "cell_type": "markdown",
   "id": "bc85504d",
   "metadata": {},
   "source": [
    "### Calculate percentage of words with significant leakage"
   ]
  },
  {
   "cell_type": "code",
   "execution_count": 100,
   "id": "a3a35bb5",
   "metadata": {},
   "outputs": [
    {
     "name": "stdout",
     "output_type": "stream",
     "text": [
      "Percent significant leakage\n",
      "\n",
      "Task: black -- 18.65%\n",
      "Task: howtodraw -- 6.30%\n",
      "Task: wheretheressmoke -- 10.21%\n"
     ]
    }
   ],
   "source": [
    "print (f'Percent significant leakage\\n')\n",
    "\n",
    "percent_leakage = []\n",
    "\n",
    "for i, df in df_pvals.groupby('task'):\n",
    "    perc = 100 * (sum(df['pval'] < 0.05) / len(df))\n",
    "    print (f'Task: {i} -- {perc:.2f}%')\n",
    "    percent_leakage.append(perc)"
   ]
  },
  {
   "cell_type": "markdown",
   "id": "73d75746",
   "metadata": {},
   "source": [
    "### Plot distribution of leakage p-values"
   ]
  },
  {
   "cell_type": "code",
   "execution_count": 94,
   "id": "8f620410",
   "metadata": {},
   "outputs": [
    {
     "data": {
      "text/plain": [
       "Text(0.5, 1.05, 'Fisher Exact - Pvals')"
      ]
     },
     "execution_count": 94,
     "metadata": {},
     "output_type": "execute_result"
    },
    {
     "data": {
      "image/png": "[encoded data removed]",
      "text/plain": [
       "<Figure size 900x300 with 3 Axes>"
      ]
     },
     "metadata": {},
     "output_type": "display_data"
    }
   ],
   "source": [
    "g = sns.FacetGrid(df_pvals, col=\"task\")\n",
    "g.map_dataframe(sns.histplot, x=\"pval\")\n",
    "\n",
    "g.set_axis_labels(\"pvalues\", \"Count\")\n",
    "plt.suptitle('Fisher Exact - Pvals', y=1.05)"
   ]
  },
  {
   "cell_type": "markdown",
   "id": "9ace580f",
   "metadata": {},
   "source": [
    "### Load group data and re-evaluate with control"
   ]
  },
  {
   "cell_type": "code",
   "execution_count": 254,
   "id": "1df5e86e",
   "metadata": {},
   "outputs": [],
   "source": [
    "# Load results\n",
    "df_results = pd.read_csv(os.path.join(behavioral_dir, 'all-task_group-analyzed-behavior_human-lemmatized.csv'))\n",
    "\n",
    "pval_filter = df_pvals['pval'] >= 0.05\n",
    "df_pval_filter = df_pvals.loc[pval_filter]\n",
    "\n",
    "df_results_filtered = []\n",
    "\n",
    "for i, df in df_results.groupby('task'):\n",
    "\n",
    "    word_indices = df_pval_filter[df_pval_filter['task'] == i]['word_index']\n",
    "\n",
    "    df = df[df['word_index'].isin(word_indices)]\n",
    "    df_results_filtered.append(df)\n",
    "\n",
    "df_results_filtered = pd.concat(df_results_filtered).reset_index(drop=True)\n"
   ]
  },
  {
   "cell_type": "code",
   "execution_count": 265,
   "id": "4030c387",
   "metadata": {},
   "outputs": [
    {
     "data": {
      "text/plain": [
       "<seaborn.axisgrid.FacetGrid at 0x14bcfa77a2b0>"
      ]
     },
     "execution_count": 265,
     "metadata": {},
     "output_type": "execute_result"
    },
    {
     "data": {
      "image/png": "[encoded data removed]",
      "text/plain": [
       "<Figure size 300x300 with 1 Axes>"
      ]
     },
     "metadata": {},
     "output_type": "display_data"
    }
   ],
   "source": [
    "g = sns.FacetGrid(df_results_filtered)\n",
    "g.map_dataframe(sns.barplot, x='task', y=\"predictability\", hue='modality')\n",
    "\n",
    "# g.set_axis_labels(\"pvalues\", \"Count\")\n",
    "# plt.suptitle('Fisher Exact - Pvals', y=1.05)"
   ]
  }
 ],
 "metadata": {
  "kernelspec": {
   "display_name": "Python 3 (ipykernel)",
   "language": "python",
   "name": "python3"
  },
  "language_info": {
   "codemirror_mode": {
    "name": "ipython",
    "version": 3
   },
   "file_extension": ".py",
   "mimetype": "text/x-python",
   "name": "python",
   "nbconvert_exporter": "python",
   "pygments_lexer": "ipython3",
   "version": "3.9.19"
  }
 },
 "nbformat": 4,
 "nbformat_minor": 5
}
