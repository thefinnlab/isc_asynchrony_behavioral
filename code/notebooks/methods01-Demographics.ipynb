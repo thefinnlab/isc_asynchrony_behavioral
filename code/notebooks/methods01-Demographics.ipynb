{
 "cells": [
  {
   "cell_type": "code",
   "execution_count": 47,
   "id": "c74b75aa",
   "metadata": {},
   "outputs": [],
   "source": [
    "import os, sys\n",
    "import glob\n",
    "import json\n",
    "import re\n",
    "from tqdm import tqdm \n",
    "from itertools import product\n",
    "\n",
    "import numpy as np\n",
    "import pandas as pd\n",
    "\n",
    "sys.path.append('/dartfs/rc/lab/F/FinnLab/tommy/isc_asynchrony_behavior/code/utils/')\n",
    "\n",
    "from config import *\n",
    "import analysis_utils as utils"
   ]
  },
  {
   "cell_type": "code",
   "execution_count": null,
   "id": "e970399b",
   "metadata": {},
   "outputs": [],
   "source": [
    "EXPERIMENT_NAME = 'pilot-multimodal-0'\n",
    "# Sourced for aggregating data across subjects\n",
    "preproc_dir = os.path.join(BASE_DIR, 'stimuli/preprocessed')\n",
    "behavioral_dir = os.path.join(BASE_DIR, 'derivatives/results/behavioral/') # where we will write our data\n",
    "\n",
    "# Sourced for aggregating data across subjects\n",
    "results_dir = os.path.join(BASE_DIR, 'experiments',  EXPERIMENT_NAME, 'cleaned-results', p.experiment_version)"
   ]
  },
  {
   "cell_type": "code",
   "execution_count": 126,
   "id": "06d7d077",
   "metadata": {},
   "outputs": [],
   "source": [
    "def get_subject_demographics(results_dir, task, modality):\n",
    "\n",
    "    if task == 'black':\n",
    "        results_dir = os.path.join(results_dir, 'pilot-multimodal-01')\n",
    "    else:\n",
    "        results_dir = os.path.join(results_dir, 'final-multimodal-01')\n",
    "\n",
    "    # Get subject directories\n",
    "    sub_dirs = sorted(glob.glob(os.path.join(results_dir, task, modality, f'sub*')))\n",
    "\n",
    "    print(f'Total of {len(sub_dirs)} subjects')\n",
    "\n",
    "    all_demographics = []\n",
    "\n",
    "    for sub_dir in tqdm(sub_dirs):\n",
    "        sub = os.path.basename(sub_dir)\n",
    "        current_id, demographics, _, _ = utils.load_participant_results(sub_dir, sub)\n",
    "\n",
    "        age_filter = demographics['experiment_phase'] == 'demographics-age'\n",
    "\n",
    "        try: \n",
    "\n",
    "            current_age = demographics.loc[age_filter, 'response'].values.astype(float)\n",
    "\n",
    "            if current_age < 65:\n",
    "                demographics.loc[age_filter, 'response'] = current_age\n",
    "            else:\n",
    "                demographics.loc[age_filter, 'response'] = np.nan\n",
    "        except:\n",
    "            demographics.loc[age_filter, 'response'] = np.nan\n",
    "\n",
    "        df_demographics = demographics.T.reset_index(drop=True)\n",
    "        df_demographics.columns = df_demographics.iloc[0]\n",
    "       \n",
    "       # Remove the first row\n",
    "        df_demographics = df_demographics.iloc[1:]\n",
    "        df_demographics['prolific_id'] = current_id\n",
    "\n",
    "        all_demographics.append(df_demographics)\n",
    "\n",
    "    df_demographics = pd.concat(all_demographics).reset_index(drop=True)\n",
    "    return df_demographics"
   ]
  },
  {
   "cell_type": "code",
   "execution_count": 134,
   "id": "835f7b46",
   "metadata": {},
   "outputs": [],
   "source": [
    "all_demographics['demographics-age'] = all_demographics['demographics-age'].astype(float)"
   ]
  },
  {
   "cell_type": "code",
   "execution_count": null,
   "id": "069bea9b",
   "metadata": {},
   "outputs": [
    {
     "name": "stdout",
     "output_type": "stream",
     "text": [
      "Total of 200 subjects\n"
     ]
    },
    {
     "name": "stderr",
     "output_type": "stream",
     "text": [
      "100%|██████████| 200/200 [00:04<00:00, 40.71it/s]\n"
     ]
    },
    {
     "name": "stdout",
     "output_type": "stream",
     "text": [
      "Total of 200 subjects\n"
     ]
    },
    {
     "name": "stderr",
     "output_type": "stream",
     "text": [
      "100%|██████████| 200/200 [00:05<00:00, 39.05it/s]\n"
     ]
    },
    {
     "name": "stdout",
     "output_type": "stream",
     "text": [
      "Total of 200 subjects\n"
     ]
    },
    {
     "name": "stderr",
     "output_type": "stream",
     "text": [
      "100%|██████████| 200/200 [00:04<00:00, 40.71it/s]\n"
     ]
    },
    {
     "name": "stdout",
     "output_type": "stream",
     "text": [
      "Total of 150 subjects\n"
     ]
    },
    {
     "name": "stderr",
     "output_type": "stream",
     "text": [
      "100%|██████████| 150/150 [00:03<00:00, 42.88it/s]\n"
     ]
    },
    {
     "name": "stdout",
     "output_type": "stream",
     "text": [
      "Total of 150 subjects\n"
     ]
    },
    {
     "name": "stderr",
     "output_type": "stream",
     "text": [
      "100%|██████████| 150/150 [00:03<00:00, 43.48it/s]\n"
     ]
    },
    {
     "name": "stdout",
     "output_type": "stream",
     "text": [
      "Total of 150 subjects\n"
     ]
    },
    {
     "name": "stderr",
     "output_type": "stream",
     "text": [
      "100%|██████████| 150/150 [00:03<00:00, 43.58it/s]\n"
     ]
    },
    {
     "name": "stdout",
     "output_type": "stream",
     "text": [
      "Total of 150 subjects\n"
     ]
    },
    {
     "name": "stderr",
     "output_type": "stream",
     "text": [
      "100%|██████████| 150/150 [00:04<00:00, 36.59it/s]\n"
     ]
    },
    {
     "name": "stdout",
     "output_type": "stream",
     "text": [
      "Total of 150 subjects\n"
     ]
    },
    {
     "name": "stderr",
     "output_type": "stream",
     "text": [
      "100%|██████████| 150/150 [00:03<00:00, 39.95it/s]\n"
     ]
    },
    {
     "name": "stdout",
     "output_type": "stream",
     "text": [
      "Total of 150 subjects\n"
     ]
    },
    {
     "name": "stderr",
     "output_type": "stream",
     "text": [
      "100%|██████████| 150/150 [00:04<00:00, 34.59it/s]\n"
     ]
    }
   ],
   "source": [
    "task_list = ['black', 'wheretheressmoke', 'howtodraw']\n",
    "modality_list = ['video', 'audio', 'text']\n",
    "\n",
    "results_dir = os.path.join(BASE_DIR, 'experiments',  'next-word-prediction', 'cleaned-results')\n",
    "\n",
    "all_demographics = []\n",
    "\n",
    "for task, modality in product(task_list, modality_list):\n",
    "    demographics = get_subject_demographics(results_dir=results_dir, task=task, modality=modality)\n",
    "    all_demographics.append(demographics)\n",
    "\n",
    "all_demographics = pd.concat(all_demographics).reset_index(drop=True)\n",
    "all_demographics['demographics-age'] = all_demographics['demographics-age'].astype(float)"
   ]
  },
  {
   "cell_type": "markdown",
   "id": "50a1f0f5",
   "metadata": {},
   "source": [
    "### Gender demographics"
   ]
  },
  {
   "cell_type": "code",
   "execution_count": 137,
   "id": "76ba4ac8",
   "metadata": {},
   "outputs": [
    {
     "data": {
      "text/plain": [
       "Female                   743\n",
       "Male                     727\n",
       "Do not wish to report     14\n",
       "Non-Binary                10\n",
       "Other                      6\n",
       "Name: demographics-gender, dtype: int64"
      ]
     },
     "execution_count": 137,
     "metadata": {},
     "output_type": "execute_result"
    }
   ],
   "source": [
    "all_demographics['demographics-gender'].value_counts()"
   ]
  },
  {
   "cell_type": "markdown",
   "id": "bb1ff0c2",
   "metadata": {},
   "source": [
    "### Age demographics"
   ]
  },
  {
   "cell_type": "code",
   "execution_count": 135,
   "id": "2aa07675",
   "metadata": {},
   "outputs": [
    {
     "name": "stdout",
     "output_type": "stream",
     "text": [
      "Mean age: 37.78812415654521\n",
      "STD age: 11.791443096895717\n"
     ]
    }
   ],
   "source": [
    "mean_age = all_demographics['demographics-age'].mean()\n",
    "std_age = all_demographics['demographics-age'].std()\n",
    "\n",
    "print (f\"Mean age: {mean_age}\")\n",
    "print (f\"STD age: {std_age}\")"
   ]
  }
 ],
 "metadata": {
  "kernelspec": {
   "display_name": "Python 3",
   "language": "python",
   "name": "python3"
  },
  "language_info": {
   "codemirror_mode": {
    "name": "ipython",
    "version": 3
   },
   "file_extension": ".py",
   "mimetype": "text/x-python",
   "name": "python",
   "nbconvert_exporter": "python",
   "pygments_lexer": "ipython3",
   "version": "3.9.19"
  }
 },
 "nbformat": 4,
 "nbformat_minor": 5
}
