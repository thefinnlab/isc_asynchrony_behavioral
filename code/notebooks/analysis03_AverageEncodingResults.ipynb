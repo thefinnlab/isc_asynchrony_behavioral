{
 "cells": [
  {
   "cell_type": "code",
   "execution_count": 1,
   "id": "67e5b87d-3886-4f16-8782-0939b4b1595d",
   "metadata": {},
   "outputs": [
    {
     "name": "stdout",
     "output_type": "stream",
     "text": [
      "Token will not been saved to git credential helper. Pass `add_to_git_credential=True` if you want to set the git credential as well.\n",
      "Token is valid (permission: write).\n",
      "Your token has been saved to /dartfs/rc/lab/F/FinnLab/tommy/models/token\n",
      "Login successful\n"
     ]
    },
    {
     "name": "stderr",
     "output_type": "stream",
     "text": [
      "/dartfs/rc/lab/F/FinnLab/tommy/conda/envs/dark_matter/lib/python3.9/site-packages/transformers/utils/generic.py:441: UserWarning: torch.utils._pytree._register_pytree_node is deprecated. Please use torch.utils._pytree.register_pytree_node instead.\n",
      "  _torch_pytree._register_pytree_node(\n"
     ]
    }
   ],
   "source": [
    "%load_ext autoreload\n",
    "%autoreload 2\n",
    "import sys, os\n",
    "import glob\n",
    "import numpy as np\n",
    "import pandas as pd \n",
    "import nibabel as nib\n",
    "from nilearn.input_data import NiftiMasker\n",
    "from matplotlib import pyplot as plt\n",
    "import seaborn as sns\n",
    "\n",
    "from himalaya.scoring import correlation_score\n",
    "from scipy import sparse\n",
    "from neuromaps.transforms import fsaverage_to_fsaverage\n",
    "\n",
    "sys.path.append('../utils/') \n",
    "\n",
    "from config import *\n",
    "import dataset_utils as utils\n",
    "from tommy_utils import statistics, plotting, encoding"
   ]
  },
  {
   "cell_type": "code",
   "execution_count": 2,
   "id": "7040f30a-901c-4613-b7c8-d49ecd18a206",
   "metadata": {},
   "outputs": [],
   "source": [
    "dataset = 'huth-moth'\n",
    "model_name = 'gpt2-xl'\n",
    "task = 'wheretheressmoke' # only evaluate for one test task for now\n",
    "\n",
    "results_dir = os.path.join(BASE_DIR, 'derivatives/results/', dataset) #, p.sub, p.model_name)\n",
    "plots_dir = os.path.join(BASE_DIR, 'derivatives/plots/encoding_preds/', dataset, 'group')\n",
    "\n",
    "utils.attempt_makedirs(plots_dir)\n",
    "\n",
    "if dataset == 'deniz-readinglistening':\n",
    "    data_dir = os.path.join(DATASETS_DIR, dataset, 'derivatives/dark-matter-preproc/')\n",
    "else:\n",
    "    data_dir = os.path.join(DATASETS_DIR, dataset, 'derivatives/dark-matter-preproc-smooth/')\n",
    "    masks_dir = os.path.join(DATASETS_DIR, dataset, 'derivatives/masks/group/')\n",
    "    mask_fn = os.path.join(masks_dir, 'group-MNI152NLin6Asym_res-all_desc-brain_gm-mask-intersection.nii.gz')\n",
    "    masker = NiftiMasker(mask_fn).fit()"
   ]
  },
  {
   "cell_type": "markdown",
   "id": "cf0ad222-9df7-4d73-a736-5ddc4bae02c8",
   "metadata": {},
   "source": [
    "### Set subjects for dataset"
   ]
  },
  {
   "cell_type": "code",
   "execution_count": 3,
   "id": "7e4c47ba-8a66-48ac-98a7-b069a873796a",
   "metadata": {},
   "outputs": [],
   "source": [
    "# get subjects excluding their html files\n",
    "sub_dirs = sorted(glob.glob(os.path.join(data_dir, 'sub*[!html]')))\n",
    "sub_list = [os.path.basename(d) for d in sub_dirs]"
   ]
  },
  {
   "cell_type": "markdown",
   "id": "2e1a9d4e-82ec-4bf1-a6a6-cf99c09648a4",
   "metadata": {},
   "source": [
    "### Set n_subs significance threshold"
   ]
  },
  {
   "cell_type": "code",
   "execution_count": 4,
   "id": "7acc7351-8e7e-43f4-a51d-23a58b8f44f2",
   "metadata": {},
   "outputs": [],
   "source": [
    "N_SUBS_SIGNIF_THRESHOLD = 3"
   ]
  },
  {
   "cell_type": "markdown",
   "id": "00d23ab4-bf54-479f-a524-8f4f4b004e12",
   "metadata": {},
   "source": [
    "## Calculate # of subjects significant at each voxel"
   ]
  },
  {
   "cell_type": "code",
   "execution_count": 5,
   "id": "93991dc3-094a-4904-877a-c9043897dcc4",
   "metadata": {},
   "outputs": [
    {
     "ename": "KeyboardInterrupt",
     "evalue": "",
     "output_type": "error",
     "traceback": [
      "\u001b[0;31m---------------------------------------------------------------------------\u001b[0m",
      "\u001b[0;31mKeyboardInterrupt\u001b[0m                         Traceback (most recent call last)",
      "Cell \u001b[0;32mIn[5], line 35\u001b[0m\n\u001b[1;32m     33\u001b[0m \u001b[38;5;66;03m# load results, average and correlate with ground truth\u001b[39;00m\n\u001b[1;32m     34\u001b[0m ds_test \u001b[38;5;241m=\u001b[39m np\u001b[38;5;241m.\u001b[39mmean([np\u001b[38;5;241m.\u001b[39mload(fn) \u001b[38;5;28;01mfor\u001b[39;00m fn \u001b[38;5;129;01min\u001b[39;00m sub_data_fn], axis\u001b[38;5;241m=\u001b[39m\u001b[38;5;241m0\u001b[39m)\n\u001b[0;32m---> 35\u001b[0m Y_pred \u001b[38;5;241m=\u001b[39m np\u001b[38;5;241m.\u001b[39mmean([np\u001b[38;5;241m.\u001b[39mload(fn) \u001b[38;5;28;01mfor\u001b[39;00m fn \u001b[38;5;129;01min\u001b[39;00m sub_results_fn], axis\u001b[38;5;241m=\u001b[39m\u001b[38;5;241m0\u001b[39m)\n\u001b[1;32m     37\u001b[0m \u001b[38;5;66;03m# load the data\u001b[39;00m\n\u001b[1;32m     38\u001b[0m distribution \u001b[38;5;241m=\u001b[39m np\u001b[38;5;241m.\u001b[39mload(sub_permutations_fn[\u001b[38;5;241m0\u001b[39m])\n",
      "Cell \u001b[0;32mIn[5], line 35\u001b[0m, in \u001b[0;36m<listcomp>\u001b[0;34m(.0)\u001b[0m\n\u001b[1;32m     33\u001b[0m \u001b[38;5;66;03m# load results, average and correlate with ground truth\u001b[39;00m\n\u001b[1;32m     34\u001b[0m ds_test \u001b[38;5;241m=\u001b[39m np\u001b[38;5;241m.\u001b[39mmean([np\u001b[38;5;241m.\u001b[39mload(fn) \u001b[38;5;28;01mfor\u001b[39;00m fn \u001b[38;5;129;01min\u001b[39;00m sub_data_fn], axis\u001b[38;5;241m=\u001b[39m\u001b[38;5;241m0\u001b[39m)\n\u001b[0;32m---> 35\u001b[0m Y_pred \u001b[38;5;241m=\u001b[39m np\u001b[38;5;241m.\u001b[39mmean([\u001b[43mnp\u001b[49m\u001b[38;5;241;43m.\u001b[39;49m\u001b[43mload\u001b[49m\u001b[43m(\u001b[49m\u001b[43mfn\u001b[49m\u001b[43m)\u001b[49m \u001b[38;5;28;01mfor\u001b[39;00m fn \u001b[38;5;129;01min\u001b[39;00m sub_results_fn], axis\u001b[38;5;241m=\u001b[39m\u001b[38;5;241m0\u001b[39m)\n\u001b[1;32m     37\u001b[0m \u001b[38;5;66;03m# load the data\u001b[39;00m\n\u001b[1;32m     38\u001b[0m distribution \u001b[38;5;241m=\u001b[39m np\u001b[38;5;241m.\u001b[39mload(sub_permutations_fn[\u001b[38;5;241m0\u001b[39m])\n",
      "File \u001b[0;32m/dartfs/rc/lab/F/FinnLab/tommy/conda/envs/dark_matter/lib/python3.9/site-packages/numpy/lib/npyio.py:432\u001b[0m, in \u001b[0;36mload\u001b[0;34m(file, mmap_mode, allow_pickle, fix_imports, encoding, max_header_size)\u001b[0m\n\u001b[1;32m    429\u001b[0m         \u001b[38;5;28;01mreturn\u001b[39;00m \u001b[38;5;28mformat\u001b[39m\u001b[38;5;241m.\u001b[39mopen_memmap(file, mode\u001b[38;5;241m=\u001b[39mmmap_mode,\n\u001b[1;32m    430\u001b[0m                                   max_header_size\u001b[38;5;241m=\u001b[39mmax_header_size)\n\u001b[1;32m    431\u001b[0m     \u001b[38;5;28;01melse\u001b[39;00m:\n\u001b[0;32m--> 432\u001b[0m         \u001b[38;5;28;01mreturn\u001b[39;00m \u001b[38;5;28;43mformat\u001b[39;49m\u001b[38;5;241;43m.\u001b[39;49m\u001b[43mread_array\u001b[49m\u001b[43m(\u001b[49m\u001b[43mfid\u001b[49m\u001b[43m,\u001b[49m\u001b[43m \u001b[49m\u001b[43mallow_pickle\u001b[49m\u001b[38;5;241;43m=\u001b[39;49m\u001b[43mallow_pickle\u001b[49m\u001b[43m,\u001b[49m\n\u001b[1;32m    433\u001b[0m \u001b[43m                                 \u001b[49m\u001b[43mpickle_kwargs\u001b[49m\u001b[38;5;241;43m=\u001b[39;49m\u001b[43mpickle_kwargs\u001b[49m\u001b[43m,\u001b[49m\n\u001b[1;32m    434\u001b[0m \u001b[43m                                 \u001b[49m\u001b[43mmax_header_size\u001b[49m\u001b[38;5;241;43m=\u001b[39;49m\u001b[43mmax_header_size\u001b[49m\u001b[43m)\u001b[49m\n\u001b[1;32m    435\u001b[0m \u001b[38;5;28;01melse\u001b[39;00m:\n\u001b[1;32m    436\u001b[0m     \u001b[38;5;66;03m# Try a pickle\u001b[39;00m\n\u001b[1;32m    437\u001b[0m     \u001b[38;5;28;01mif\u001b[39;00m \u001b[38;5;129;01mnot\u001b[39;00m allow_pickle:\n",
      "File \u001b[0;32m/dartfs/rc/lab/F/FinnLab/tommy/conda/envs/dark_matter/lib/python3.9/site-packages/numpy/lib/format.py:790\u001b[0m, in \u001b[0;36mread_array\u001b[0;34m(fp, allow_pickle, pickle_kwargs, max_header_size)\u001b[0m\n\u001b[1;32m    787\u001b[0m \u001b[38;5;28;01melse\u001b[39;00m:\n\u001b[1;32m    788\u001b[0m     \u001b[38;5;28;01mif\u001b[39;00m isfileobj(fp):\n\u001b[1;32m    789\u001b[0m         \u001b[38;5;66;03m# We can use the fast fromfile() function.\u001b[39;00m\n\u001b[0;32m--> 790\u001b[0m         array \u001b[38;5;241m=\u001b[39m \u001b[43mnumpy\u001b[49m\u001b[38;5;241;43m.\u001b[39;49m\u001b[43mfromfile\u001b[49m\u001b[43m(\u001b[49m\u001b[43mfp\u001b[49m\u001b[43m,\u001b[49m\u001b[43m \u001b[49m\u001b[43mdtype\u001b[49m\u001b[38;5;241;43m=\u001b[39;49m\u001b[43mdtype\u001b[49m\u001b[43m,\u001b[49m\u001b[43m \u001b[49m\u001b[43mcount\u001b[49m\u001b[38;5;241;43m=\u001b[39;49m\u001b[43mcount\u001b[49m\u001b[43m)\u001b[49m\n\u001b[1;32m    791\u001b[0m     \u001b[38;5;28;01melse\u001b[39;00m:\n\u001b[1;32m    792\u001b[0m         \u001b[38;5;66;03m# This is not a real file. We have to read it the\u001b[39;00m\n\u001b[1;32m    793\u001b[0m         \u001b[38;5;66;03m# memory-intensive way.\u001b[39;00m\n\u001b[0;32m   (...)\u001b[0m\n\u001b[1;32m    801\u001b[0m         \u001b[38;5;66;03m# not correctly instantiate zero-width string dtypes; see\u001b[39;00m\n\u001b[1;32m    802\u001b[0m         \u001b[38;5;66;03m# https://github.com/numpy/numpy/pull/6430\u001b[39;00m\n\u001b[1;32m    803\u001b[0m         array \u001b[38;5;241m=\u001b[39m numpy\u001b[38;5;241m.\u001b[39mndarray(count, dtype\u001b[38;5;241m=\u001b[39mdtype)\n",
      "\u001b[0;31mKeyboardInterrupt\u001b[0m: "
     ]
    }
   ],
   "source": [
    "# go through each subject and load their permutations\n",
    "sub_significance_counts = []\n",
    "sub_prediction_accuracy = []\n",
    "sub_pvals = []\n",
    "session = '' #'reading' #''\n",
    "\n",
    "for sub in sub_list:\n",
    "    sub_data_dir = os.path.join(data_dir, sub)\n",
    "    sub_results_dir = os.path.join(results_dir, sub, model_name)\n",
    "    sub_permutations_fn = glob.glob(os.path.join(sub_results_dir, f'*{task}*permutations*.npy'))\n",
    "\n",
    "    if dataset == 'deniz-readinglistening':\n",
    "        \n",
    "        # sub_mapper_fn = glob.glob(os.path.join(data_dir, sub, 'mappers', '*fsaverage*'))\n",
    "        \n",
    "        # assert (len(sub_mapper_fn) == 1)\n",
    "\n",
    "        # mapper = sparse.load_npz(sub_mapper_fn[0])\n",
    "        if session:\n",
    "            sub_data_fn = sorted(glob.glob(os.path.join(sub_data_dir, f'*{session}*{task}*hyperaligned.npy')))\n",
    "            sub_results_fn = sorted(glob.glob(os.path.join(sub_results_dir, f'*{session}*{task}*prediction*ground-truth*.npy')))\n",
    "            sub_permutations_fn = glob.glob(os.path.join(sub_results_dir, f'*{session}*{task}*permutations*.npy'))\n",
    "        else:\n",
    "            sub_data_fn = sorted(glob.glob(os.path.join(sub_data_dir, f'*{task}*hyperaligned.npy')))\n",
    "            sub_results_fn = sorted(glob.glob(os.path.join(sub_results_dir, f'*{task}*prediction*ground-truth*.npy')))    \n",
    "    else:\n",
    "        sub_data_fn = sorted(glob.glob(os.path.join(sub_data_dir, f'*{task}*hyperaligned.npy')))\n",
    "        sub_results_fn = sorted(glob.glob(os.path.join(sub_results_dir, f'*{task}*prediction*ground-truth*.npy')))\n",
    "\n",
    "    # load ground-truth predictions --> predictions are the same regardless of run since weights dont change\n",
    "    assert (len(sub_permutations_fn) == 1 and (len(sub_data_fn) == 5 or len(sub_data_fn) == 2))\n",
    "\n",
    "    # load results, average and correlate with ground truth\n",
    "    ds_test = np.mean([np.load(fn) for fn in sub_data_fn], axis=0)\n",
    "    Y_pred = np.mean([np.load(fn) for fn in sub_results_fn], axis=0)\n",
    "    \n",
    "    # load the data\n",
    "    distribution = np.load(sub_permutations_fn[0])\n",
    "    results = correlation_score(ds_test, Y_pred)\n",
    "    \n",
    "    # compare the results to the distribution and then find what is significant\n",
    "    zvals, pvals = statistics.p_from_null(results[np.newaxis], distribution, mult_comp_method='fdr_bh', axis=0)    \n",
    "    thresholded = statistics.pvalue_threshold(results, pvals)\n",
    "\n",
    "    significant_voxels = ~np.isnan(thresholded)\n",
    "\n",
    "    # if dataset == 'deniz-readinglistening':\n",
    "    #     significant_voxels = significant_voxels @ mapper.T\n",
    "    #     prediction_accuracy = results @ mapper.T\n",
    "    # else:\n",
    "    #     prediction_accuracy = results\n",
    "    \n",
    "    sub_significance_counts.append(significant_voxels)\n",
    "    sub_prediction_accuracy.append(results)\n",
    "    sub_pvals.append(pvals)\n",
    "\n",
    "# stack together\n",
    "sub_significance_counts = np.stack(sub_significance_counts)\n",
    "\n",
    "# now count number of participants \n",
    "significance_counts = np.sum(sub_significance_counts, axis=0).astype(float)\n",
    "significance_counts[significance_counts < 1] = np.nan"
   ]
  },
  {
   "cell_type": "markdown",
   "id": "9dcf98ec-8e8f-4289-8e43-a03e26e3af2e",
   "metadata": {},
   "source": [
    "### Plot the signficance counts"
   ]
  },
  {
   "cell_type": "code",
   "execution_count": 271,
   "id": "fca96ed8-9ace-415f-9463-4e288c17e737",
   "metadata": {},
   "outputs": [
    {
     "name": "stderr",
     "output_type": "stream",
     "text": [
      "/scratch/ipykernel_23534/4137601899.py:10: MatplotlibDeprecationWarning: The get_cmap function was deprecated in Matplotlib 3.7 and will be removed two minor releases later. Use ``matplotlib.colormaps[name]`` or ``matplotlib.colormaps.get_cmap(obj)`` instead.\n",
      "  significance_cmap = plt.cm.get_cmap('magma', len(sub_list))    # 11 discrete colorsp\n"
     ]
    }
   ],
   "source": [
    "# set title and filename for writing\n",
    "if session:\n",
    "    ses = f'_ses-{session}_'\n",
    "else:\n",
    "    ses = '_'\n",
    "    \n",
    "out_fn = os.path.join(plots_dir, f'group{ses}task-{task}_nsubs-significance.{EXT}')\n",
    "title = '' #f'{dataset} - All {session} stories, n_subs significance'#f'group - n_subs significance'\n",
    "\n",
    "significance_cmap = plt.cm.get_cmap('magma', len(sub_list))    # 11 discrete colorsp\n",
    "max_val = np.nanmax(significance_counts)\n",
    "\n",
    "if dataset == 'deniz-readinglistening':\n",
    "    surfs, data = plotting.numpy_to_surface(significance_counts, target_density='41k', method='nearest')\n",
    "else:\n",
    "    ds_signif = masker.inverse_transform(significance_counts)\n",
    "    surfs, data = plotting.vol_to_surf(ds_signif, surf_type='fsaverage', map_type='inflated', method='nearest')\n",
    "\n",
    "layer = plotting.make_layers_dict(data=data, cmap=significance_cmap, label=f'N_Subjects Significant', alpha=1, color_range=(1, len(sub_list)))"
   ]
  },
  {
   "cell_type": "code",
   "execution_count": 272,
   "id": "5f9ea05b-2224-43d9-a90e-8a5cb18f5b90",
   "metadata": {},
   "outputs": [
    {
     "name": "stdout",
     "output_type": "stream",
     "text": [
      "Here\n",
      "Here\n"
     ]
    }
   ],
   "source": [
    "if PLOT_SEPARATE_VIEWS:\n",
    "        for view in VIEWS:\n",
    "            _ = plotting.plot_surf_data(surfs, [layer], views=[view], colorbar=COLORBAR, surf_type=SURF_TYPE, \n",
    "                add_depth=ADD_DEPTH, out_fn=out_fn.replace(f'.{EXT}', f'-{view}.{EXT}'),\n",
    "                title=title)\n",
    "else:\n",
    "    _ = plotting.plot_surf_data(surfs, [layer], views=VIEWS, colorbar=COLORBAR, surf_type=SURF_TYPE, \n",
    "        add_depth=ADD_DEPTH, out_fn=out_fn, title=title)"
   ]
  },
  {
   "cell_type": "markdown",
   "id": "6b0dd1a1-abf9-4034-be98-2bbcfa9792ae",
   "metadata": {},
   "source": [
    "## Plot average ground-truth prediction accuracy"
   ]
  },
  {
   "cell_type": "code",
   "execution_count": 28,
   "id": "03c303f7-1661-48cc-b7e8-658b8d27984a",
   "metadata": {},
   "outputs": [],
   "source": [
    "def ztransform_mean(dss):\n",
    "    dss = np.stack(dss)\n",
    "    return np.tanh(np.mean([np.arctanh(ds) for ds in dss], axis=0))"
   ]
  },
  {
   "cell_type": "markdown",
   "id": "db22abe1-02d9-453e-a1ec-d878c1cc37ab",
   "metadata": {},
   "source": [
    "### Now plot for both thresholded and unthresholded"
   ]
  },
  {
   "cell_type": "code",
   "execution_count": 273,
   "id": "484d7990-8f43-4a46-b3a8-7f4aae6ecccb",
   "metadata": {},
   "outputs": [
    {
     "name": "stdout",
     "output_type": "stream",
     "text": [
      "Here\n",
      "Here\n",
      "Here\n",
      "Here\n"
     ]
    }
   ],
   "source": [
    "# accuracy contains both stat test thresholded and unthresholded accuracy\n",
    "plot_types = ['thresholded', 'unthresholded']\n",
    "\n",
    "sub_prediction_accuracy = np.stack(sub_prediction_accuracy)\n",
    "avg_accuracy = ztransform_mean(sub_prediction_accuracy)\n",
    "\n",
    "for name in plot_types:\n",
    "    \n",
    "    if name == 'thresholded':\n",
    "        signif_threshold = np.logical_or(np.isnan(significance_counts), significance_counts < N_SUBS_SIGNIF_THRESHOLD)\n",
    "        accuracy = avg_accuracy.copy()\n",
    "        accuracy[signif_threshold] = np.nan\n",
    "    else:\n",
    "        accuracy = avg_accuracy.copy()\n",
    "    \n",
    "    # set title and filename for writing\n",
    "    if session:\n",
    "        ses = f'_ses-{session}_'\n",
    "    else:\n",
    "        ses = '_'\n",
    "        \n",
    "    out_fn = os.path.join(plots_dir, f'group{ses}task-{task}_run-avg-{name}.{EXT}')\n",
    "    title = '' #f'{dataset} - All {session} stories, n_subs significance'#f'group - n_subs significance'\n",
    "    max_val = np.nanmax(abs(accuracy))\n",
    "    \n",
    "    if dataset == 'deniz-readinglistening':\n",
    "        surfs, data = plotting.numpy_to_surface(accuracy, target_density='41k')\n",
    "    else:\n",
    "        ds_avg = masker.inverse_transform(accuracy)\n",
    "        surfs, data = plotting.vol_to_surf(ds_avg, surf_type='fsaverage', map_type='inflated')\n",
    "    \n",
    "    layer = plotting.make_layers_dict(data=data, cmap='RdBu_r', label=f'Prediction (r)', alpha=1, color_range=(-max_val, max_val))\n",
    "    \n",
    "    if PLOT_SEPARATE_VIEWS:\n",
    "            for view in VIEWS:\n",
    "                _ = plotting.plot_surf_data(surfs, [layer], views=[view], colorbar=COLORBAR, surf_type=SURF_TYPE, \n",
    "                    add_depth=ADD_DEPTH, out_fn=out_fn.replace(f'.{EXT}', f'-{view}.{EXT}'),\n",
    "                    title=title)\n",
    "    else:\n",
    "        _ = plotting.plot_surf_data(surfs, [layer], views=VIEWS, colorbar=COLORBAR, surf_type=SURF_TYPE, \n",
    "            add_depth=ADD_DEPTH, out_fn=out_fn, title=title)"
   ]
  },
  {
   "cell_type": "markdown",
   "id": "34e56e3a-686b-4c61-a223-7fdc497a37f9",
   "metadata": {},
   "source": [
    "## Conduct contrasts of MSE"
   ]
  },
  {
   "cell_type": "markdown",
   "id": "af5da2ed-b9fe-4893-b6df-b00a9395abbc",
   "metadata": {},
   "source": [
    "### Determine critical word trs"
   ]
  },
  {
   "cell_type": "code",
   "execution_count": 251,
   "id": "ea093903-e7d0-4af9-8082-373ab19cb655",
   "metadata": {},
   "outputs": [
    {
     "name": "stdout",
     "output_type": "stream",
     "text": [
      "Total trs: 237\n",
      "Unique trs: 195\n"
     ]
    }
   ],
   "source": [
    "# load gentle trasncript\n",
    "gentle_dir = os.path.join(DATASETS_DIR, dataset, 'stimuli', 'gentle', task)\n",
    "transcript_fn = os.path.join(gentle_dir, 'align.json')\n",
    "\n",
    "df_transcript = encoding.load_gentle_transcript(\n",
    "    transcript_fn=transcript_fn, \n",
    "    start_offset=None #stim_times[0] if stim_times else None\n",
    ")\n",
    "\n",
    "## MAKE ADJUSTMENTS TO MODEL FEATURES FROM BEHAVIOR ########\n",
    "behavior_results_fn = os.path.join(BASE_DIR, f'derivatives/results/behavioral/task-{task}_compiled-behavior.csv')\n",
    "behavior_results = pd.read_csv(behavior_results_fn)\n",
    "\n",
    "crit_idxs = np.unique(behavior_results['word_index'])\n",
    "\n",
    "# get critical word trs\n",
    "critical_word_trs = df_transcript.loc[crit_idxs, ['start', 'end']] // 2\n",
    "critical_word_trs = critical_word_trs['end'].astype(int).to_numpy()\n",
    "print (f'Total trs: {len(critical_word_trs)}')\n",
    "\n",
    "# reduce to unique critical words\n",
    "critical_word_trs = np.unique(critical_word_trs)\n",
    "print (f'Unique trs: {len(critical_word_trs)}')"
   ]
  },
  {
   "cell_type": "markdown",
   "id": "a6bd46d9-1cc3-4a10-844f-b7cce27c3445",
   "metadata": {},
   "source": [
    "### Calculate contrast of residuals for each subject"
   ]
  },
  {
   "cell_type": "code",
   "execution_count": 252,
   "id": "018724d3-4762-402b-b0a1-128fe45f0d48",
   "metadata": {},
   "outputs": [],
   "source": [
    "def calculate_error(Y_true, Y_pred, crit_trs):\n",
    "    absolute_error = abs(Y_true - Y_pred)[crit_trs, :]\n",
    "\n",
    "    mse = (Y_true - Y_pred)**2\n",
    "    mse = mse[crit_trs, :]\n",
    "    \n",
    "    return absolute_error, mse\n",
    "\n",
    "def get_residuals_df(sub, residuals, feature_names, significant):\n",
    "    \n",
    "    all_contrasts = []\n",
    "    \n",
    "    runs = [f'run-{i+1}' for i in np.arange(5)]\n",
    "    runs += ['run-avg']\n",
    "    \n",
    "    for i, name in enumerate(feature_names):\n",
    "         # first average across time\n",
    "            \n",
    "        voxelwise_residuals = residuals[i].mean(1)\n",
    "#         voxelwise_diff = (abs(residuals[comp_idxs[0]]) - abs(residuals[comp_idxs[1]])).mean(1)\n",
    "        \n",
    "        df_voxels = pd.DataFrame(voxelwise_residuals.T, columns=runs)\n",
    "        \n",
    "        df_voxels = df_voxels.reset_index().rename(columns={'index': 'voxel'})\n",
    "        df_voxels['sub'] = sub\n",
    "        df_voxels['feature_name'] = name\n",
    "        df_voxels['significant'] = significant\n",
    "        df_voxels = pd.melt(df_voxels, id_vars=['voxel', 'sub', 'feature_name', 'significant'], var_name='run', value_name='resid')\n",
    "        \n",
    "        all_contrasts.append(df_voxels)\n",
    "    \n",
    "    return pd.concat(all_contrasts)\n",
    "\n",
    "def conduct_feature_contrasts(ds_dict, feature_contrasts):\n",
    "\n",
    "    # all_contrasts = []\n",
    "    \n",
    "    all_contrasts = {}\n",
    "    \n",
    "    for contrast in feature_contrasts:\n",
    "        ds_a, ds_b = [ds_dict[c] for c in contrast]\n",
    "\n",
    "        contrast_key = ' - '.join(contrast)\n",
    "        # df_a, df_b = [df[df['feature_name'] == c] for c in contrast]\n",
    "        \n",
    "        # copy a dataframe and we'll insert to perform contrast\n",
    "        # df_contrast = df_a.copy()\n",
    "        # df_contrast['resid'] = df_a['resid'] - df_b['resid']\n",
    "        # df_contrast['feature_name'] = ' - '.join(contrast)\n",
    "\n",
    "        all_contrasts[contrast_key] = ds_a - ds_b\n",
    "        print (f'Finished contrast {contrast}')\n",
    "    \n",
    "    # df_contrast = pd.concat(all_contrasts)\n",
    "    # df_contrast.rename(columns={'feature_name':'contrast'}, inplace=True)\n",
    "\n",
    "    return all_contrasts"
   ]
  },
  {
   "cell_type": "code",
   "execution_count": 298,
   "id": "4e32e9e2-6124-41d1-ae3e-0baf38ccd097",
   "metadata": {
    "scrolled": true
   },
   "outputs": [
    {
     "name": "stdout",
     "output_type": "stream",
     "text": [
      "Finished sub-UTS01 model-predicted\n",
      "Finished sub-UTS01 human-audio\n",
      "Finished sub-UTS01 human-text\n",
      "Finished contrast ['model-predicted', 'human-audio']\n",
      "Finished contrast ['model-predicted', 'human-text']\n",
      "Finished contrast ['human-audio', 'human-text']\n",
      "Finished sub-UTS02 model-predicted\n",
      "Finished sub-UTS02 human-audio\n",
      "Finished sub-UTS02 human-text\n",
      "Finished contrast ['model-predicted', 'human-audio']\n",
      "Finished contrast ['model-predicted', 'human-text']\n",
      "Finished contrast ['human-audio', 'human-text']\n",
      "Finished sub-UTS03 model-predicted\n",
      "Finished sub-UTS03 human-audio\n",
      "Finished sub-UTS03 human-text\n",
      "Finished contrast ['model-predicted', 'human-audio']\n",
      "Finished contrast ['model-predicted', 'human-text']\n",
      "Finished contrast ['human-audio', 'human-text']\n",
      "Finished sub-UTS04 model-predicted\n",
      "Finished sub-UTS04 human-audio\n",
      "Finished sub-UTS04 human-text\n",
      "Finished contrast ['model-predicted', 'human-audio']\n",
      "Finished contrast ['model-predicted', 'human-text']\n",
      "Finished contrast ['human-audio', 'human-text']\n",
      "Finished sub-UTS05 model-predicted\n",
      "Finished sub-UTS05 human-audio\n",
      "Finished sub-UTS05 human-text\n",
      "Finished contrast ['model-predicted', 'human-audio']\n",
      "Finished contrast ['model-predicted', 'human-text']\n",
      "Finished contrast ['human-audio', 'human-text']\n",
      "Finished sub-UTS06 model-predicted\n",
      "Finished sub-UTS06 human-audio\n",
      "Finished sub-UTS06 human-text\n",
      "Finished contrast ['model-predicted', 'human-audio']\n",
      "Finished contrast ['model-predicted', 'human-text']\n",
      "Finished contrast ['human-audio', 'human-text']\n",
      "Finished sub-UTS07 model-predicted\n",
      "Finished sub-UTS07 human-audio\n",
      "Finished sub-UTS07 human-text\n",
      "Finished contrast ['model-predicted', 'human-audio']\n",
      "Finished contrast ['model-predicted', 'human-text']\n",
      "Finished contrast ['human-audio', 'human-text']\n",
      "Finished sub-UTS08 model-predicted\n",
      "Finished sub-UTS08 human-audio\n",
      "Finished sub-UTS08 human-text\n",
      "Finished contrast ['model-predicted', 'human-audio']\n",
      "Finished contrast ['model-predicted', 'human-text']\n",
      "Finished contrast ['human-audio', 'human-text']\n"
     ]
    }
   ],
   "source": [
    "feature_contrasts = [\n",
    "    ['model-predicted', 'human-audio'],\n",
    "    ['model-predicted', 'human-text'],\n",
    "    # ['model-predicted', 'ground-truth'],\n",
    "    # ['human-audio', 'ground-truth'],\n",
    "    # ['human-text', 'ground-truth'],\n",
    "    ['human-audio', 'human-text'] \n",
    "]\n",
    "\n",
    "behavioral_feature_types = ['model-predicted', 'human-audio', 'human-text'] #'ground-truth', \n",
    "\n",
    "# initialize dictionary of contrasts\n",
    "all_contrasts = {' - '.join(contrast): [] for contrast in feature_contrasts}\n",
    "\n",
    "all_sub_residuals = {dtype: [] for dtype in behavioral_feature_types}\n",
    "\n",
    "for sub, pvals in zip(sub_list, sub_pvals):\n",
    "    \n",
    "    sub_results_dir = os.path.join(results_dir, sub, model_name)\n",
    "    sub_data_dir = os.path.join(data_dir, sub)\n",
    "    \n",
    "    ds_sub_residuals = {} \n",
    "\n",
    "    for behavioral_type in behavioral_feature_types:\n",
    "\n",
    "        if dataset == 'deniz-readinglistening':\n",
    "            # sub_mapper_fn = glob.glob(os.path.join(data_dir, sub, 'mappers', '*fsaverage*'))\n",
    "            \n",
    "            # assert (len(sub_mapper_fn) == 1)\n",
    "    \n",
    "            # mapper = sparse.load_npz(sub_mapper_fn[0])\n",
    "    \n",
    "            if session:\n",
    "                sub_data_fn = sorted(glob.glob(os.path.join(sub_data_dir, f'*{session}*{task}*hyperaligned.npy')))\n",
    "                sub_results_fn = sorted(glob.glob(os.path.join(sub_results_dir, f'*{session}*{task}*prediction*{behavioral_type}*.npy')))\n",
    "            else:\n",
    "                sub_data_fn = sorted(glob.glob(os.path.join(sub_data_dir, f'*{task}*hyperaligned.npy')))\n",
    "                sub_results_fn = sorted(glob.glob(os.path.join(sub_results_dir, f'*{task}*prediction*{behavioral_type}*.npy')))    \n",
    "        else:\n",
    "            \n",
    "            sub_data_fn = sorted(glob.glob(os.path.join(sub_data_dir, f'*{task}*hyperaligned.npy')))\n",
    "            sub_results_fn = sorted(glob.glob(os.path.join(sub_results_dir, f'*{task}*prediction*{behavioral_type}*.npy')))\n",
    "    \n",
    "         # load ground-truth predictions --> predictions are the same regardless of run since weights dont change\n",
    "        assert ((len(sub_data_fn) == 5 or len(sub_data_fn) == 2))\n",
    "    \n",
    "        # load results, average and correlate with ground truth\n",
    "        Y_true = np.mean([np.load(fn) for fn in sub_data_fn], axis=0)\n",
    "        Y_pred = np.mean([np.load(fn) for fn in sub_results_fn], axis=0)\n",
    "    \n",
    "        absolute_error, mse = calculate_error(Y_true, Y_pred, critical_word_trs)\n",
    "        ds_sub_residuals[behavioral_type] = mse\n",
    "\n",
    "        print (f'Finished {sub} {behavioral_type}')\n",
    "\n",
    "    # df_sub_residuals = pd.concat(df_sub_residuals)\n",
    "    sub_contrast_dict = conduct_feature_contrasts(ds_sub_residuals, feature_contrasts)\n",
    "    \n",
    "    for k, v in all_contrasts.items():\n",
    "        # map to fsaverage space\n",
    "        # if dataset == 'deniz-readinglistening':\n",
    "        #     sub_contrast_dict[k] = sub_contrast_dict[k] @ mapper.T\n",
    "        v.append(sub_contrast_dict[k])\n",
    "\n",
    "    for k, v in all_sub_residuals.items():\n",
    "        # map to fsaverage space\n",
    "        # if dataset == 'deniz-readinglistening':\n",
    "        #     ds_sub_residuals[k] = ds_sub_residuals[k] @ mapper.T\n",
    "        v.append(ds_sub_residuals[k])\n",
    "\n",
    "all_contrasts = {k: np.stack(v).squeeze() for k, v in all_contrasts.items()}\n",
    "all_sub_residuals = {k: np.stack(v).squeeze() for k, v in all_sub_residuals.items()}"
   ]
  },
  {
   "cell_type": "markdown",
   "id": "c4e32fb0-7409-4cfa-84db-1efc9b957bca",
   "metadata": {},
   "source": [
    "### Plot degree human (regardless of modality) is better than model"
   ]
  },
  {
   "cell_type": "code",
   "execution_count": 300,
   "id": "5fedddd1-d837-4d83-b2fe-af97f146cb42",
   "metadata": {},
   "outputs": [],
   "source": [
    "human_v_model_maxes = [\n",
    "    ('deniz-listening', 0.029139802),\n",
    "    ('deniz-reading', 0.027565988),\n",
    "    ('huth-moth', 0.027026424)\n",
    "]"
   ]
  },
  {
   "cell_type": "code",
   "execution_count": 312,
   "id": "77ac091a-2d1d-495a-a11c-e375cf0b4701",
   "metadata": {},
   "outputs": [
    {
     "data": {
      "text/plain": [
       "0.013513212"
      ]
     },
     "execution_count": 312,
     "metadata": {},
     "output_type": "execute_result"
    }
   ],
   "source": [
    "0.027026424 / 2"
   ]
  },
  {
   "cell_type": "code",
   "execution_count": 299,
   "id": "dfaaa279-28ee-434b-8d54-0393e94fefc7",
   "metadata": {},
   "outputs": [
    {
     "name": "stdout",
     "output_type": "stream",
     "text": [
      "0.027026424\n"
     ]
    },
    {
     "ename": "SystemExit",
     "evalue": "0",
     "output_type": "error",
     "traceback": [
      "An exception has occurred, use %tb to see the full traceback.\n",
      "\u001b[0;31mSystemExit\u001b[0m\u001b[0;31m:\u001b[0m 0\n"
     ]
    }
   ],
   "source": [
    "human_v_model = (all_contrasts['model-predicted - human-audio'] + all_contrasts['model-predicted - human-text']) / 2\n",
    "\n",
    "for name in plot_types:\n",
    "    # average across subjects then trs\n",
    "    avg_contrast = np.nanmean(np.nanmean(human_v_model, axis=0), axis=0) #.mean(1).mean(0)\n",
    "    \n",
    "    if name == 'thresholded':\n",
    "        signif_threshold = np.logical_or(np.isnan(significance_counts), significance_counts < N_SUBS_SIGNIF_THRESHOLD)\n",
    "        avg_contrast[signif_threshold] = np.nan\n",
    "\n",
    "    print (np.nanmax(abs(avg_contrast)))\n",
    "    sys.exit(0)\n",
    "    \n",
    "    # set title and filename for writing\n",
    "    if session:\n",
    "        ses = f'_ses-{session}_'\n",
    "    else:\n",
    "        ses = '_'\n",
    "        \n",
    "    out_fn = os.path.join(plots_dir, f\"group{ses}task-{task}_model-predicted_human-contrast_run-avg-contrast-{name}.{EXT}\")\n",
    "    \n",
    "    title = '' #f'{dataset} - {ses} MSE contrast, {contrast}'#f'group - n_subs significance'\n",
    "    max_val = np.nanmax(abs(avg_contrast))\n",
    "    \n",
    "    if dataset == 'deniz-readinglistening':\n",
    "        surfs, data = plotting.numpy_to_surface(avg_contrast, target_density='41k')\n",
    "    else:\n",
    "        ds_avg = masker.inverse_transform(avg_contrast)\n",
    "        surfs, data = plotting.vol_to_surf(ds_avg, surf_type='fsaverage', map_type='inflated')\n",
    "    \n",
    "    layer = plotting.make_layers_dict(data=data, cmap='RdBu_r', label='model-predicted - human-predicted', alpha=1, color_range=(-max_val, max_val))\n",
    "    \n",
    "    if PLOT_SEPARATE_VIEWS:\n",
    "            for view in VIEWS:\n",
    "                _ = plotting.plot_surf_data(surfs, [layer], views=[view], colorbar=COLORBAR, surf_type=SURF_TYPE, \n",
    "                    add_depth=ADD_DEPTH, out_fn=out_fn.replace(f'.{EXT}', f'-{view}.{EXT}'),\n",
    "                    title=title)\n",
    "    else:\n",
    "        _ = plotting.plot_surf_data(surfs, [layer], views=VIEWS, colorbar=COLORBAR, surf_type=SURF_TYPE, \n",
    "            add_depth=ADD_DEPTH, out_fn=out_fn, title=title)"
   ]
  },
  {
   "cell_type": "markdown",
   "id": "d8d74da7-7592-485d-ae88-87e8ed14d9a7",
   "metadata": {},
   "source": [
    "### Plot as quadrants"
   ]
  },
  {
   "cell_type": "code",
   "execution_count": 276,
   "id": "317e927c-ab57-47d6-b21f-b95c68b5d213",
   "metadata": {},
   "outputs": [],
   "source": [
    "signif_threshold = np.logical_or(np.isnan(significance_counts), significance_counts < N_SUBS_SIGNIF_THRESHOLD)\n",
    "\n",
    "human_v_model = all_contrasts['model-predicted - human-audio'] + all_contrasts['model-predicted - human-text']\n",
    "avg_human_model_contrast = np.nanmean(np.nanmean(human_v_model, axis=0), axis=0) #.mean(1).mean(0)\n",
    "\n",
    "spoken_v_written = all_contrasts['human-audio - human-text']\n",
    "spoken_v_written = -1 * spoken_v_written\n",
    "\n",
    "avg_spoken_written_contrast = np.nanmean(np.nanmean(spoken_v_written, axis=0), axis=0) #.mean(1).mean(0)\n",
    "avg_spoken_written_contrast[signif_threshold] = np.nan\n",
    "\n",
    "\n",
    "xmax = np.nanmax(np.abs(avg_human_model_contrast))\n",
    "ymax = np.nanmax(np.abs(avg_spoken_written_contrast))"
   ]
  },
  {
   "cell_type": "code",
   "execution_count": 232,
   "id": "312bb0a0-b851-4e7a-9786-637cecf438ca",
   "metadata": {},
   "outputs": [],
   "source": [
    "def create_blended_colors(x, y, cmap1, cmap2):\n",
    "    \"\"\"Blend two colormaps in 2D.\"\"\"\n",
    "\n",
    "    # norm values \n",
    "    x_norm = (x - np.nanmin(x)) / (np.nanmax(x) - np.nanmin(x))\n",
    "    y_norm = (y - np.nanmin(y)) / (np.nanmax(y) - np.nanmin(y))\n",
    "\n",
    "    colors = []\n",
    "    for x, y in zip(x_norm, y_norm):\n",
    "        color = (np.array(cmap1(x)) + np.array(cmap2(y))) / 2\n",
    "        colors.append(color)\n",
    "    # # Generate linearly spaced values for x and y\n",
    "    # x_values = np.linspace(0, 1, 256)\n",
    "    # y_values = np.linspace(0, 1, 256)\n",
    "\n",
    "    # x_steps = list(range(256))\n",
    "    # y_steps = list(range(256))\n",
    "\n",
    "    # arr = np.ones((256, 256, 3))\n",
    "    \n",
    "    # for x, y in product(x_steps, y_steps):\n",
    "    #     arr[x, y] = np.stack(cmap1(x_values[x])) / \n",
    "        \n",
    "    #     np.mean(\n",
    "    #          + \n",
    "    #         np.stack(cmap1(x_values[x])) # cmap2(y_values[y]))\n",
    "\n",
    "    return colors\n",
    "\n"
   ]
  },
  {
   "cell_type": "code",
   "execution_count": 204,
   "id": "2f4e782b-b0c9-4f20-b251-7f1cde565d02",
   "metadata": {},
   "outputs": [],
   "source": [
    "spoken_written_colormap = create_spoken_written_cmap()\n",
    "human_model_cmap = cmap.get_cmap('RdBu_r')"
   ]
  },
  {
   "cell_type": "code",
   "execution_count": 233,
   "id": "5b0ba37d-25a5-45ca-b4fd-e787b2b2f370",
   "metadata": {},
   "outputs": [],
   "source": [
    "colors = create_blended_colors(avg_human_model_contrast, avg_spoken_written_contrast, human_model_cmap, spoken_written_colormap)"
   ]
  },
  {
   "cell_type": "code",
   "execution_count": 235,
   "id": "bf06ee38-f7df-4591-b248-f8868819873b",
   "metadata": {},
   "outputs": [
    {
     "data": {
      "text/plain": [
       "'1.2.2'"
      ]
     },
     "execution_count": 235,
     "metadata": {},
     "output_type": "execute_result"
    }
   ],
   "source": [
    "pd.__version__"
   ]
  },
  {
   "cell_type": "code",
   "execution_count": 234,
   "id": "61847a6a-1795-48f3-a735-bca3197a27d2",
   "metadata": {},
   "outputs": [
    {
     "data": {
      "text/plain": [
       "<matplotlib.collections.LineCollection at 0x2aeceeb28c70>"
      ]
     },
     "execution_count": 234,
     "metadata": {},
     "output_type": "execute_result"
    },
    {
     "data": {
      "image/png": "[encoded data removed]",
      "text/plain": [
       "<Figure size 640x480 with 1 Axes>"
      ]
     },
     "metadata": {},
     "output_type": "display_data"
    }
   ],
   "source": [
    "plt.scatter(avg_human_model_contrast, avg_spoken_written_contrast, s=3, c=colors)\n",
    "plt.xlim([-xmax, xmax])\n",
    "plt.ylim([-ymax, ymax])\n",
    "\n",
    "plt.vlines(x=0, ymin=-ymax, ymax=ymax, linestyles='dashed', color='k')\n",
    "plt.hlines(y=0, xmin=-xmax, xmax=xmax, linestyles='dashed', color='k')"
   ]
  },
  {
   "cell_type": "markdown",
   "id": "01154493-5e47-48d3-bc16-52e427037432",
   "metadata": {},
   "source": [
    "### Plot average of contrast across subjects"
   ]
  },
  {
   "cell_type": "code",
   "execution_count": 18,
   "id": "7e99075c-822a-47dd-ab16-02026257a1b6",
   "metadata": {},
   "outputs": [],
   "source": [
    "import matplotlib.colors as clr\n",
    "\n",
    "def create_spoken_written_cmap():\n",
    "    spoken_written_cmap = clr.LinearSegmentedColormap.from_list('spoken-written', ['#005208', '#72D16B', '#F7F6F6', '#E4B266', '#623800'], N=256)\n",
    "    spoken_written_cmap = spoken_written_cmap.reversed()\n",
    "    spoken_written_cmap\n",
    "    return spoken_written_cmap"
   ]
  },
  {
   "cell_type": "code",
   "execution_count": 297,
   "id": "7acb1e76-668a-48cb-a4c0-2b9a54dca529",
   "metadata": {},
   "outputs": [
    {
     "data": {
      "image/png": "[encoded data removed]",
      "text/plain": [
       "<Figure size 640x480 with 1 Axes>"
      ]
     },
     "metadata": {},
     "output_type": "display_data"
    }
   ],
   "source": [
    "plotting.plot_colorbar(-1, 1, nticks=5, cmap=spoken_written_cmap, out_fn='spoken-written-cbar.pdf')"
   ]
  },
  {
   "cell_type": "code",
   "execution_count": null,
   "id": "d3693abf-ce30-4c95-a884-d89a2d2cd46e",
   "metadata": {},
   "outputs": [],
   "source": [
    "spoken_written_maxes = [\n",
    "    ('deniz-listening', 0.017292226),\n",
    "    ('deniz-reading', 0.015913997),\n",
    "    ('huth-moth', 0.009970156)\n",
    "]"
   ]
  },
  {
   "cell_type": "code",
   "execution_count": 301,
   "id": "eccb0906-f141-45c8-bbe2-07903d5e5682",
   "metadata": {},
   "outputs": [
    {
     "name": "stdout",
     "output_type": "stream",
     "text": [
      "0.009970156\n"
     ]
    },
    {
     "ename": "SystemExit",
     "evalue": "0",
     "output_type": "error",
     "traceback": [
      "An exception has occurred, use %tb to see the full traceback.\n",
      "\u001b[0;31mSystemExit\u001b[0m\u001b[0;31m:\u001b[0m 0\n"
     ]
    }
   ],
   "source": [
    "plot_types = ['thresholded', 'unthresholded']\n",
    "\n",
    "spoken_written_colormap = create_spoken_written_cmap()\n",
    "\n",
    "for contrast, ds_contrast in all_contrasts.items():\n",
    "\n",
    "    if contrast != 'human-audio - human-text':\n",
    "        continue\n",
    "    else:\n",
    "        ds_contrast = -1 * ds_contrast\n",
    "    \n",
    "    for name in plot_types:\n",
    "        # average across subjecst and then trs\n",
    "        avg_contrast = np.nanmean(np.nanmean(ds_contrast, axis=0), axis=0) #.mean(1).mean(0)\n",
    "        \n",
    "        if name == 'thresholded':\n",
    "            signif_threshold = np.logical_or(np.isnan(significance_counts), significance_counts < N_SUBS_SIGNIF_THRESHOLD)\n",
    "            avg_contrast[signif_threshold] = np.nan\n",
    "\n",
    "        print (np.nanmax(abs(avg_contrast)))\n",
    "        sys.exit(0)\n",
    "        # set title and filename for writing\n",
    "        if session:\n",
    "            ses = f'_ses-{session}_'\n",
    "        else:\n",
    "            ses = '_'\n",
    "            \n",
    "        out_fn = os.path.join(plots_dir, f\"group{ses}task-{task}_{contrast.replace(' - ', '_')}_run-avg-contrast-{name}.{EXT}\")\n",
    "\n",
    "        title = '' #f'{dataset} - {ses} MSE contrast, {contrast}'#f'group - n_subs significance'\n",
    "        max_val = np.nanmax(abs(avg_contrast))\n",
    "\n",
    "        \n",
    "        print (contrast)\n",
    "        print (max_val)\n",
    "        \n",
    "        if dataset == 'deniz-readinglistening':\n",
    "            surfs, data = plotting.numpy_to_surface(avg_contrast, target_density='41k')\n",
    "        else:\n",
    "            ds_avg = masker.inverse_transform(avg_contrast)\n",
    "            surfs, data = plotting.vol_to_surf(ds_avg, surf_type='fsaverage', map_type='inflated')\n",
    "        \n",
    "        layer = plotting.make_layers_dict(data=data, \n",
    "                                          cmap=spoken_written_colormap if contrast == 'human-audio - human-text' else 'RdBu_r', \n",
    "                                          label=contrast, alpha=1, color_range=(-max_val, max_val))\n",
    "        \n",
    "        if PLOT_SEPARATE_VIEWS:\n",
    "                for view in VIEWS:\n",
    "                    _ = plotting.plot_surf_data(surfs, [layer], views=[view], colorbar=COLORBAR, surf_type=SURF_TYPE, \n",
    "                        add_depth=ADD_DEPTH, out_fn=out_fn.replace(f'.{EXT}', f'-{view}.{EXT}'),\n",
    "                        title=title)\n",
    "        else:\n",
    "            _ = plotting.plot_surf_data(surfs, [layer], views=VIEWS, colorbar=COLORBAR, surf_type=SURF_TYPE, \n",
    "                add_depth=ADD_DEPTH, out_fn=out_fn, title=title)"
   ]
  }
 ],
 "metadata": {
  "kernelspec": {
   "display_name": "Python 3 (ipykernel)",
   "language": "python",
   "name": "python3"
  },
  "language_info": {
   "codemirror_mode": {
    "name": "ipython",
    "version": 3
   },
   "file_extension": ".py",
   "mimetype": "text/x-python",
   "name": "python",
   "nbconvert_exporter": "python",
   "pygments_lexer": "ipython3",
   "version": "3.9.19"
  }
 },
 "nbformat": 4,
 "nbformat_minor": 5
}
