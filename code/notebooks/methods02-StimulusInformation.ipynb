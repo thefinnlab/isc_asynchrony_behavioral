{
 "cells": [
  {
   "cell_type": "code",
   "execution_count": 1,
   "id": "c74b75aa",
   "metadata": {},
   "outputs": [
    {
     "name": "stdout",
     "output_type": "stream",
     "text": [
      "Token will not been saved to git credential helper. Pass `add_to_git_credential=True` if you want to set the git credential as well.\n",
      "Token is valid (permission: write).\n",
      "Your token has been saved to /dartfs/rc/lab/F/FinnLab/tommy/models/token\n",
      "Login successful\n"
     ]
    },
    {
     "name": "stderr",
     "output_type": "stream",
     "text": [
      "2025-03-29 13:33:00.372888: E tensorflow/compiler/xla/stream_executor/cuda/cuda_dnn.cc:9342] Unable to register cuDNN factory: Attempting to register factory for plugin cuDNN when one has already been registered\n",
      "2025-03-29 13:33:00.372952: E tensorflow/compiler/xla/stream_executor/cuda/cuda_fft.cc:609] Unable to register cuFFT factory: Attempting to register factory for plugin cuFFT when one has already been registered\n",
      "2025-03-29 13:33:00.372990: E tensorflow/compiler/xla/stream_executor/cuda/cuda_blas.cc:1518] Unable to register cuBLAS factory: Attempting to register factory for plugin cuBLAS when one has already been registered\n",
      "2025-03-29 13:33:00.383480: I tensorflow/core/platform/cpu_feature_guard.cc:182] This TensorFlow binary is optimized to use available CPU instructions in performance-critical operations.\n",
      "To enable the following instructions: AVX2 FMA, in other operations, rebuild TensorFlow with the appropriate compiler flags.\n",
      "2025-03-29 13:33:09.197277: W tensorflow/compiler/tf2tensorrt/utils/py_utils.cc:38] TF-TRT Warning: Could not find TensorRT\n"
     ]
    }
   ],
   "source": [
    "import os, sys\n",
    "import glob\n",
    "import json\n",
    "import re\n",
    "from tqdm import tqdm \n",
    "from itertools import product\n",
    "\n",
    "import numpy as np\n",
    "import pandas as pd\n",
    "\n",
    "sys.path.append('/dartfs/rc/lab/F/FinnLab/tommy/isc_asynchrony_behavior/code/utils/')\n",
    "\n",
    "from config import *\n",
    "import analysis_utils as utils"
   ]
  },
  {
   "cell_type": "code",
   "execution_count": 2,
   "id": "e970399b",
   "metadata": {},
   "outputs": [],
   "source": [
    "task_list = ['black', 'wheretheressmoke', 'howtodraw']\n",
    "preproc_dir = os.path.join(BASE_DIR, 'stimuli/preprocessed')"
   ]
  },
  {
   "cell_type": "code",
   "execution_count": 20,
   "id": "2196ef88",
   "metadata": {},
   "outputs": [],
   "source": [
    "story_stats = {}\n",
    "\n",
    "for task in task_list:\n",
    "    selected_fn = glob.glob(os.path.join(preproc_dir, task, '*selected.csv'))[0]\n",
    "    df_selected = pd.read_csv(selected_fn)\n",
    "\n",
    "    n_sampled = df_selected['NWP_Candidate'].sum()\n",
    "    total_words = len(df_selected['NWP_Candidate'])\n",
    "    percent_words = 100 * (n_sampled / total_words)\n",
    "\n",
    "    story_stats[task] = {\n",
    "        'n_sampled': n_sampled,\n",
    "        'total_words': total_words,\n",
    "        'percent_words': percent_words,\n",
    "        'percent_words_subj': percent_words / 3 if task != 'black' else percent_words / 4\n",
    "    }"
   ]
  },
  {
   "cell_type": "code",
   "execution_count": 25,
   "id": "7c75a034",
   "metadata": {},
   "outputs": [
    {
     "name": "stdout",
     "output_type": "stream",
     "text": [
      "Total words sampled: 672 \n",
      "Average percent of all words: 12.64 \n",
      "Average percent of subj words: 3.86 \n"
     ]
    }
   ],
   "source": [
    "total_sampled_words = [story_stats[task]['n_sampled'] for task in task_list]\n",
    "\n",
    "all_task_percent_words = [story_stats[task]['percent_words'] for task in task_list]\n",
    "all_task_percent_subj = [story_stats[task]['percent_words_subj'] for task in task_list]\n",
    "\n",
    "print (f\"Total words sampled: {sum(total_sampled_words)} \")\n",
    "print (f\"Average percent of all words: {np.mean(all_task_percent_words):.2f} \")\n",
    "print (f\"Average percent of subj words: {np.mean(all_task_percent_subj):.2f} \")"
   ]
  },
  {
   "cell_type": "code",
   "execution_count": null,
   "id": "dcf3a37f",
   "metadata": {},
   "outputs": [
    {
     "data": {
      "text/plain": [
       "{'black': {'n_sampled': 194,\n",
       "  'total_words': 1541,\n",
       "  'percent_words': 0.12589227774172615},\n",
       " 'wheretheressmoke': {'n_sampled': 194,\n",
       "  'total_words': 1541,\n",
       "  'percent_words': 0.12589227774172615},\n",
       " 'howtodraw': {'n_sampled': 194,\n",
       "  'total_words': 1541,\n",
       "  'percent_words': 0.12589227774172615}}"
      ]
     },
     "execution_count": 17,
     "metadata": {},
     "output_type": "execute_result"
    }
   ],
   "source": [
    "[story_stats[for k, v in story_stats.items()]"
   ]
  },
  {
   "cell_type": "code",
   "execution_count": 10,
   "id": "887f6e21",
   "metadata": {},
   "outputs": [],
   "source": [
    "df_selected = pd.read_csv(selected_fn)"
   ]
  },
  {
   "cell_type": "code",
   "execution_count": 15,
   "id": "8476609d",
   "metadata": {},
   "outputs": [
    {
     "data": {
      "text/plain": [
       "0.12589227774172615"
      ]
     },
     "execution_count": 15,
     "metadata": {},
     "output_type": "execute_result"
    }
   ],
   "source": [
    "df_selected['NWP_Candidate'].sum() / len(df_selected)"
   ]
  }
 ],
 "metadata": {
  "kernelspec": {
   "display_name": "Python 3",
   "language": "python",
   "name": "python3"
  },
  "language_info": {
   "codemirror_mode": {
    "name": "ipython",
    "version": 3
   },
   "file_extension": ".py",
   "mimetype": "text/x-python",
   "name": "python",
   "nbconvert_exporter": "python",
   "pygments_lexer": "ipython3",
   "version": "3.9.21"
  }
 },
 "nbformat": 4,
 "nbformat_minor": 5
}
