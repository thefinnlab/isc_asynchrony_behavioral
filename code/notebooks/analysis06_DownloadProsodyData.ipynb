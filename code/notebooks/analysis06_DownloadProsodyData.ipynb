{
 "cells": [
  {
   "cell_type": "code",
   "execution_count": 1,
   "id": "a528bc23-430b-40e7-b7ad-7171c833ad7c",
   "metadata": {},
   "outputs": [
    {
     "name": "stdout",
     "output_type": "stream",
     "text": [
      "The token has not been saved to the git credentials helper. Pass `add_to_git_credential=True` in this function directly or `--add-to-git-credential` if using via `huggingface-cli` if you want to set the git credential as well.\n",
      "Token is valid (permission: write).\n",
      "Your token has been saved to /dartfs/rc/lab/F/FinnLab/tommy/models/token\n",
      "Login successful\n"
     ]
    }
   ],
   "source": [
    "%load_ext autoreload\n",
    "%autoreload 2\n",
    "import warnings\n",
    "warnings.filterwarnings(\"ignore\")\n",
    "    \n",
    "import os, sys\n",
    "import glob\n",
    "\n",
    "sys.path.append('/dartfs/rc/lab/F/FinnLab/tommy/isc_asynchrony_behavior/code/utils/')\n",
    "\n",
    "from config import *\n",
    "import analysis_utils as utils"
   ]
  },
  {
   "cell_type": "code",
   "execution_count": 1,
   "id": "27732982",
   "metadata": {},
   "outputs": [
    {
     "data": {
      "application/vnd.jupyter.widget-view+json": {
       "model_id": "6dbd6b56d3ab4b4cb7cd481430acf150",
       "version_major": 2,
       "version_minor": 0
      },
      "text/plain": [
       "Loading dataset shards:   0%|          | 0/37 [00:00<?, ?it/s]"
      ]
     },
     "metadata": {},
     "output_type": "display_data"
    }
   ],
   "source": [
    "from datasets import load_dataset\n",
    "\n",
    "ds = load_dataset(\"amphion/Emilia-Dataset\",  data_files={\"en\": \"EN/EN-B00000*.tar\"}, split=\"en\")\n",
    "# ds = load_dataset(\"MLCommons/peoples_speech\", config='cc-by-clean')"
   ]
  },
  {
   "cell_type": "code",
   "execution_count": 1,
   "id": "f2116993",
   "metadata": {},
   "outputs": [],
   "source": [
    "from datasets import load_dataset, DatasetDict, Dataset, Features\n",
    "import json\n",
    "from collections import defaultdict\n",
    "import random\n",
    "\n",
    "def load_emilia_speaker_split(\n",
    "    data_files: dict = {\"en\": \"EN/EN-B00000*.tar\"},\n",
    "    split=\"en\",\n",
    "    train_ratio: float = 0.8,\n",
    "    val_ratio: float = 0.1,\n",
    "    test_ratio: float = 0.1,\n",
    "    seed: int = 42\n",
    ") -> DatasetDict:\n",
    "    \"\"\"\n",
    "    Load the Emilia dataset with speaker-aware train/val/test splits.\n",
    "    \n",
    "    Args:\n",
    "        data_files: Dict specifying which files to load (default: {\"en\": \"EN/EN-B00000*.tar\"})\n",
    "        train_ratio: Proportion of speakers for training (default: 0.8)\n",
    "        val_ratio: Proportion of speakers for validation (default: 0.1)\n",
    "        test_ratio: Proportion of speakers for testing (default: 0.1)\n",
    "        seed: Random seed for reproducibility (default: 42)\n",
    "    \n",
    "    Returns:\n",
    "        DatasetDict containing train, validation, and test splits\n",
    "    \"\"\"\n",
    "    # Load the original dataset\n",
    "    dataset = load_dataset(\n",
    "        \"amphion/Emilia-Dataset\",\n",
    "        data_files=data_files,\n",
    "        split=\"en\"\n",
    "    )\n",
    "    \n",
    "    # Group samples by speaker\n",
    "    speaker_to_indices = defaultdict(list)\n",
    "    for idx, item in enumerate(dataset):\n",
    "        metadata = item['json']\n",
    "        speaker = metadata.get('speaker')\n",
    "        if speaker:\n",
    "            speaker_to_indices[speaker].append(idx)\n",
    "    \n",
    "    # Calculate split sizes\n",
    "    total_speakers = len(speaker_to_indices)\n",
    "    n_train = int(total_speakers * train_ratio)\n",
    "    n_val = int(total_speakers * val_ratio)\n",
    "    n_test = total_speakers - n_train - n_val\n",
    "    \n",
    "    # Create speaker splits\n",
    "    random.seed(seed)\n",
    "    speakers = list(speaker_to_indices.keys())\n",
    "    random.shuffle(speakers)\n",
    "    \n",
    "    train_speakers = speakers[:n_train]\n",
    "    val_speakers = speakers[n_train:n_train + n_val]\n",
    "    test_speakers = speakers[n_train + n_val:]\n",
    "    \n",
    "    # Create index lists for each split\n",
    "    train_indices = [idx for speaker in train_speakers for idx in speaker_to_indices[speaker]]\n",
    "    val_indices = [idx for speaker in val_speakers for idx in speaker_to_indices[speaker]]\n",
    "    test_indices = [idx for speaker in test_speakers for idx in speaker_to_indices[speaker]]\n",
    "    \n",
    "    # Create the split datasets\n",
    "    train_dataset = dataset.select(train_indices)\n",
    "    val_dataset = dataset.select(val_indices)\n",
    "    test_dataset = dataset.select(test_indices)\n",
    "    \n",
    "    # Print split statistics\n",
    "    print(f\"Total speakers: {total_speakers}\")\n",
    "    print(f\"Train: {len(train_speakers)} speakers, {len(train_indices)} samples\")\n",
    "    print(f\"Val: {len(val_speakers)} speakers, {len(val_indices)} samples\")\n",
    "    print(f\"Test: {len(test_speakers)} speakers, {len(test_indices)} samples\")\n",
    "    \n",
    "    # Return as DatasetDict\n",
    "    return DatasetDict({\n",
    "        'train': train_dataset,\n",
    "        'validation': val_dataset,\n",
    "        'test': test_dataset\n",
    "    })"
   ]
  },
  {
   "cell_type": "code",
   "execution_count": 3,
   "id": "87c47e58",
   "metadata": {},
   "outputs": [
    {
     "data": {
      "application/vnd.jupyter.widget-view+json": {
       "model_id": "92f3fec490d4417da3a20aae59e432fe",
       "version_major": 2,
       "version_minor": 0
      },
      "text/plain": [
       "Loading dataset shards:   0%|          | 0/37 [00:00<?, ?it/s]"
      ]
     },
     "metadata": {},
     "output_type": "display_data"
    },
    {
     "name": "stderr",
     "output_type": "stream",
     "text": [
      "Exception ignored from cffi callback <function SoundFile._init_virtual_io.<locals>.vio_read at 0x1528fbb25a80>:\n",
      "Traceback (most recent call last):\n",
      "  File \"/dartfs/rc/lab/F/FinnLab/tommy/conda/envs/prosody/lib/python3.12/site-packages/soundfile.py\", line 1241, in vio_read\n",
      "    @_ffi.callback(\"sf_vio_read\")\n",
      "\n",
      "KeyboardInterrupt: \n"
     ]
    }
   ],
   "source": [
    "ds = load_emilia_speaker_split(\n",
    "    data_files={\"en\": \"EN/EN-B00000*.tar\"},\n",
    "    split=\"en[:50000]\"\n",
    ")"
   ]
  },
  {
   "cell_type": "code",
   "execution_count": 3,
   "id": "562d9678",
   "metadata": {},
   "outputs": [],
   "source": [
    "extractor = WaveletProminenceExtractor(\n",
    "\n",
    "    root_dir = '/dartfs/rc/lab/F/FinnLab/datasets/gigaspeech/prosody/',\n",
    "    data_dir = 'validation'\n",
    ")"
   ]
  },
  {
   "cell_type": "code",
   "execution_count": 1,
   "id": "96f4c151",
   "metadata": {},
   "outputs": [
    {
     "name": "stdout",
     "output_type": "stream",
     "text": [
      "The token has not been saved to the git credentials helper. Pass `add_to_git_credential=True` in this function directly or `--add-to-git-credential` if using via `huggingface-cli` if you want to set the git credential as well.\n",
      "Token is valid (permission: write).\n",
      "Your token has been saved to /dartfs/rc/lab/F/FinnLab/tommy/models/token\n",
      "Login successful\n"
     ]
    },
    {
     "name": "stderr",
     "output_type": "stream",
     "text": [
      "/dartfs/rc/lab/F/FinnLab/tommy/conda/envs/prosody/lib/python3.12/site-packages/transformers/utils/hub.py:127: FutureWarning: Using `TRANSFORMERS_CACHE` is deprecated and will be removed in v5 of Transformers. Use `HF_HOME` instead.\n",
      "  warnings.warn(\n"
     ]
    }
   ],
   "source": [
    "    \n",
    "%load_ext autoreload\n",
    "%autoreload 2\n",
    "import os, sys\n",
    "import glob\n",
    "\n",
    "sys.path.append('/dartfs/rc/lab/F/FinnLab/tommy/isc_asynchrony_behavior/code/utils/')\n",
    "sys.path.append('/dartfs/rc/lab/F/FinnLab/tommy/isc_asynchrony_behavior/code/modeling/joint-clm-prosody/')\n",
    "\n",
    "from config import *\n",
    "import analysis_utils as utils\n",
    "\n",
    "from src.data.wavelet_prominence_datamodule import WaveletDataModule\n",
    "from src.models.joint_clm_prosody import ProsodyCausalLM \n",
    "from src.data.prominence_regression_datamodule import ProminenceRegressionDataModule\n"
   ]
  },
  {
   "cell_type": "code",
   "execution_count": 3,
   "id": "6feaffff",
   "metadata": {},
   "outputs": [
    {
     "name": "stdout",
     "output_type": "stream",
     "text": [
      "Using GPT2 tokenizer\n"
     ]
    },
    {
     "name": "stderr",
     "output_type": "stream",
     "text": [
      "/dartfs/rc/lab/F/FinnLab/tommy/conda/envs/prosody/lib/python3.12/site-packages/transformers/tokenization_utils_base.py:1601: FutureWarning: `clean_up_tokenization_spaces` was not set. It will be set to `True` by default. This behavior will be depracted in transformers v4.45, and will be then set to `False` by default. For more details check this issue: https://github.com/huggingface/transformers/issues/31884\n",
      "  warnings.warn(\n"
     ]
    },
    {
     "name": "stdout",
     "output_type": "stream",
     "text": [
      "Dataloader: padding with token id: 50256\n",
      "Loading data from /dartfs/rc/lab/F/FinnLab/tommy/isc_asynchrony_behavior/code/modeling/joint-clm-prosody/data/helsinki-prosody/data\n"
     ]
    },
    {
     "name": "stderr",
     "output_type": "stream",
     "text": [
      "Preprocessing samples: 100%|██████████| 4822/4822 [00:07<00:00, 634.71it/s]"
     ]
    },
    {
     "name": "stdout",
     "output_type": "stream",
     "text": [
      "Failed 325/4822\n"
     ]
    },
    {
     "name": "stderr",
     "output_type": "stream",
     "text": [
      "\n"
     ]
    }
   ],
   "source": [
    "helsinki_dm = ProminenceRegressionDataModule(\n",
    "    data_dir='/dartfs/rc/lab/F/FinnLab/tommy/isc_asynchrony_behavior/code/modeling/joint-clm-prosody/data/helsinki-prosody/data',\n",
    "    train_file=\"train_360.txt\",\n",
    "    val_file=\"dev.txt\",\n",
    "    test_file=\"test.txt\",\n",
    "    dataset_name=\"helsinki\",\n",
    "    model_name=\"gpt2\"\n",
    ")\n",
    "\n",
    "helsinki_dm.setup(stage='test')"
   ]
  },
  {
   "cell_type": "code",
   "execution_count": 2,
   "id": "885f85da",
   "metadata": {},
   "outputs": [
    {
     "name": "stdout",
     "output_type": "stream",
     "text": [
      "Using GPT2 tokenizer\n"
     ]
    },
    {
     "name": "stderr",
     "output_type": "stream",
     "text": [
      "/dartfs/rc/lab/F/FinnLab/tommy/conda/envs/prosody/lib/python3.12/site-packages/transformers/tokenization_utils_base.py:1601: FutureWarning: `clean_up_tokenization_spaces` was not set. It will be set to `True` by default. This behavior will be depracted in transformers v4.45, and will be then set to `False` by default. For more details check this issue: https://github.com/huggingface/transformers/issues/31884\n",
      "  warnings.warn(\n"
     ]
    },
    {
     "name": "stdout",
     "output_type": "stream",
     "text": [
      "Dataloader: padding with token id: 50256\n",
      "Loading data from /dartfs/rc/lab/F/FinnLab/datasets/gigaspeech/prosody\n"
     ]
    },
    {
     "name": "stderr",
     "output_type": "stream",
     "text": [
      "Preprocessing samples: 100%|██████████| 19815/19815 [00:29<00:00, 668.40it/s]\n"
     ]
    },
    {
     "name": "stdout",
     "output_type": "stream",
     "text": [
      "Failed 1621/19815\n"
     ]
    }
   ],
   "source": [
    "data_module = WaveletDataModule(\n",
    "        data_dir='/dartfs/rc/lab/F/FinnLab/datasets/gigaspeech/prosody/',\n",
    "        dataset_name='gigaspeech',\n",
    "        model_name='gpt2',\n",
    "    )\n",
    "\n",
    "data_module.setup(stage=\"test\")"
   ]
  },
  {
   "cell_type": "code",
   "execution_count": 4,
   "id": "a6c90f52",
   "metadata": {},
   "outputs": [
    {
     "name": "stdout",
     "output_type": "stream",
     "text": [
      "Loading Huggingface model.\n",
      "Initializing new model\n",
      "Using joint loss\n"
     ]
    }
   ],
   "source": [
    "# helsinki_dataloader = helsinki_dm.test_dataloader()\n",
    "gigaspeech_dataloader = data_module.test_dataloader()\n",
    "\n",
    "model = ProsodyCausalLM(model_name='gpt2', pretrained=False)"
   ]
  },
  {
   "cell_type": "code",
   "execution_count": 5,
   "id": "13f76045",
   "metadata": {},
   "outputs": [
    {
     "ename": "SystemExit",
     "evalue": "0",
     "output_type": "error",
     "traceback": [
      "An exception has occurred, use %tb to see the full traceback.\n",
      "\u001b[0;31mSystemExit\u001b[0m\u001b[0;31m:\u001b[0m 0\n"
     ]
    },
    {
     "name": "stderr",
     "output_type": "stream",
     "text": [
      "/dartfs/rc/lab/F/FinnLab/tommy/conda/envs/prosody/lib/python3.12/site-packages/IPython/core/interactiveshell.py:3585: UserWarning: To exit: use 'exit', 'quit', or Ctrl-D.\n",
      "  warn(\"To exit: use 'exit', 'quit', or Ctrl-D.\", stacklevel=1)\n"
     ]
    }
   ],
   "source": [
    "for batch in gigaspeech_dataloader:\n",
    "    sys.exit(0)"
   ]
  },
  {
   "cell_type": "code",
   "execution_count": 6,
   "id": "fc686559",
   "metadata": {},
   "outputs": [],
   "source": [
    "labels = batch['tokenized_labels']\n",
    "mask = batch['loss_mask']"
   ]
  },
  {
   "cell_type": "code",
   "execution_count": 7,
   "id": "31446b38",
   "metadata": {},
   "outputs": [],
   "source": [
    "from matplotlib import pyplot as plt"
   ]
  },
  {
   "cell_type": "code",
   "execution_count": 8,
   "id": "38383344",
   "metadata": {},
   "outputs": [
    {
     "data": {
      "text/plain": [
       "(array([638., 201., 152., 144., 119.,  85.,  76.,  74.,  38.,  32.,  15.,\n",
       "         20.,  10.,  12.,   4.,   2.,   0.,   0.,   0.,   3.]),\n",
       " array([0.        , 0.22690001, 0.45380002, 0.6807    , 0.90760005,\n",
       "        1.13450003, 1.36140001, 1.58829999, 1.81520009, 2.04209995,\n",
       "        2.26900005, 2.49590015, 2.72280002, 2.94970012, 3.17659998,\n",
       "        3.40350008, 3.63040018, 3.85730004, 4.08419991, 4.31110001,\n",
       "        4.53800011]),\n",
       " <BarContainer object of 20 artists>)"
      ]
     },
     "execution_count": 8,
     "metadata": {},
     "output_type": "execute_result"
    },
    {
     "data": {
      "image/png": "[encoded data removed]",
      "text/plain": [
       "<Figure size 640x480 with 1 Axes>"
      ]
     },
     "metadata": {},
     "output_type": "display_data"
    }
   ],
   "source": [
    "plt.hist(labels[mask.to(bool)], bins=20)"
   ]
  },
  {
   "cell_type": "code",
   "execution_count": 226,
   "id": "82f3dffa",
   "metadata": {},
   "outputs": [
    {
     "ename": "SystemExit",
     "evalue": "0",
     "output_type": "error",
     "traceback": [
      "An exception has occurred, use %tb to see the full traceback.\n",
      "\u001b[0;31mSystemExit\u001b[0m\u001b[0;31m:\u001b[0m 0\n"
     ]
    },
    {
     "name": "stderr",
     "output_type": "stream",
     "text": [
      "/dartfs/rc/lab/F/FinnLab/tommy/conda/envs/prosody/lib/python3.12/site-packages/IPython/core/interactiveshell.py:3585: UserWarning: To exit: use 'exit', 'quit', or Ctrl-D.\n",
      "  warn(\"To exit: use 'exit', 'quit', or Ctrl-D.\", stacklevel=1)\n"
     ]
    }
   ],
   "source": [
    "helsinki_dataloader = helsinki_dm.test_dataloader()\n",
    "\n",
    "for batch in helsinki_dataloader:\n",
    "    sys.exit(0)"
   ]
  },
  {
   "cell_type": "code",
   "execution_count": 47,
   "id": "e51bdc7c",
   "metadata": {},
   "outputs": [
    {
     "name": "stdout",
     "output_type": "stream",
     "text": [
      "Using GPT2 tokenizer\n"
     ]
    },
    {
     "name": "stderr",
     "output_type": "stream",
     "text": [
      "/dartfs/rc/lab/F/FinnLab/tommy/conda/envs/prosody/lib/python3.12/site-packages/transformers/tokenization_utils_base.py:1601: FutureWarning: `clean_up_tokenization_spaces` was not set. It will be set to `True` by default. This behavior will be depracted in transformers v4.45, and will be then set to `False` by default. For more details check this issue: https://github.com/huggingface/transformers/issues/31884\n",
      "  warnings.warn(\n"
     ]
    },
    {
     "name": "stdout",
     "output_type": "stream",
     "text": [
      "Dataloader: padding with token id: 50256\n",
      "Loading data from /dartfs/rc/lab/F/FinnLab/datasets/gigaspeech/prosody\n"
     ]
    },
    {
     "name": "stderr",
     "output_type": "stream",
     "text": [
      "Preprocessing samples: 100%|██████████| 19815/19815 [00:31<00:00, 630.76it/s]"
     ]
    },
    {
     "name": "stdout",
     "output_type": "stream",
     "text": [
      "Failed 1621/19815\n"
     ]
    },
    {
     "name": "stderr",
     "output_type": "stream",
     "text": [
      "\n"
     ]
    }
   ],
   "source": [
    "# modeling_dir = os.path.join(BASE_DIR, 'code/modeling/joint-clm-prosody')\n",
    "\n",
    "data_module = WaveletDataModule(\n",
    "    dataset_name = 'gigaspeech',\n",
    "    data_dir = '/dartfs/rc/lab/F/FinnLab/datasets/gigaspeech/prosody/',\n",
    "    model_name = \"gpt2\",\n",
    "    batch_size=32,\n",
    ")\n",
    "\n",
    "data_module.setup(stage=\"test\")\n"
   ]
  },
  {
   "cell_type": "code",
   "execution_count": 216,
   "id": "287aced4",
   "metadata": {},
   "outputs": [
    {
     "ename": "SystemExit",
     "evalue": "0",
     "output_type": "error",
     "traceback": [
      "An exception has occurred, use %tb to see the full traceback.\n",
      "\u001b[0;31mSystemExit\u001b[0m\u001b[0;31m:\u001b[0m 0\n"
     ]
    },
    {
     "name": "stderr",
     "output_type": "stream",
     "text": [
      "/dartfs/rc/lab/F/FinnLab/tommy/conda/envs/prosody/lib/python3.12/site-packages/IPython/core/interactiveshell.py:3585: UserWarning: To exit: use 'exit', 'quit', or Ctrl-D.\n",
      "  warn(\"To exit: use 'exit', 'quit', or Ctrl-D.\", stacklevel=1)\n"
     ]
    }
   ],
   "source": [
    "for batch in data_module.test_dataloader():\n",
    "    sys.exit(0)"
   ]
  },
  {
   "cell_type": "code",
   "execution_count": 359,
   "id": "0da3bad0",
   "metadata": {},
   "outputs": [],
   "source": [
    "import pandas as pd\n",
    "import numpy as np\n",
    "\n",
    "def batch_average(df, batch_size, columns):\n",
    "    \"\"\"\n",
    "    Average a DataFrame into batches of specified size.\n",
    "    \n",
    "    Parameters:\n",
    "    df (pandas.DataFrame): Input DataFrame to be batched\n",
    "    batch_size (int): Size of each batch\n",
    "    \n",
    "    Returns:\n",
    "    pandas.DataFrame: DataFrame with averaged batches\n",
    "    \"\"\"\n",
    "    # Calculate number of complete batches\n",
    "    n_batches = len(df) // batch_size\n",
    "    \n",
    "    # Handle case where DataFrame length isn't divisible by batch_size\n",
    "    remainder = len(df) % batch_size\n",
    "    \n",
    "    # If there's no perfect division, we'll need one more batch\n",
    "    if remainder > 0:\n",
    "        n_batches += 1\n",
    "    \n",
    "    # Create list to store batch averages\n",
    "    batch_averages = []\n",
    "    \n",
    "    # Process complete batches\n",
    "    for i in range(n_batches):\n",
    "        start_idx = i * batch_size\n",
    "        end_idx = min((i + 1) * batch_size, len(df))  # Use min to handle last batch\n",
    "        \n",
    "        # Calculate average for current batch\n",
    "        batch_avg = df.iloc[start_idx:end_idx]\n",
    "        batch_avg = batch_avg[columns].mean()\n",
    "        batch_avg['batch_number'] = i  # Add batch number for reference\n",
    "        batch_averages.append(batch_avg)\n",
    "    \n",
    "    # Combine all batch averages into a new DataFrame\n",
    "    return pd.DataFrame(batch_averages)"
   ]
  },
  {
   "cell_type": "code",
   "execution_count": 461,
   "id": "d7006441",
   "metadata": {},
   "outputs": [],
   "source": [
    "import pandas as pd\n",
    "import numpy as np\n",
    "import seaborn as sns\n",
    "from matplotlib import pyplot as plt\n",
    "from scipy import stats\n",
    "\n",
    "dataset = 'helsinki'\n",
    "batch_size = 32\n",
    "results_fns = glob.glob(os.path.join(BASE_DIR, f'derivatives/joint-prosody-clm/*{dataset}*'))\n",
    "df_results = pd.concat([pd.read_csv(fn) for fn in results_fns if 'yoked' not in fn]).reset_index(drop=True)\n",
    "\n",
    "df_stack = []\n",
    "\n",
    "for i, df in df_results.groupby('model_name'):\n",
    "    df = batch_average(df, batch_size=batch_size, columns=['loss', 'clm_loss', 'accuracy'])\n",
    "    df['model_name'] = i\n",
    "    df['perplexity'] = np.exp(df['clm_loss'])\n",
    "    df_stack.append(df)\n",
    "\n",
    "df_results = pd.concat(df_stack).reset_index(drop=True)\n",
    "\n",
    "# Get order of models by binary accuracy\n",
    "ordered_accuracy = df_results.loc[:,['model_name', 'accuracy', 'perplexity']] \\\n",
    "    .groupby(['model_name']) \\\n",
    "    .mean()\n",
    "\n",
    "# get max chance of null models\n",
    "null_models = ordered_accuracy.index.str.contains('shuffle')\n",
    "accuracy_chance = ordered_accuracy.loc[null_models, 'accuracy'].max()\n",
    "perplexity_chance = ordered_accuracy.loc[null_models, 'perplexity'].min()\n",
    "\n",
    "# order models by accuracy\n",
    "ordered_accuracy = ordered_accuracy[~null_models]\n",
    "ordered_models = ordered_accuracy.sort_values(by=f'accuracy').index[::-1]\n",
    "\n",
    "# ordered_models = ordered_models[~null_models]\n",
    "\n",
    "# remove the null models\n",
    "df_results = df_results[~df_results['model_name'].str.contains('shuffle')]"
   ]
  },
  {
   "cell_type": "code",
   "execution_count": 462,
   "id": "69eade63",
   "metadata": {},
   "outputs": [],
   "source": [
    "model_name_mapping = {\n",
    "    f'{dataset}-prosody_scratch-gpt2_joint-loss_prosody-embed': 'GPT2 Prosody (Joint Loss)',\n",
    "    f'{dataset}-prosody_scratch-gpt2_clm-loss_prosody-embed': 'GPT2 Prosody',\n",
    "    f'{dataset}-prosody_scratch-gpt2_clm-loss_no-prosody-embed': 'GPT2'\n",
    "}\n",
    "\n",
    "df_results['model_name'] = df_results['model_name'].apply(lambda x: model_name_mapping[x])\n",
    "ordered_models = [model_name_mapping[model] for model in ordered_models]\n"
   ]
  },
  {
   "cell_type": "markdown",
   "id": "32055d7a",
   "metadata": {},
   "source": [
    "### Plot the model accuracy"
   ]
  },
  {
   "cell_type": "code",
   "execution_count": 463,
   "id": "1e055bd5",
   "metadata": {},
   "outputs": [
    {
     "data": {
      "image/png": "[encoded data removed]",
      "text/plain": [
       "<Figure size 500x500 with 1 Axes>"
      ]
     },
     "metadata": {},
     "output_type": "display_data"
    }
   ],
   "source": [
    "sns.set(style='white', rc={'figure.figsize': (5,5)})\n",
    "\n",
    "ax = sns.barplot(data=df_results, x=\"model_name\", y=\"accuracy\", palette=\"rocket\", alpha=0.8, order=ordered_models) #, estimator=np.median) \n",
    "\n",
    "plt.xlabel('Model')\n",
    "plt.ylabel('Accuracy (Percent Correct)')\n",
    "\n",
    "plt.title(f'ProsodyCLM – {dataset.capitalize()}')\n",
    "plt.xticks(rotation=45, ha='right')\n",
    "\n",
    "if dataset == 'helsinki':\n",
    "    plt.ylim([0.2, 0.26])\n",
    "elif dataset == 'gigaspeech':\n",
    "    plt.ylim([0.15, 0.21])\n",
    "\n",
    "plt.axhline(y=accuracy_chance, color='k', linestyle='--')\n",
    "\n",
    "sns.despine()\n",
    "\n",
    "# Add text labels on top of each bar\n",
    "for p, acc in zip(ax.patches, ordered_accuracy['accuracy'][::-1]):  # Loop over each bar\n",
    "    height = p.get_height()\n",
    "    ax.text(\n",
    "        p.get_x() + p.get_width() / 2.,  # X coordinate\n",
    "        height + 0.008,                          # Y coordinate (top of the bar)\n",
    "        f'{acc:.3f}',                 # Text label (formatted to 2 decimal places)\n",
    "        ha='center',                     # Center alignment\n",
    "        va='bottom'                      # Bottom alignment (just above the bar)\n",
    "    )\n"
   ]
  },
  {
   "cell_type": "markdown",
   "id": "bfed72ad",
   "metadata": {},
   "source": [
    "### Plot model perplexity"
   ]
  },
  {
   "cell_type": "code",
   "execution_count": 466,
   "id": "7ba8e34e",
   "metadata": {},
   "outputs": [
    {
     "data": {
      "image/png": "[encoded data removed]",
      "text/plain": [
       "<Figure size 500x500 with 1 Axes>"
      ]
     },
     "metadata": {},
     "output_type": "display_data"
    }
   ],
   "source": [
    "sns.set(style='white', rc={'figure.figsize': (5,5)})\n",
    "\n",
    "ax = sns.barplot(data=df_results, x=\"model_name\", y=\"perplexity\", palette=\"rocket\", alpha=0.8, \\\n",
    "    order=ordered_models)\n",
    "\n",
    "plt.xlabel('Model')\n",
    "plt.ylabel('Accuracy (Percent Correct)')\n",
    "\n",
    "plt.title(f'ProsodyCLM – {dataset.capitalize()}')\n",
    "plt.xticks(rotation=45, ha='right')\n",
    "\n",
    "if dataset == 'helsinki':\n",
    "    plt.ylim([0, 350])\n",
    "elif dataset == 'gigaspeech':\n",
    "    plt.ylim([0, 350])\n",
    "\n",
    "plt.axhline(y=perplexity_chance, color='k', linestyle='--')\n",
    "\n",
    "sns.despine()\n",
    "\n",
    "# Add text labels on top of each bar\n",
    "for p, acc in zip(ax.patches, ordered_accuracy['perplexity'][::-1]):  # Loop over each bar\n",
    "    height = p.get_height()\n",
    "    ax.text(\n",
    "        p.get_x() + p.get_width() / 2.,  # X coordinate\n",
    "        height + 15,                          # Y coordinate (top of the bar)\n",
    "        f'{acc:.2f}',                 # Text label (formatted to 2 decimal places)\n",
    "        ha='center',                     # Center alignment\n",
    "        va='bottom'                      # Bottom alignment (just above the bar)\n",
    "    )\n"
   ]
  }
 ],
 "metadata": {
  "kernelspec": {
   "display_name": "Python 3 (ipykernel)",
   "language": "python",
   "name": "python3"
  },
  "language_info": {
   "codemirror_mode": {
    "name": "ipython",
    "version": 3
   },
   "file_extension": ".py",
   "mimetype": "text/x-python",
   "name": "python",
   "nbconvert_exporter": "python",
   "pygments_lexer": "ipython3",
   "version": "3.12.3"
  }
 },
 "nbformat": 4,
 "nbformat_minor": 5
}
