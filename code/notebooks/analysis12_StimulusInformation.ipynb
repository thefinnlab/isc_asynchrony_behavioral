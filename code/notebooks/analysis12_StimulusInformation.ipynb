{
 "cells": [
  {
   "cell_type": "code",
   "execution_count": 1,
   "id": "c74b75aa",
   "metadata": {},
   "outputs": [
    {
     "name": "stdout",
     "output_type": "stream",
     "text": [
      "Token will not been saved to git credential helper. Pass `add_to_git_credential=True` if you want to set the git credential as well.\n",
      "Token is valid (permission: write).\n",
      "Your token has been saved to /dartfs/rc/lab/F/FinnLab/tommy/models/token\n",
      "Login successful\n"
     ]
    },
    {
     "name": "stderr",
     "output_type": "stream",
     "text": [
      "2025-03-29 13:33:00.372888: E tensorflow/compiler/xla/stream_executor/cuda/cuda_dnn.cc:9342] Unable to register cuDNN factory: Attempting to register factory for plugin cuDNN when one has already been registered\n",
      "2025-03-29 13:33:00.372952: E tensorflow/compiler/xla/stream_executor/cuda/cuda_fft.cc:609] Unable to register cuFFT factory: Attempting to register factory for plugin cuFFT when one has already been registered\n",
      "2025-03-29 13:33:00.372990: E tensorflow/compiler/xla/stream_executor/cuda/cuda_blas.cc:1518] Unable to register cuBLAS factory: Attempting to register factory for plugin cuBLAS when one has already been registered\n",
      "2025-03-29 13:33:00.383480: I tensorflow/core/platform/cpu_feature_guard.cc:182] This TensorFlow binary is optimized to use available CPU instructions in performance-critical operations.\n",
      "To enable the following instructions: AVX2 FMA, in other operations, rebuild TensorFlow with the appropriate compiler flags.\n",
      "2025-03-29 13:33:09.197277: W tensorflow/compiler/tf2tensorrt/utils/py_utils.cc:38] TF-TRT Warning: Could not find TensorRT\n"
     ]
    }
   ],
   "source": [
    "import os, sys\n",
    "import glob\n",
    "import json\n",
    "import re\n",
    "from tqdm import tqdm \n",
    "from itertools import product\n",
    "\n",
    "import numpy as np\n",
    "import pandas as pd\n",
    "\n",
    "sys.path.append('/dartfs/rc/lab/F/FinnLab/tommy/isc_asynchrony_behavior/code/utils/')\n",
    "\n",
    "from config import *\n",
    "import analysis_utils as utils"
   ]
  },
  {
   "cell_type": "code",
   "execution_count": 2,
   "id": "e970399b",
   "metadata": {},
   "outputs": [],
   "source": [
    "task_list = ['black', 'wheretheressmoke', 'howtodraw']\n",
    "preproc_dir = os.path.join(BASE_DIR, 'stimuli/preprocessed')"
   ]
  },
  {
   "cell_type": "code",
   "execution_count": 20,
   "id": "2196ef88",
   "metadata": {},
   "outputs": [],
   "source": [
    "story_stats = {}\n",
    "\n",
    "for task in task_list:\n",
    "    selected_fn = glob.glob(os.path.join(preproc_dir, task, '*selected.csv'))[0]\n",
    "    df_selected = pd.read_csv(selected_fn)\n",
    "\n",
    "    n_sampled = df_selected['NWP_Candidate'].sum()\n",
    "    total_words = len(df_selected['NWP_Candidate'])\n",
    "    percent_words = 100 * (n_sampled / total_words)\n",
    "\n",
    "    story_stats[task] = {\n",
    "        'n_sampled': n_sampled,\n",
    "        'total_words': total_words,\n",
    "        'percent_words': percent_words,\n",
    "        'percent_words_subj': percent_words / 3 if task != 'black' else percent_words / 4\n",
    "    }"
   ]
  },
  {
   "cell_type": "code",
   "execution_count": 25,
   "id": "7c75a034",
   "metadata": {},
   "outputs": [
    {
     "name": "stdout",
     "output_type": "stream",
     "text": [
      "Total words sampled: 672 \n",
      "Average percent of all words: 12.64 \n",
      "Average percent of subj words: 3.86 \n"
     ]
    }
   ],
   "source": [
    "total_sampled_words = [story_stats[task]['n_sampled'] for task in task_list]\n",
    "\n",
    "all_task_percent_words = [story_stats[task]['percent_words'] for task in task_list]\n",
    "all_task_percent_subj = [story_stats[task]['percent_words_subj'] for task in task_list]\n",
    "\n",
    "print (f\"Total words sampled: {sum(total_sampled_words)} \")\n",
    "print (f\"Average percent of all words: {np.mean(all_task_percent_words):.2f} \")\n",
    "print (f\"Average percent of subj words: {np.mean(all_task_percent_subj):.2f} \")"
   ]
  },
  {
   "cell_type": "code",
   "execution_count": null,
   "id": "dcf3a37f",
   "metadata": {},
   "outputs": [
    {
     "data": {
      "text/plain": [
       "{'black': {'n_sampled': 194,\n",
       "  'total_words': 1541,\n",
       "  'percent_words': 0.12589227774172615},\n",
       " 'wheretheressmoke': {'n_sampled': 194,\n",
       "  'total_words': 1541,\n",
       "  'percent_words': 0.12589227774172615},\n",
       " 'howtodraw': {'n_sampled': 194,\n",
       "  'total_words': 1541,\n",
       "  'percent_words': 0.12589227774172615}}"
      ]
     },
     "execution_count": 17,
     "metadata": {},
     "output_type": "execute_result"
    }
   ],
   "source": [
    "[story_stats[for k, v in story_stats.items()]"
   ]
  },
  {
   "cell_type": "code",
   "execution_count": 10,
   "id": "887f6e21",
   "metadata": {},
   "outputs": [],
   "source": [
    "df_selected = pd.read_csv(selected_fn)"
   ]
  },
  {
   "cell_type": "code",
   "execution_count": 15,
   "id": "8476609d",
   "metadata": {},
   "outputs": [
    {
     "data": {
      "text/plain": [
       "0.12589227774172615"
      ]
     },
     "execution_count": 15,
     "metadata": {},
     "output_type": "execute_result"
    }
   ],
   "source": [
    "df_selected['NWP_Candidate'].sum() / len(df_selected)"
   ]
  },
  {
   "cell_type": "code",
   "execution_count": 126,
   "id": "06d7d077",
   "metadata": {},
   "outputs": [],
   "source": [
    "def get_subject_demographics(results_dir, task, modality):\n",
    "\n",
    "    if task == 'black':\n",
    "        results_dir = os.path.join(results_dir, 'pilot-multimodal-01')\n",
    "    else:\n",
    "        results_dir = os.path.join(results_dir, 'final-multimodal-01')\n",
    "\n",
    "    # Get subject directories\n",
    "    sub_dirs = sorted(glob.glob(os.path.join(results_dir, task, modality, f'sub*')))\n",
    "\n",
    "    print(f'Total of {len(sub_dirs)} subjects')\n",
    "\n",
    "    all_demographics = []\n",
    "\n",
    "    for sub_dir in tqdm(sub_dirs):\n",
    "        sub = os.path.basename(sub_dir)\n",
    "        current_id, demographics, _, _ = utils.load_participant_results(sub_dir, sub)\n",
    "\n",
    "        age_filter = demographics['experiment_phase'] == 'demographics-age'\n",
    "\n",
    "        try: \n",
    "\n",
    "            current_age = demographics.loc[age_filter, 'response'].values.astype(float)\n",
    "\n",
    "            if current_age < 65:\n",
    "                demographics.loc[age_filter, 'response'] = current_age\n",
    "            else:\n",
    "                demographics.loc[age_filter, 'response'] = np.nan\n",
    "        except:\n",
    "            demographics.loc[age_filter, 'response'] = np.nan\n",
    "\n",
    "        df_demographics = demographics.T.reset_index(drop=True)\n",
    "        df_demographics.columns = df_demographics.iloc[0]\n",
    "       \n",
    "       # Remove the first row\n",
    "        df_demographics = df_demographics.iloc[1:]\n",
    "        df_demographics['prolific_id'] = current_id\n",
    "\n",
    "        all_demographics.append(df_demographics)\n",
    "\n",
    "    df_demographics = pd.concat(all_demographics).reset_index(drop=True)\n",
    "    return df_demographics"
   ]
  },
  {
   "cell_type": "code",
   "execution_count": 134,
   "id": "835f7b46",
   "metadata": {},
   "outputs": [],
   "source": [
    "all_demographics['demographics-age'] = all_demographics['demographics-age'].astype(float)"
   ]
  },
  {
   "cell_type": "code",
   "execution_count": null,
   "id": "069bea9b",
   "metadata": {},
   "outputs": [
    {
     "name": "stdout",
     "output_type": "stream",
     "text": [
      "Total of 200 subjects\n"
     ]
    },
    {
     "name": "stderr",
     "output_type": "stream",
     "text": [
      "100%|██████████| 200/200 [00:04<00:00, 40.71it/s]\n"
     ]
    },
    {
     "name": "stdout",
     "output_type": "stream",
     "text": [
      "Total of 200 subjects\n"
     ]
    },
    {
     "name": "stderr",
     "output_type": "stream",
     "text": [
      "100%|██████████| 200/200 [00:05<00:00, 39.05it/s]\n"
     ]
    },
    {
     "name": "stdout",
     "output_type": "stream",
     "text": [
      "Total of 200 subjects\n"
     ]
    },
    {
     "name": "stderr",
     "output_type": "stream",
     "text": [
      "100%|██████████| 200/200 [00:04<00:00, 40.71it/s]\n"
     ]
    },
    {
     "name": "stdout",
     "output_type": "stream",
     "text": [
      "Total of 150 subjects\n"
     ]
    },
    {
     "name": "stderr",
     "output_type": "stream",
     "text": [
      "100%|██████████| 150/150 [00:03<00:00, 42.88it/s]\n"
     ]
    },
    {
     "name": "stdout",
     "output_type": "stream",
     "text": [
      "Total of 150 subjects\n"
     ]
    },
    {
     "name": "stderr",
     "output_type": "stream",
     "text": [
      "100%|██████████| 150/150 [00:03<00:00, 43.48it/s]\n"
     ]
    },
    {
     "name": "stdout",
     "output_type": "stream",
     "text": [
      "Total of 150 subjects\n"
     ]
    },
    {
     "name": "stderr",
     "output_type": "stream",
     "text": [
      "100%|██████████| 150/150 [00:03<00:00, 43.58it/s]\n"
     ]
    },
    {
     "name": "stdout",
     "output_type": "stream",
     "text": [
      "Total of 150 subjects\n"
     ]
    },
    {
     "name": "stderr",
     "output_type": "stream",
     "text": [
      "100%|██████████| 150/150 [00:04<00:00, 36.59it/s]\n"
     ]
    },
    {
     "name": "stdout",
     "output_type": "stream",
     "text": [
      "Total of 150 subjects\n"
     ]
    },
    {
     "name": "stderr",
     "output_type": "stream",
     "text": [
      "100%|██████████| 150/150 [00:03<00:00, 39.95it/s]\n"
     ]
    },
    {
     "name": "stdout",
     "output_type": "stream",
     "text": [
      "Total of 150 subjects\n"
     ]
    },
    {
     "name": "stderr",
     "output_type": "stream",
     "text": [
      "100%|██████████| 150/150 [00:04<00:00, 34.59it/s]\n"
     ]
    }
   ],
   "source": [
    "task_list = ['black', 'wheretheressmoke', 'howtodraw']\n",
    "modality_list = ['video', 'audio', 'text']\n",
    "\n",
    "results_dir = os.path.join(BASE_DIR, 'experiments',  'next-word-prediction', 'cleaned-results')\n",
    "\n",
    "all_demographics = []\n",
    "\n",
    "for task, modality in product(task_list, modality_list):\n",
    "    demographics = get_subject_demographics(results_dir=results_dir, task=task, modality=modality)\n",
    "    all_demographics.append(demographics)\n",
    "\n",
    "all_demographics = pd.concat(all_demographics).reset_index(drop=True)\n",
    "all_demographics['demographics-age'] = all_demographics['demographics-age'].astype(float)"
   ]
  },
  {
   "cell_type": "markdown",
   "id": "50a1f0f5",
   "metadata": {},
   "source": [
    "### Gender demographics"
   ]
  },
  {
   "cell_type": "code",
   "execution_count": 137,
   "id": "76ba4ac8",
   "metadata": {},
   "outputs": [
    {
     "data": {
      "text/plain": [
       "Female                   743\n",
       "Male                     727\n",
       "Do not wish to report     14\n",
       "Non-Binary                10\n",
       "Other                      6\n",
       "Name: demographics-gender, dtype: int64"
      ]
     },
     "execution_count": 137,
     "metadata": {},
     "output_type": "execute_result"
    }
   ],
   "source": [
    "all_demographics['demographics-gender'].value_counts()"
   ]
  },
  {
   "cell_type": "markdown",
   "id": "bb1ff0c2",
   "metadata": {},
   "source": [
    "### Age demographics"
   ]
  },
  {
   "cell_type": "code",
   "execution_count": 135,
   "id": "2aa07675",
   "metadata": {},
   "outputs": [
    {
     "name": "stdout",
     "output_type": "stream",
     "text": [
      "Mean age: 37.78812415654521\n",
      "STD age: 11.791443096895717\n"
     ]
    }
   ],
   "source": [
    "mean_age = all_demographics['demographics-age'].mean()\n",
    "std_age = all_demographics['demographics-age'].std()\n",
    "\n",
    "print (f\"Mean age: {mean_age}\")\n",
    "print (f\"STD age: {std_age}\")"
   ]
  }
 ],
 "metadata": {
  "kernelspec": {
   "display_name": "Python 3",
   "language": "python",
   "name": "python3"
  },
  "language_info": {
   "codemirror_mode": {
    "name": "ipython",
    "version": 3
   },
   "file_extension": ".py",
   "mimetype": "text/x-python",
   "name": "python",
   "nbconvert_exporter": "python",
   "pygments_lexer": "ipython3",
   "version": "3.9.21"
  }
 },
 "nbformat": 4,
 "nbformat_minor": 5
}
