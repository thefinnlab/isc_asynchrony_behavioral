{
 "cells": [
  {
   "cell_type": "code",
   "execution_count": 417,
   "id": "7f66500b",
   "metadata": {
    "scrolled": true
   },
   "outputs": [
    {
     "name": "stdout",
     "output_type": "stream",
     "text": [
      "Token will not been saved to git credential helper. Pass `add_to_git_credential=True` if you want to set the git credential as well.\n",
      "Token is valid (permission: write).\n",
      "Your token has been saved to /dartfs-hpc/rc/home/w/f003rjw/.cache/huggingface/token\n",
      "Login successful\n",
      "The autoreload extension is already loaded. To reload it, use:\n",
      "  %reload_ext autoreload\n"
     ]
    }
   ],
   "source": [
    "%load_ext autoreload\n",
    "%autoreload 2\n",
    "import sys, os\n",
    "\n",
    "sys.path.append('../utils/') \n",
    "\n",
    "from config import *\n",
    "import dataset_utils as utils\n",
    "import nlp_utils as nlp\n",
    "import encoding_utils as encoding\n",
    "\n",
    "import glob\n",
    "import json\n",
    "import argparse\n",
    "import numpy as np\n",
    "import pandas as pd \n",
    "import nibabel as nib\n",
    "from nilearn.input_data import NiftiMasker\n",
    "import librosa\n",
    "\n",
    "import torch\n",
    "import himalaya\n",
    "\n",
    "from surfplot import Plot\n",
    "from plotting_utils import vol_to_surf, make_layers_dict, plot_surf_data, combine_images"
   ]
  },
  {
   "cell_type": "code",
   "execution_count": 6,
   "id": "99d562f2",
   "metadata": {},
   "outputs": [],
   "source": [
    "DATASET = 'huth-moth'\n",
    "TASK = 'wheretheressmoke'\n",
    "\n",
    "gentle_dir = os.path.join(DATASETS_DIR, DATASET, 'stimuli', 'gentle', TASK)\n",
    "transcript_fn = os.path.join(gentle_dir, 'align.json')\n",
    "\n",
    "df_transcript = encoding.load_gentle_transcript(\n",
    "    transcript_fn=transcript_fn, \n",
    "    start_offset=None #stim_times[0] if stim_times else None\n",
    ")\n",
    "\n",
    "## MAKE ADJUSTMENTS TO MODEL FEATURES FROM BEHAVIOR ########\n",
    "behavior_results_fn = os.path.join(BASE_DIR, f'derivatives/results/behavioral/task-{TASK}_compiled-behavior.csv')\n",
    "behavior_results = pd.read_csv(behavior_results_fn)\n",
    "\n",
    "crit_idxs = np.unique(behavior_results['word_index'])"
   ]
  },
  {
   "cell_type": "code",
   "execution_count": 7,
   "id": "7e25ebfc",
   "metadata": {},
   "outputs": [],
   "source": [
    "masks_dir = os.path.join(DATASETS_DIR, DATASET, 'derivatives/masks/group/')\n",
    "\n",
    "## some specific things for the dataset\n",
    "mask_fn = os.path.join(masks_dir, 'group-MNI152NLin6Asym_res-all_desc-brain_gm-mask-intersection.nii.gz')\n",
    "masker = NiftiMasker(mask_fn).fit()"
   ]
  },
  {
   "cell_type": "markdown",
   "id": "fb515f08",
   "metadata": {},
   "source": [
    "## Analysis 01 -- Runwise prediction differences"
   ]
  },
  {
   "cell_type": "code",
   "execution_count": null,
   "id": "c3fdcffd",
   "metadata": {},
   "outputs": [],
   "source": [
    "os.listdir(os.path.join(results_dir, sub_list[0]))"
   ]
  },
  {
   "cell_type": "code",
   "execution_count": null,
   "id": "577a6bab",
   "metadata": {},
   "outputs": [],
   "source": [
    "sub_runs = sorted(glob.glob(os.path.join(results_dir, sub_list[0], '*wheretheressmoke*prediction*')))"
   ]
  },
  {
   "cell_type": "code",
   "execution_count": null,
   "id": "d06890c5",
   "metadata": {},
   "outputs": [],
   "source": [
    "dss_sub = []\n",
    "\n",
    "for run_fn in sub_runs:\n",
    "    ds_sub = np.load(run_fn)\n",
    "    dss_sub.append(ds_sub)\n",
    "#     ds_nii = masker.inverse_transform(ds_sub)"
   ]
  },
  {
   "cell_type": "code",
   "execution_count": null,
   "id": "a0ff4781",
   "metadata": {},
   "outputs": [],
   "source": [
    "dss_sub = np.vstack(dss_sub)"
   ]
  },
  {
   "cell_type": "code",
   "execution_count": null,
   "id": "4b740469",
   "metadata": {},
   "outputs": [],
   "source": [
    "abs(dss_sub)"
   ]
  },
  {
   "cell_type": "code",
   "execution_count": null,
   "id": "8878edff",
   "metadata": {},
   "outputs": [],
   "source": [
    "max_pred = np.argmax(dss_sub, axis=0).astype(float)\n",
    "max_pred[np.any(abs(dss_sub) <= 0.02, axis=0)] = np.nan"
   ]
  },
  {
   "cell_type": "code",
   "execution_count": null,
   "id": "2653e0a8",
   "metadata": {},
   "outputs": [],
   "source": [
    "# plot the volume correlation\n",
    "# max_val = np.nanmax(abs(ds_sub))\n",
    "\n",
    "ds_nii = masker.inverse_transform(max_pred)\n",
    "surfs, data = vol_to_surf(ds_nii, surf_type='fsaverage', map_type='inflated')\n",
    "layer = make_layers_dict(data=data, cmap='rainbow', label=f'Best run', alpha=1, color_range=(0, 5))\n"
   ]
  },
  {
   "cell_type": "code",
   "execution_count": null,
   "id": "64300de0",
   "metadata": {},
   "outputs": [],
   "source": [
    "_ = plot_surf_data(surfs, [layer], views=VIEWS, colorbar=COLORBAR, surf_type=SURF_TYPE, \n",
    "                   add_depth=ADD_DEPTH, out_fn=None, title=None, embed_nb=True)"
   ]
  },
  {
   "cell_type": "markdown",
   "id": "a30353e2",
   "metadata": {},
   "source": [
    "## Analysis 02 -- Substitute word vectors"
   ]
  },
  {
   "cell_type": "markdown",
   "id": "591c123c",
   "metadata": {},
   "source": [
    "### Load all features for model"
   ]
  },
  {
   "cell_type": "code",
   "execution_count": 52,
   "id": "ef6ca9df",
   "metadata": {},
   "outputs": [],
   "source": [
    "import joblib\n",
    "import typing\n",
    "from pathlib import Path\n",
    "from himalaya.scoring import correlation_score\n",
    "\n",
    "results_dir = os.path.join(BASE_DIR, 'derivatives/results', DATASET)\n",
    "sub_list = sorted([d for d in os.listdir(results_dir) if 'sub' in d])\n",
    "\n",
    "def get_sub_predictions(sub, model_name, features):\n",
    "    \n",
    "    sub_dir = os.path.join(results_dir, sub, model_name)\n",
    "    model_fn = os.path.join(sub_dir, f'{sub}_encoding-model_iter-00001.pkl')\n",
    "    \n",
    "    with open(model_fn, 'rb') as f:\n",
    "        encoding_pipeline = joblib.load(f)\n",
    "        \n",
    "    print (f'Model loaded')\n",
    "    \n",
    "    # get model predictions for each\n",
    "    if isinstance(behav_features, typing.Iterable):\n",
    "        Y_pred = [encoding_pipeline.predict(feature) for feature in features]\n",
    "    else:\n",
    "        Y_pred = encoding_pipeline.predict(features)\n",
    "    \n",
    "    print (f'Finished model prediction')\n",
    "    \n",
    "    # load the distribution of correlations\n",
    "    dist_fn = glob.glob(os.path.join(sub_dir, f'*permutations*'))\n",
    "    \n",
    "    assert (len(dist_fn) == 1)\n",
    "    dist = np.load(dist_fn[0])\n",
    "    \n",
    "    return Y_pred, dist\n",
    "\n",
    "def load_features(feature_names):\n",
    "    \n",
    "    regressors_dir = os.path.join(BASE_DIR, 'derivatives/regressors/', DATASET, TASK)\n",
    "    # load the model features\n",
    "    all_feature_fns = []\n",
    "\n",
    "    for feature in feature_names:\n",
    "        feature_fns = sorted(glob.glob(os.path.join(regressors_dir, feature, '*.npy')))\n",
    "        all_feature_fns.append(feature_fns)\n",
    "    \n",
    "    # expand the list of lists\n",
    "    # get all filenames and the grab their feature names\n",
    "    all_features_fns = sum(all_feature_fns, [])        \n",
    "    features_names = ['_'.join(Path(fn).stem.split('_')[1:]) for fn in all_features_fns]\n",
    "\n",
    "    # load the features\n",
    "    banded_info = encoding.load_banded_features(all_features_fns, features_names)\n",
    "    return banded_info\n",
    "    \n",
    "def load_behavioral_features(model_name, behavior_features, base_features=['spectral', 'phoneme', 'word2vec']):\n",
    "\n",
    "    regressors_dir = os.path.join(BASE_DIR, 'derivatives/regressors/', DATASET, TASK)\n",
    "    # load the model features\n",
    "    all_feature_fns = []\n",
    "\n",
    "    for feature in base_features:\n",
    "        feature_fns = sorted(glob.glob(os.path.join(regressors_dir, feature, '*.npy')))\n",
    "        all_feature_fns.append(feature_fns)\n",
    "    \n",
    "    # now load behavioral features\n",
    "    all_behav_info = []\n",
    "    \n",
    "    for feature in behavior_features:\n",
    "        feature_fns = sorted(glob.glob(os.path.join(regressors_dir,  f'behavioral/{model_name}/*{feature}*.npy')))\n",
    "        \n",
    "        # expand the list of lists\n",
    "        # get all filenames and the grab their feature names\n",
    "        behav_feature_fns = sum([*all_feature_fns, feature_fns], [])        \n",
    "        behav_feature_names = ['_'.join(Path(fn).stem.split('_')[1:]) for fn in behav_feature_fns]\n",
    "        \n",
    "        # load the features\n",
    "        behav_features, behav_feature_names = encoding.load_banded_features(behav_feature_fns, behav_feature_names)\n",
    "        print (f'Loaded features for {model_name} {feature}')\n",
    "        print (f'{behav_feature_names}\\n\\n')\n",
    "        \n",
    "        all_behav_info.append((f'{model_name}_{feature}', behav_features))\n",
    "    \n",
    "    return all_behav_info\n",
    "\n",
    "def calculate_accuracy_error(sub, task, preds, crit_trs):\n",
    "    \n",
    "    data_dir = os.path.join(DATASETS_DIR, DATASET, 'derivatives/dark-matter-preproc-smooth/', sub)\n",
    "    sub_data_fns = sorted(glob.glob(os.path.join(data_dir, f'*{task}*hyperaligned.npy')))\n",
    "    \n",
    "    # load all files and append the mean of the files\n",
    "    Y_test = [np.load(fn) for fn in sub_data_fns]\n",
    "    Y_test.append(np.mean(Y_test, axis=0))\n",
    "    \n",
    "    all_residuals = np.stack([abs(Y_test - pred) for pred in preds])[:, :, crit_trs, :]\n",
    "    all_predictions = np.stack([correlation_score(Y_test[-1], pred) for pred in preds])\n",
    "    print (f'Finished calculating accuracy/residuals')\n",
    "    \n",
    "    return all_predictions, all_residuals\n",
    "\n",
    "def get_residuals_df(sub, residuals, feature_names, significant):\n",
    "    \n",
    "    all_contrasts = []\n",
    "    \n",
    "    runs = [f'run-{i+1}' for i in np.arange(5)]\n",
    "    runs += ['run-avg']\n",
    "    \n",
    "    for i, name in enumerate(feature_names):\n",
    "         # first average across time\n",
    "            \n",
    "        voxelwise_residuals = residuals[i].mean(1)\n",
    "#         voxelwise_diff = (abs(residuals[comp_idxs[0]]) - abs(residuals[comp_idxs[1]])).mean(1)\n",
    "        \n",
    "        df_voxels = pd.DataFrame(voxelwise_residuals.T, columns=runs)\n",
    "        \n",
    "        df_voxels = df_voxels.reset_index().rename(columns={'index': 'voxel'})\n",
    "        df_voxels['sub'] = sub\n",
    "        df_voxels['feature_name'] = name\n",
    "        df_voxels['significant'] = significant\n",
    "        df_voxels = pd.melt(df_voxels, id_vars=['voxel', 'sub', 'feature_name', 'significant'], var_name='run', value_name='resid')\n",
    "        \n",
    "        all_contrasts.append(df_voxels)\n",
    "    \n",
    "    return pd.concat(all_contrasts)\n",
    "\n",
    "def get_parcel_difference(parcels, model_residuals, human_residuals):\n",
    "    \n",
    "    n_parcels = np.unique(parcels)[1:].astype(int)\n",
    "    parcel_resid_diff = {}\n",
    "\n",
    "    for parcel in n_parcels: \n",
    "        parcel_idxs = np.where(parcels == parcel)[0].squeeze()\n",
    "\n",
    "        # significant parcel voxels --> then find percentage out of all\n",
    "        model_parcel_resid = model_residuals[..., parcel_idxs]\n",
    "        human_parcel_resid = human_residuals[..., parcel_idxs]\n",
    "        \n",
    "        # first average across time, then average across space (retaining runs)\n",
    "        parcel_resid_diff[parcel] = (abs(model_parcel_resid) - abs(human_parcel_resid)).mean(1).mean(-1)\n",
    "    return parcel_resid_diff\n",
    "#     sys.exit(0)"
   ]
  },
  {
   "cell_type": "code",
   "execution_count": 452,
   "id": "56335cdd",
   "metadata": {},
   "outputs": [
    {
     "data": {
      "text/plain": [
       "['ground-truth', 'model-predicted', 'human-audio', 'human-text']"
      ]
     },
     "execution_count": 452,
     "metadata": {},
     "output_type": "execute_result"
    }
   ],
   "source": [
    "all_features_names"
   ]
  },
  {
   "cell_type": "code",
   "execution_count": 453,
   "id": "99ea055c",
   "metadata": {},
   "outputs": [],
   "source": [
    "gt_features = zscore(all_features[0], axis=0)\n",
    "model_features = zscore(all_features[1], axis=0)\n",
    "audio_features = zscore(all_features[2], axis=0)"
   ]
  },
  {
   "cell_type": "code",
   "execution_count": 439,
   "id": "ca52b7af",
   "metadata": {},
   "outputs": [
    {
     "data": {
      "text/plain": [
       "(300, 78867)"
      ]
     },
     "execution_count": 439,
     "metadata": {},
     "output_type": "execute_result"
    }
   ],
   "source": [
    "gt_features.shape"
   ]
  },
  {
   "cell_type": "code",
   "execution_count": 462,
   "id": "1cf36e3e",
   "metadata": {},
   "outputs": [
    {
     "data": {
      "image/png": "[encoded data removed]",
      "text/plain": [
       "<Figure size 1000x400 with 3 Axes>"
      ]
     },
     "metadata": {},
     "output_type": "display_data"
    }
   ],
   "source": [
    "fig, axes = plt.subplots(1,3, figsize=(10,4), sharey=True)\n",
    "\n",
    "axes[0].matshow(gt_features[50:61, 1000:1009], cmap='RdBu_r', vmin=-3, vmax=3)\n",
    "axes[1].matshow(model_features[50:61, 1000:1009], cmap='RdBu_r', vmin=-3, vmax=3)\n",
    "axes[2].matshow(audio_features[50:61, 1000:1009], cmap='RdBu_r', vmin=-3, vmax=3)\n",
    "\n",
    "for ax in axes.ravel():\n",
    "    ax.set_axis_off()\n",
    "    \n",
    "plt.savefig('example_matrices.pdf', bbox_inches='tight', dpi=300)"
   ]
  },
  {
   "cell_type": "code",
   "execution_count": 438,
   "id": "611a8a26",
   "metadata": {},
   "outputs": [
    {
     "data": {
      "text/plain": [
       "<matplotlib.image.AxesImage at 0x2b2e218736d0>"
      ]
     },
     "execution_count": 438,
     "metadata": {},
     "output_type": "execute_result"
    },
    {
     "data": {
      "image/png": "[encoded data removed]",
      "text/plain": [
       "<Figure size 900x400 with 2 Axes>"
      ]
     },
     "metadata": {},
     "output_type": "display_data"
    }
   ],
   "source": [
    "from scipy.stats import zscore\n",
    "\n",
    "fig, axs = plt.subplots(1, 2, figsize=(9, 4))\n",
    "\n",
    "axs[0].matshow(gt_features,\n",
    "               cmap='binary_r', vmin=-3, vmax=3)"
   ]
  },
  {
   "cell_type": "markdown",
   "id": "eaa5f1c1",
   "metadata": {},
   "source": [
    "### Collect the data!"
   ]
  },
  {
   "cell_type": "code",
   "execution_count": 73,
   "id": "b7b145cf",
   "metadata": {
    "scrolled": true
   },
   "outputs": [
    {
     "name": "stdout",
     "output_type": "stream",
     "text": [
      "Loaded features for gpt2-xl model-predicted\n",
      "[('features-spectral', slice(0, 128, None)), ('features-phoneme', slice(128, 167, None)), ('features-word2vec', slice(167, 467, None)), ('model-gpt2-xl_layer-001_model-predicted', slice(467, 2067, None)), ('model-gpt2-xl_layer-002_model-predicted', slice(2067, 3667, None)), ('model-gpt2-xl_layer-003_model-predicted', slice(3667, 5267, None)), ('model-gpt2-xl_layer-004_model-predicted', slice(5267, 6867, None)), ('model-gpt2-xl_layer-005_model-predicted', slice(6867, 8467, None)), ('model-gpt2-xl_layer-006_model-predicted', slice(8467, 10067, None)), ('model-gpt2-xl_layer-007_model-predicted', slice(10067, 11667, None)), ('model-gpt2-xl_layer-008_model-predicted', slice(11667, 13267, None)), ('model-gpt2-xl_layer-009_model-predicted', slice(13267, 14867, None)), ('model-gpt2-xl_layer-010_model-predicted', slice(14867, 16467, None)), ('model-gpt2-xl_layer-011_model-predicted', slice(16467, 18067, None)), ('model-gpt2-xl_layer-012_model-predicted', slice(18067, 19667, None)), ('model-gpt2-xl_layer-013_model-predicted', slice(19667, 21267, None)), ('model-gpt2-xl_layer-014_model-predicted', slice(21267, 22867, None)), ('model-gpt2-xl_layer-015_model-predicted', slice(22867, 24467, None)), ('model-gpt2-xl_layer-016_model-predicted', slice(24467, 26067, None)), ('model-gpt2-xl_layer-017_model-predicted', slice(26067, 27667, None)), ('model-gpt2-xl_layer-018_model-predicted', slice(27667, 29267, None)), ('model-gpt2-xl_layer-019_model-predicted', slice(29267, 30867, None)), ('model-gpt2-xl_layer-020_model-predicted', slice(30867, 32467, None)), ('model-gpt2-xl_layer-021_model-predicted', slice(32467, 34067, None)), ('model-gpt2-xl_layer-022_model-predicted', slice(34067, 35667, None)), ('model-gpt2-xl_layer-023_model-predicted', slice(35667, 37267, None)), ('model-gpt2-xl_layer-024_model-predicted', slice(37267, 38867, None)), ('model-gpt2-xl_layer-025_model-predicted', slice(38867, 40467, None)), ('model-gpt2-xl_layer-026_model-predicted', slice(40467, 42067, None)), ('model-gpt2-xl_layer-027_model-predicted', slice(42067, 43667, None)), ('model-gpt2-xl_layer-028_model-predicted', slice(43667, 45267, None)), ('model-gpt2-xl_layer-029_model-predicted', slice(45267, 46867, None)), ('model-gpt2-xl_layer-030_model-predicted', slice(46867, 48467, None)), ('model-gpt2-xl_layer-031_model-predicted', slice(48467, 50067, None)), ('model-gpt2-xl_layer-032_model-predicted', slice(50067, 51667, None)), ('model-gpt2-xl_layer-033_model-predicted', slice(51667, 53267, None)), ('model-gpt2-xl_layer-034_model-predicted', slice(53267, 54867, None)), ('model-gpt2-xl_layer-035_model-predicted', slice(54867, 56467, None)), ('model-gpt2-xl_layer-036_model-predicted', slice(56467, 58067, None)), ('model-gpt2-xl_layer-037_model-predicted', slice(58067, 59667, None)), ('model-gpt2-xl_layer-038_model-predicted', slice(59667, 61267, None)), ('model-gpt2-xl_layer-039_model-predicted', slice(61267, 62867, None)), ('model-gpt2-xl_layer-040_model-predicted', slice(62867, 64467, None)), ('model-gpt2-xl_layer-041_model-predicted', slice(64467, 66067, None)), ('model-gpt2-xl_layer-042_model-predicted', slice(66067, 67667, None)), ('model-gpt2-xl_layer-043_model-predicted', slice(67667, 69267, None)), ('model-gpt2-xl_layer-044_model-predicted', slice(69267, 70867, None)), ('model-gpt2-xl_layer-045_model-predicted', slice(70867, 72467, None)), ('model-gpt2-xl_layer-046_model-predicted', slice(72467, 74067, None)), ('model-gpt2-xl_layer-047_model-predicted', slice(74067, 75667, None)), ('model-gpt2-xl_layer-048_model-predicted', slice(75667, 77267, None)), ('model-gpt2-xl_layer-049_model-predicted', slice(77267, 78867, None))]\n",
      "\n",
      "\n",
      "Loaded features for gpt2-xl human-audio\n",
      "[('features-spectral', slice(0, 128, None)), ('features-phoneme', slice(128, 167, None)), ('features-word2vec', slice(167, 467, None)), ('model-gpt2-xl_layer-001_human-audio-predicted', slice(467, 2067, None)), ('model-gpt2-xl_layer-002_human-audio-predicted', slice(2067, 3667, None)), ('model-gpt2-xl_layer-003_human-audio-predicted', slice(3667, 5267, None)), ('model-gpt2-xl_layer-004_human-audio-predicted', slice(5267, 6867, None)), ('model-gpt2-xl_layer-005_human-audio-predicted', slice(6867, 8467, None)), ('model-gpt2-xl_layer-006_human-audio-predicted', slice(8467, 10067, None)), ('model-gpt2-xl_layer-007_human-audio-predicted', slice(10067, 11667, None)), ('model-gpt2-xl_layer-008_human-audio-predicted', slice(11667, 13267, None)), ('model-gpt2-xl_layer-009_human-audio-predicted', slice(13267, 14867, None)), ('model-gpt2-xl_layer-010_human-audio-predicted', slice(14867, 16467, None)), ('model-gpt2-xl_layer-011_human-audio-predicted', slice(16467, 18067, None)), ('model-gpt2-xl_layer-012_human-audio-predicted', slice(18067, 19667, None)), ('model-gpt2-xl_layer-013_human-audio-predicted', slice(19667, 21267, None)), ('model-gpt2-xl_layer-014_human-audio-predicted', slice(21267, 22867, None)), ('model-gpt2-xl_layer-015_human-audio-predicted', slice(22867, 24467, None)), ('model-gpt2-xl_layer-016_human-audio-predicted', slice(24467, 26067, None)), ('model-gpt2-xl_layer-017_human-audio-predicted', slice(26067, 27667, None)), ('model-gpt2-xl_layer-018_human-audio-predicted', slice(27667, 29267, None)), ('model-gpt2-xl_layer-019_human-audio-predicted', slice(29267, 30867, None)), ('model-gpt2-xl_layer-020_human-audio-predicted', slice(30867, 32467, None)), ('model-gpt2-xl_layer-021_human-audio-predicted', slice(32467, 34067, None)), ('model-gpt2-xl_layer-022_human-audio-predicted', slice(34067, 35667, None)), ('model-gpt2-xl_layer-023_human-audio-predicted', slice(35667, 37267, None)), ('model-gpt2-xl_layer-024_human-audio-predicted', slice(37267, 38867, None)), ('model-gpt2-xl_layer-025_human-audio-predicted', slice(38867, 40467, None)), ('model-gpt2-xl_layer-026_human-audio-predicted', slice(40467, 42067, None)), ('model-gpt2-xl_layer-027_human-audio-predicted', slice(42067, 43667, None)), ('model-gpt2-xl_layer-028_human-audio-predicted', slice(43667, 45267, None)), ('model-gpt2-xl_layer-029_human-audio-predicted', slice(45267, 46867, None)), ('model-gpt2-xl_layer-030_human-audio-predicted', slice(46867, 48467, None)), ('model-gpt2-xl_layer-031_human-audio-predicted', slice(48467, 50067, None)), ('model-gpt2-xl_layer-032_human-audio-predicted', slice(50067, 51667, None)), ('model-gpt2-xl_layer-033_human-audio-predicted', slice(51667, 53267, None)), ('model-gpt2-xl_layer-034_human-audio-predicted', slice(53267, 54867, None)), ('model-gpt2-xl_layer-035_human-audio-predicted', slice(54867, 56467, None)), ('model-gpt2-xl_layer-036_human-audio-predicted', slice(56467, 58067, None)), ('model-gpt2-xl_layer-037_human-audio-predicted', slice(58067, 59667, None)), ('model-gpt2-xl_layer-038_human-audio-predicted', slice(59667, 61267, None)), ('model-gpt2-xl_layer-039_human-audio-predicted', slice(61267, 62867, None)), ('model-gpt2-xl_layer-040_human-audio-predicted', slice(62867, 64467, None)), ('model-gpt2-xl_layer-041_human-audio-predicted', slice(64467, 66067, None)), ('model-gpt2-xl_layer-042_human-audio-predicted', slice(66067, 67667, None)), ('model-gpt2-xl_layer-043_human-audio-predicted', slice(67667, 69267, None)), ('model-gpt2-xl_layer-044_human-audio-predicted', slice(69267, 70867, None)), ('model-gpt2-xl_layer-045_human-audio-predicted', slice(70867, 72467, None)), ('model-gpt2-xl_layer-046_human-audio-predicted', slice(72467, 74067, None)), ('model-gpt2-xl_layer-047_human-audio-predicted', slice(74067, 75667, None)), ('model-gpt2-xl_layer-048_human-audio-predicted', slice(75667, 77267, None)), ('model-gpt2-xl_layer-049_human-audio-predicted', slice(77267, 78867, None))]\n",
      "\n",
      "\n",
      "Loaded features for gpt2-xl human-text\n",
      "[('features-spectral', slice(0, 128, None)), ('features-phoneme', slice(128, 167, None)), ('features-word2vec', slice(167, 467, None)), ('model-gpt2-xl_layer-001_human-text-predicted', slice(467, 2067, None)), ('model-gpt2-xl_layer-002_human-text-predicted', slice(2067, 3667, None)), ('model-gpt2-xl_layer-003_human-text-predicted', slice(3667, 5267, None)), ('model-gpt2-xl_layer-004_human-text-predicted', slice(5267, 6867, None)), ('model-gpt2-xl_layer-005_human-text-predicted', slice(6867, 8467, None)), ('model-gpt2-xl_layer-006_human-text-predicted', slice(8467, 10067, None)), ('model-gpt2-xl_layer-007_human-text-predicted', slice(10067, 11667, None)), ('model-gpt2-xl_layer-008_human-text-predicted', slice(11667, 13267, None)), ('model-gpt2-xl_layer-009_human-text-predicted', slice(13267, 14867, None)), ('model-gpt2-xl_layer-010_human-text-predicted', slice(14867, 16467, None)), ('model-gpt2-xl_layer-011_human-text-predicted', slice(16467, 18067, None)), ('model-gpt2-xl_layer-012_human-text-predicted', slice(18067, 19667, None)), ('model-gpt2-xl_layer-013_human-text-predicted', slice(19667, 21267, None)), ('model-gpt2-xl_layer-014_human-text-predicted', slice(21267, 22867, None)), ('model-gpt2-xl_layer-015_human-text-predicted', slice(22867, 24467, None)), ('model-gpt2-xl_layer-016_human-text-predicted', slice(24467, 26067, None)), ('model-gpt2-xl_layer-017_human-text-predicted', slice(26067, 27667, None)), ('model-gpt2-xl_layer-018_human-text-predicted', slice(27667, 29267, None)), ('model-gpt2-xl_layer-019_human-text-predicted', slice(29267, 30867, None)), ('model-gpt2-xl_layer-020_human-text-predicted', slice(30867, 32467, None)), ('model-gpt2-xl_layer-021_human-text-predicted', slice(32467, 34067, None)), ('model-gpt2-xl_layer-022_human-text-predicted', slice(34067, 35667, None)), ('model-gpt2-xl_layer-023_human-text-predicted', slice(35667, 37267, None)), ('model-gpt2-xl_layer-024_human-text-predicted', slice(37267, 38867, None)), ('model-gpt2-xl_layer-025_human-text-predicted', slice(38867, 40467, None)), ('model-gpt2-xl_layer-026_human-text-predicted', slice(40467, 42067, None)), ('model-gpt2-xl_layer-027_human-text-predicted', slice(42067, 43667, None)), ('model-gpt2-xl_layer-028_human-text-predicted', slice(43667, 45267, None)), ('model-gpt2-xl_layer-029_human-text-predicted', slice(45267, 46867, None)), ('model-gpt2-xl_layer-030_human-text-predicted', slice(46867, 48467, None)), ('model-gpt2-xl_layer-031_human-text-predicted', slice(48467, 50067, None)), ('model-gpt2-xl_layer-032_human-text-predicted', slice(50067, 51667, None)), ('model-gpt2-xl_layer-033_human-text-predicted', slice(51667, 53267, None)), ('model-gpt2-xl_layer-034_human-text-predicted', slice(53267, 54867, None)), ('model-gpt2-xl_layer-035_human-text-predicted', slice(54867, 56467, None)), ('model-gpt2-xl_layer-036_human-text-predicted', slice(56467, 58067, None)), ('model-gpt2-xl_layer-037_human-text-predicted', slice(58067, 59667, None)), ('model-gpt2-xl_layer-038_human-text-predicted', slice(59667, 61267, None)), ('model-gpt2-xl_layer-039_human-text-predicted', slice(61267, 62867, None)), ('model-gpt2-xl_layer-040_human-text-predicted', slice(62867, 64467, None)), ('model-gpt2-xl_layer-041_human-text-predicted', slice(64467, 66067, None)), ('model-gpt2-xl_layer-042_human-text-predicted', slice(66067, 67667, None)), ('model-gpt2-xl_layer-043_human-text-predicted', slice(67667, 69267, None)), ('model-gpt2-xl_layer-044_human-text-predicted', slice(69267, 70867, None)), ('model-gpt2-xl_layer-045_human-text-predicted', slice(70867, 72467, None)), ('model-gpt2-xl_layer-046_human-text-predicted', slice(72467, 74067, None)), ('model-gpt2-xl_layer-047_human-text-predicted', slice(74067, 75667, None)), ('model-gpt2-xl_layer-048_human-text-predicted', slice(75667, 77267, None)), ('model-gpt2-xl_layer-049_human-text-predicted', slice(77267, 78867, None))]\n",
      "\n",
      "\n"
     ]
    },
    {
     "name": "stdout",
     "output_type": "stream",
     "text": [
      "Starting sub-UTS01\n",
      "Model loaded\n",
      "Finished model prediction\n",
      "Finished calculating accuracy/residuals\n",
      "Finished sub-UTS01\n",
      "Starting sub-UTS02\n",
      "Model loaded\n",
      "Finished model prediction\n",
      "Finished calculating accuracy/residuals\n",
      "Finished sub-UTS02\n",
      "Starting sub-UTS03\n",
      "Model loaded\n",
      "Finished model prediction\n",
      "Finished calculating accuracy/residuals\n",
      "Finished sub-UTS03\n",
      "Starting sub-UTS04\n",
      "Model loaded\n",
      "Finished model prediction\n",
      "Finished calculating accuracy/residuals\n",
      "Finished sub-UTS04\n",
      "Starting sub-UTS05\n",
      "Model loaded\n",
      "Finished model prediction\n",
      "Finished calculating accuracy/residuals\n",
      "Finished sub-UTS05\n",
      "Starting sub-UTS06\n",
      "Model loaded\n",
      "Finished model prediction\n",
      "Finished calculating accuracy/residuals\n",
      "Finished sub-UTS06\n",
      "Starting sub-UTS07\n",
      "Model loaded\n",
      "Finished model prediction\n",
      "Finished calculating accuracy/residuals\n",
      "Finished sub-UTS07\n",
      "Starting sub-UTS08\n",
      "Model loaded\n",
      "Finished model prediction\n",
      "Finished calculating accuracy/residuals\n",
      "Finished sub-UTS08\n"
     ]
    }
   ],
   "source": [
    "import statistics_utils as stats\n",
    "\n",
    "MODEL_NAME = 'gpt2-xl'\n",
    "\n",
    "# get critical word trs\n",
    "critical_word_trs = df_transcript.loc[crit_idxs, ['start', 'end']] // 2\n",
    "critical_word_trs = critical_word_trs['end'].astype(int).to_numpy()\n",
    "\n",
    "# load features for each space\n",
    "behav_features_names = ['model-predicted', 'human-audio', 'human-text']\n",
    "behavioral_feature_info = load_behavioral_features(model_name=MODEL_NAME, behavior_features=behav_features_names)\n",
    "_, behav_features = zip(*behavioral_feature_info)\n",
    "\n",
    "# now load gt features\n",
    "gt_features, gt_feature_names = load_features(feature_names=['spectral', 'phoneme', 'word2vec', MODEL_NAME])\n",
    "all_features_names = ['ground-truth', *behav_features_names]\n",
    "all_features = [gt_features, *behav_features]\n",
    "\n",
    "# # set comparisons \n",
    "# comparisons = list(zip(\n",
    "#     ['model-gt', 'model-audio', 'model-text', 'audio-gt', 'text-gt', 'audio-text'], \n",
    "#     [[1, 0], [1,2], [1,3], [2, 0], [3, 0], [2, 3]]\n",
    "# ))\n",
    "\n",
    "all_sub_residuals = []\n",
    "all_sub_corrs_info = []\n",
    "\n",
    "for sub in sorted(sub_list):\n",
    "    \n",
    "    print (f'Starting {sub}')\n",
    "    # make predictions for each feature set\n",
    "    Y_preds, dist = get_sub_predictions(sub=sub, model_name=MODEL_NAME, features=all_features)\n",
    "\n",
    "    # calculate residuals over predictions for each and all stories\n",
    "    corrs, residuals = calculate_accuracy_error(sub=sub, task=TASK, preds=Y_preds, crit_trs=critical_word_trs)\n",
    "    \n",
    "    # compare ground truth to null distribution\n",
    "    # then log together with the baseline correlation\n",
    "    # results in corrs array, zvals, pvals for each subject\n",
    "    zvals, pvals = stats.p_from_null(corrs[0][np.newaxis], dist, mult_comp_method='fdr_bh', axis=0)\n",
    "    all_sub_corrs_info.append([corrs[0], zvals, pvals])\n",
    "    \n",
    "    # find significance to add to df\n",
    "    thresholded = stats.pvalue_threshold(corrs[0], pvals)\n",
    "    significant = ~np.isnan(thresholded)\n",
    "    \n",
    "    df_sub_residuals = get_residuals_df(sub=sub, residuals=residuals, feature_names=all_features_names, significant=significant)\n",
    "    all_sub_residuals.append(df_sub_residuals)\n",
    "    print (f'Finished {sub}')"
   ]
  },
  {
   "cell_type": "code",
   "execution_count": 74,
   "id": "80a94868",
   "metadata": {},
   "outputs": [],
   "source": [
    "df_all_sub_residuals = pd.concat(all_sub_residuals)"
   ]
  },
  {
   "cell_type": "code",
   "execution_count": 45,
   "id": "8e94ea7d",
   "metadata": {},
   "outputs": [],
   "source": [
    "df_all_sub_residuals.to_csv('all-sub-residuals.csv')"
   ]
  },
  {
   "cell_type": "markdown",
   "id": "29ebf05e",
   "metadata": {},
   "source": [
    "### Calculate difference of residuals"
   ]
  },
  {
   "cell_type": "code",
   "execution_count": 75,
   "id": "c2174de4",
   "metadata": {},
   "outputs": [],
   "source": [
    "feature_contrasts = [\n",
    "    ['model-predicted', 'human-audio'],\n",
    "    ['model-predicted', 'human-text'],\n",
    "    ['model-predicted', 'ground-truth'],\n",
    "    ['human-audio', 'ground-truth'],\n",
    "    ['human-text', 'ground-truth'],\n",
    "    ['human-audio', 'human-text'] \n",
    "]\n",
    "\n",
    "all_contrasts = []\n",
    "\n",
    "for contrast in feature_contrasts:\n",
    "    df_a, df_b = [df_all_sub_residuals[df_all_sub_residuals['feature_name'] == c] for c in contrast]\n",
    "    \n",
    "    # copy a dataframe and we'll insert to perform contrast\n",
    "    df_contrast = df_a.copy()\n",
    "    df_contrast['resid'] = df_a['resid'] - df_b['resid']\n",
    "    df_contrast['feature_name'] = ' - '.join(contrast)\n",
    "    \n",
    "    all_contrasts.append(df_contrast)\n",
    "\n",
    "df_contrast = pd.concat(all_contrasts)\n",
    "df_contrast.rename(columns={'feature_name':'contrast'}, inplace=True)\n",
    "# for i, df in df_all_sub_residuals.groupby('feature_name'):\n",
    "#     print (i)"
   ]
  },
  {
   "cell_type": "code",
   "execution_count": null,
   "id": "beae2819",
   "metadata": {},
   "outputs": [],
   "source": [
    "df_contrast"
   ]
  },
  {
   "cell_type": "markdown",
   "id": "a04bc303",
   "metadata": {},
   "source": [
    "### Assess prediction ability"
   ]
  },
  {
   "cell_type": "code",
   "execution_count": 346,
   "id": "0775d92f",
   "metadata": {},
   "outputs": [],
   "source": [
    "def ztransform_mean(dss):\n",
    "    return np.tanh(np.mean([np.arctanh(ds) for ds in dss], axis=0))"
   ]
  },
  {
   "cell_type": "code",
   "execution_count": 353,
   "id": "d53544fb",
   "metadata": {},
   "outputs": [],
   "source": [
    "corrs, zvals, pvals = zip(*all_sub_corrs_info)\n",
    "thresholded = stats.pvalue_threshold(np.stack(corrs), np.stack(pvals))\n",
    "\n"
   ]
  },
  {
   "cell_type": "code",
   "execution_count": 358,
   "id": "c0aac74e",
   "metadata": {},
   "outputs": [
    {
     "name": "stderr",
     "output_type": "stream",
     "text": [
      "/scratch/ipykernel_25177/3929753252.py:5: MatplotlibDeprecationWarning: The get_cmap function was deprecated in Matplotlib 3.7 and will be removed two minor releases later. Use ``matplotlib.colormaps[name]`` or ``matplotlib.colormaps.get_cmap(obj)`` instead.\n",
      "  significance_cmap = plt.cm.get_cmap('magma', len(sub_list))    # 11 discrete colorsp\n"
     ]
    },
    {
     "name": "stdout",
     "output_type": "stream",
     "text": [
      "Here\n",
      "Here\n",
      "Here\n"
     ]
    }
   ],
   "source": [
    "# now count number of participants \n",
    "significance_counts = np.sum(np.stack(pvals) < 0.05, axis=0).astype(float)\n",
    "significance_counts[significance_counts < 1] = np.nan\n",
    "\n",
    "significance_cmap = plt.cm.get_cmap('magma', len(sub_list))    # 11 discrete colorsp\n",
    "\n",
    "out_fn = os.path.join(plots_dir, f'group_task-{TASK}_nsubs-significance.{EXT}')\n",
    "title = ''#f'group - n_subs significance'\n",
    "\n",
    "max_val = np.nanmax(significance_counts)\n",
    "ds_signif = masker.inverse_transform(significance_counts)\n",
    "\n",
    "surfs, data = vol_to_surf(ds_signif, surf_type='fsaverage', map_type='inflated', method='nearest')\n",
    "layer = make_layers_dict(data=data, cmap=significance_cmap, label=f'N_Subjects Significant', alpha=1, color_range=(1, 8))\n",
    "\n",
    "_ = plot_surf_data(surfs, [layer], views=VIEWS, colorbar=True, surf_type=SURF_TYPE, \n",
    "                   add_depth=ADD_DEPTH, out_fn=out_fn, title=title, embed_nb=False)\n",
    " \n",
    "if PLOT_SEPARATE_VIEWS:\n",
    "        for view in VIEWS:\n",
    "            _ = plot_surf_data(surfs, [layer], views=[view], colorbar=COLORBAR, surf_type=SURF_TYPE, \n",
    "                add_depth=ADD_DEPTH, out_fn=out_fn.replace(f'.{EXT}', f'-{view}.{EXT}'),\n",
    "                title=title)\n",
    "else:\n",
    "    _ = plot_surf_data(surfs, [layer], views=VIEWS, colorbar=COLORBAR, surf_type=SURF_TYPE, \n",
    "        add_depth=ADD_DEPTH, out_fn=out_fn, title=title)"
   ]
  },
  {
   "cell_type": "code",
   "execution_count": 359,
   "id": "e9485c31",
   "metadata": {},
   "outputs": [
    {
     "name": "stdout",
     "output_type": "stream",
     "text": [
      "Here\n",
      "Here\n",
      "Here\n"
     ]
    }
   ],
   "source": [
    "sub_avg = ztransform_mean(corrs)\n",
    "sub_avg[np.isnan(significance_counts)] = np.nan\n",
    "\n",
    "out_fn = os.path.join(plots_dir, f'group_task-{TASK}_run-avg-prediction.{EXT}')\n",
    "title = '' #f'group - run-avg prediction'\n",
    "\n",
    "max_val = np.nanmax(sub_avg)\n",
    "\n",
    "ds_avg = masker.inverse_transform(sub_avg)\n",
    "\n",
    "surfs, data = vol_to_surf(ds_avg, surf_type='fsaverage', map_type='inflated')\n",
    "layer = make_layers_dict(data=data, cmap='RdBu_r', label=f'Prediction (r)', alpha=1, color_range=(-max_val, max_val))\n",
    "\n",
    "_ = plot_surf_data(surfs, [layer], views=VIEWS, colorbar=True, surf_type=SURF_TYPE, \n",
    "                   add_depth=ADD_DEPTH, out_fn=out_fn, title=title, embed_nb=False)\n",
    "\n",
    "if PLOT_SEPARATE_VIEWS:\n",
    "    for view in VIEWS:\n",
    "        _ = plot_surf_data(surfs, [layer], views=[view], colorbar=COLORBAR, surf_type=SURF_TYPE, \n",
    "            add_depth=ADD_DEPTH, out_fn=out_fn.replace(f'.{EXT}', f'-{view}.{EXT}'),\n",
    "            title=title)\n",
    "else:\n",
    "    _ = plot_surf_data(surfs, [layer], views=VIEWS, colorbar=COLORBAR, surf_type=SURF_TYPE, \n",
    "        add_depth=ADD_DEPTH, out_fn=out_fn, title=title)"
   ]
  },
  {
   "cell_type": "code",
   "execution_count": 351,
   "id": "563c27db",
   "metadata": {},
   "outputs": [
    {
     "ename": "IndentationError",
     "evalue": "unindent does not match any outer indentation level (<tokenize>, line 25)",
     "output_type": "error",
     "traceback": [
      "\u001b[0;36m  File \u001b[0;32m<tokenize>:25\u001b[0;36m\u001b[0m\n\u001b[0;31m    else:\u001b[0m\n\u001b[0m    ^\u001b[0m\n\u001b[0;31mIndentationError\u001b[0m\u001b[0;31m:\u001b[0m unindent does not match any outer indentation level\n"
     ]
    }
   ],
   "source": [
    "plots_dir = os.path.join(BASE_DIR, 'derivatives/plots/encoding_preds', DATASET, 'run-avg', MODEL_NAME)\n",
    "\n",
    "if not os.path.exists(plots_dir):\n",
    "    os.makedirs(plots_dir)\n",
    "\n",
    "max_val = np.nanmax([np.nanmax(abs(x)) for x in thresholded])\n",
    "\n",
    "for sub, (corrs, zvals, pvals) in zip(sub_list, all_sub_corrs_info):\n",
    "    \n",
    "    out_fn = os.path.join(plots_dir, f'{sub}_task-{TASK}_run-avg-prediction.{EXT}')\n",
    "    title = f'{sub} - run-avg prediction'\n",
    "    \n",
    "    # get thresholed data, inverse transform\n",
    "    thresholded = stats.pvalue_threshold(corrs, pvals)\n",
    "    ds_avg = masker.inverse_transform(thresholded)\n",
    "    \n",
    "    surfs, data = vol_to_surf(ds_avg, surf_type='fsaverage', map_type='inflated')\n",
    "    layer = make_layers_dict(data=data, cmap='RdBu_r', label=f'Prediction (r)', alpha=1, color_range=(-max_val, max_val))\n",
    "\n",
    "    if PLOT_SEPARATE_VIEWS:\n",
    "            for view in VIEWS:\n",
    "                _ = plot_surf_data(surfs, [layer], views=[view], colorbar=COLORBAR, surf_type=SURF_TYPE, \n",
    "                    add_depth=ADD_DEPTH, out_fn=os.path.join(plots_dir, plot_fn.replace(f'.{EXT}', f'-{view}.{EXT}')),\n",
    "                    title=title)\n",
    "        else:\n",
    "            _ = plot_surf_data(surfs, [layer], views=VIEWS, colorbar=COLORBAR, surf_type=SURF_TYPE, \n",
    "                add_depth=ADD_DEPTH, out_fn=os.path.join(plots_dir, plot_fn), title=title)\n"
   ]
  },
  {
   "cell_type": "markdown",
   "id": "d4f2ddc3",
   "metadata": {},
   "source": [
    "### Run voxelwise analyses"
   ]
  },
  {
   "cell_type": "code",
   "execution_count": 122,
   "id": "46077009",
   "metadata": {},
   "outputs": [],
   "source": [
    "df_run_avg = df_contrast[df_contrast['run'] == 'run-avg'].reset_index(drop=True)\n",
    "df_run_avg = df_run_avg[df_run_avg['significant']]\n",
    "\n",
    "df_run_avg"
   ]
  },
  {
   "cell_type": "code",
   "execution_count": 126,
   "id": "1725e092",
   "metadata": {},
   "outputs": [],
   "source": [
    "df_run_avg = df_run_avg[df_run_avg['contrast'].isin([\n",
    "    'model-predicted - human-audio',\n",
    "    'model-predicted - human-text',\n",
    "    'human-audio - human-text'\n",
    "\n",
    "])]"
   ]
  },
  {
   "cell_type": "code",
   "execution_count": 143,
   "id": "4ae599e0",
   "metadata": {
    "scrolled": false
   },
   "outputs": [
    {
     "data": {
      "image/png": "[encoded data removed]",
      "text/plain": [
       "<Figure size 1000x500 with 1 Axes>"
      ]
     },
     "metadata": {},
     "output_type": "display_data"
    }
   ],
   "source": [
    "import seaborn as sns\n",
    "from matplotlib import pyplot as plt\n",
    "\n",
    "fig, ax = plt.subplots(figsize=(10,5))\n",
    "\n",
    "sns.barplot(df_run_avg, x='sub', y='resid', hue='contrast', palette='plasma', ax=ax)\n",
    "plt.legend(loc='upper right', bbox_to_anchor=(1.25, 1))\n",
    "# plt.ylim([-0.0003, 0.0008])\n",
    "\n",
    "plt.title(f'Average voxelwise residual error - {MODEL_NAME}')\n",
    "sns.despine()\n",
    "# plt.yscale('log10')\n",
    "# plt.tight_layout()\n",
    "# plt.xscale('log')\n",
    "# plt.ylabel('Negative log MSE Difference')\n",
    "# plt"
   ]
  },
  {
   "cell_type": "markdown",
   "id": "9d847982",
   "metadata": {},
   "source": [
    "Plot average brain of residual error"
   ]
  },
  {
   "cell_type": "code",
   "execution_count": 309,
   "id": "fd0ab4fe",
   "metadata": {},
   "outputs": [],
   "source": [
    "df_run_avg = df_all_sub_residuals[df_all_sub_residuals['run'] == 'run-avg'].reset_index(drop=True)\n",
    "df_run_avg = df_run_avg.groupby(['feature_name', 'voxel'], as_index=False)['resid'].mean()"
   ]
  },
  {
   "cell_type": "code",
   "execution_count": 310,
   "id": "8da6d3a3",
   "metadata": {
    "scrolled": true
   },
   "outputs": [],
   "source": [
    "all_residuals = [] \n",
    "\n",
    "for i, df in df_run_avg.groupby('feature_name'):\n",
    "    \n",
    "    all_residuals.append((i, df['resid'].to_numpy()))\n",
    "    \n",
    "feature_names, residuals = zip(*all_residuals)"
   ]
  },
  {
   "cell_type": "code",
   "execution_count": 311,
   "id": "961fb94a",
   "metadata": {
    "scrolled": false
   },
   "outputs": [
    {
     "data": {
      "text/plain": [
       "('ground-truth', 'human-audio', 'human-text', 'model-predicted')"
      ]
     },
     "execution_count": 311,
     "metadata": {},
     "output_type": "execute_result"
    }
   ],
   "source": [
    "feature_names"
   ]
  },
  {
   "cell_type": "code",
   "execution_count": 312,
   "id": "4801bcd2",
   "metadata": {},
   "outputs": [
    {
     "data": {
      "image/png": "[encoded data removed]",
      "text/html": [
       "<div style=\"vertical-align: middle;\"><strong>from_list</strong> </div><div class=\"cmap\"><img alt=\"from_list colormap\" title=\"from_list\" style=\"border: 1px solid #555;\" src=\"data:image/png;base64,iVBORw0KGgoAAAANSUhEUgAAAgAAAABACAYAAABsv8+/AAAAGHRFWHRUaXRsZQBmcm9tX2xpc3QgY29sb3JtYXBDL89FAAAAHnRFWHREZXNjcmlwdGlvbgBmcm9tX2xpc3QgY29sb3JtYXABtCnOAAAAMHRFWHRBdXRob3IATWF0cGxvdGxpYiB2My44LjAsIGh0dHBzOi8vbWF0cGxvdGxpYi5vcmefc/hPAAAAMnRFWHRTb2Z0d2FyZQBNYXRwbG90bGliIHYzLjguMCwgaHR0cHM6Ly9tYXRwbG90bGliLm9yZ7HVZ2gAAAE/SURBVHic7dZBEcIwAADBpkLwUjk1hARsoAUlqYTyIsPcroJ73jjOz9zgD7yfj9UJcGu+xuoE+Mq+OgAA+D0DAABBBgAAggwAAAQZAAAIMgAAEGQAACDIAABAkAEAgCADAABBBgAAggwAAAQZAAAIMgAAEGQAACDIAABAkAEAgCADAABBBgAAggwAAAQZAAAIMgAAEGQAACDIAABAkAEAgCADAABBBgAAggwAAAQZAAAIMgAAEGQAACDIAABAkAEAgCADAABBBgAAggwAAAQZAAAIMgAAEGQAACDIAABAkAEAgCADAABBBgAAggwAAAQZAAAIMgAAEGQAACDIAABAkAEAgCADAABBBgAAggwAAAQZAAAIMgAAEGQAACDIAABAkAEAgCADAABBBgAAggwAAAQZAAAIMgAAEGQAACDoAnUSBiPXB7jlAAAAAElFTkSuQmCC\"></div><div style=\"vertical-align: middle; max-width: 514px; display: flex; justify-content: space-between;\"><div style=\"float: left;\"><div title=\"#4169e1ff\" style=\"display: inline-block; width: 1em; height: 1em; margin: 0; vertical-align: middle; border: 1px solid #555; background-color: #4169e1ff;\"></div> under</div><div style=\"margin: 0 auto; display: inline-block;\">bad <div title=\"#00000000\" style=\"display: inline-block; width: 1em; height: 1em; margin: 0; vertical-align: middle; border: 1px solid #555; background-color: #00000000;\"></div></div><div style=\"float: right;\">over <div title=\"#ffa500ff\" style=\"display: inline-block; width: 1em; height: 1em; margin: 0; vertical-align: middle; border: 1px solid #555; background-color: #ffa500ff;\"></div></div>"
      ],
      "text/plain": [
       "<matplotlib.colors.ListedColormap at 0x2b2dfdeabe50>"
      ]
     },
     "execution_count": 312,
     "metadata": {},
     "output_type": "execute_result"
    }
   ],
   "source": [
    "cmap"
   ]
  },
  {
   "cell_type": "code",
   "execution_count": 335,
   "id": "d1a086ed",
   "metadata": {},
   "outputs": [
    {
     "name": "stdout",
     "output_type": "stream",
     "text": [
      "Here\n"
     ]
    }
   ],
   "source": [
    "from matplotlib import colors\n",
    "\n",
    "cmap = colors.ListedColormap(['royalblue', 'yellow', 'cyan', 'orange'])\n",
    "color_range = (1, 4)\n",
    "\n",
    "best_predictor = np.argmin(abs(np.stack(residuals)), axis=0).astype(float) + 1\n",
    "best_predictor[np.isnan(significance_counts)] = np.nan\n",
    "\n",
    "# now count number of participants \n",
    "out_fn = os.path.join(plots_dir, f'group-best-predictor_task-{TASK}_all-preds.{EXT}')\n",
    "title = ''#f'group - n_subs significance'\n",
    "\n",
    "ds_best_pred = masker.inverse_transform(best_predictor)\n",
    "\n",
    "surfs, data = vol_to_surf(ds_best_pred, surf_type='fsaverage', map_type='inflated')\n",
    "layer = make_layers_dict(data=data, cmap=cmap, label=f'Best predictor', alpha=1, color_range=color_range)\n",
    "\n",
    "# if PLOT_SEPARATE_VIEWS:\n",
    "#         for view in VIEWS:\n",
    "#             _ = plot_surf_data(surfs, [layer], views=[view], colorbar=COLORBAR, surf_type=SURF_TYPE, \n",
    "#                 add_depth=ADD_DEPTH, out_fn=out_fn.replace(f'.{EXT}', f'-{view}.{EXT}'),\n",
    "#                 title=title)\n",
    "# else:\n",
    "_ = plot_surf_data(surfs, [layer], views=VIEWS, colorbar=COLORBAR, surf_type=SURF_TYPE, \n",
    "    add_depth=ADD_DEPTH, out_fn=out_fn.replace(f'.{EXT}', f'-{view}.{EXT}'), title=title)"
   ]
  },
  {
   "cell_type": "code",
   "execution_count": 261,
   "id": "6e84a146",
   "metadata": {
    "scrolled": true
   },
   "outputs": [
    {
     "data": {
      "text/html": [
       "<div>\n",
       "<style scoped>\n",
       "    .dataframe tbody tr th:only-of-type {\n",
       "        vertical-align: middle;\n",
       "    }\n",
       "\n",
       "    .dataframe tbody tr th {\n",
       "        vertical-align: top;\n",
       "    }\n",
       "\n",
       "    .dataframe thead th {\n",
       "        text-align: right;\n",
       "    }\n",
       "</style>\n",
       "<table border=\"1\" class=\"dataframe\">\n",
       "  <thead>\n",
       "    <tr style=\"text-align: right;\">\n",
       "      <th></th>\n",
       "      <th>voxel</th>\n",
       "      <th>sub</th>\n",
       "      <th>feature_name</th>\n",
       "      <th>significant</th>\n",
       "      <th>run</th>\n",
       "      <th>resid</th>\n",
       "    </tr>\n",
       "  </thead>\n",
       "  <tbody>\n",
       "    <tr>\n",
       "      <th>0</th>\n",
       "      <td>0</td>\n",
       "      <td>sub-UTS01</td>\n",
       "      <td>ground-truth</td>\n",
       "      <td>True</td>\n",
       "      <td>run-1</td>\n",
       "      <td>0.801334</td>\n",
       "    </tr>\n",
       "    <tr>\n",
       "      <th>1</th>\n",
       "      <td>1</td>\n",
       "      <td>sub-UTS01</td>\n",
       "      <td>ground-truth</td>\n",
       "      <td>True</td>\n",
       "      <td>run-1</td>\n",
       "      <td>0.813158</td>\n",
       "    </tr>\n",
       "    <tr>\n",
       "      <th>2</th>\n",
       "      <td>2</td>\n",
       "      <td>sub-UTS01</td>\n",
       "      <td>ground-truth</td>\n",
       "      <td>False</td>\n",
       "      <td>run-1</td>\n",
       "      <td>0.812402</td>\n",
       "    </tr>\n",
       "    <tr>\n",
       "      <th>3</th>\n",
       "      <td>3</td>\n",
       "      <td>sub-UTS01</td>\n",
       "      <td>ground-truth</td>\n",
       "      <td>True</td>\n",
       "      <td>run-1</td>\n",
       "      <td>0.756860</td>\n",
       "    </tr>\n",
       "    <tr>\n",
       "      <th>4</th>\n",
       "      <td>4</td>\n",
       "      <td>sub-UTS01</td>\n",
       "      <td>ground-truth</td>\n",
       "      <td>True</td>\n",
       "      <td>run-1</td>\n",
       "      <td>0.737781</td>\n",
       "    </tr>\n",
       "    <tr>\n",
       "      <th>...</th>\n",
       "      <td>...</td>\n",
       "      <td>...</td>\n",
       "      <td>...</td>\n",
       "      <td>...</td>\n",
       "      <td>...</td>\n",
       "      <td>...</td>\n",
       "    </tr>\n",
       "    <tr>\n",
       "      <th>341941</th>\n",
       "      <td>56986</td>\n",
       "      <td>sub-UTS08</td>\n",
       "      <td>human-text</td>\n",
       "      <td>False</td>\n",
       "      <td>run-avg</td>\n",
       "      <td>0.373334</td>\n",
       "    </tr>\n",
       "    <tr>\n",
       "      <th>341942</th>\n",
       "      <td>56987</td>\n",
       "      <td>sub-UTS08</td>\n",
       "      <td>human-text</td>\n",
       "      <td>True</td>\n",
       "      <td>run-avg</td>\n",
       "      <td>0.402660</td>\n",
       "    </tr>\n",
       "    <tr>\n",
       "      <th>341943</th>\n",
       "      <td>56988</td>\n",
       "      <td>sub-UTS08</td>\n",
       "      <td>human-text</td>\n",
       "      <td>True</td>\n",
       "      <td>run-avg</td>\n",
       "      <td>0.390217</td>\n",
       "    </tr>\n",
       "    <tr>\n",
       "      <th>341944</th>\n",
       "      <td>56989</td>\n",
       "      <td>sub-UTS08</td>\n",
       "      <td>human-text</td>\n",
       "      <td>False</td>\n",
       "      <td>run-avg</td>\n",
       "      <td>0.387767</td>\n",
       "    </tr>\n",
       "    <tr>\n",
       "      <th>341945</th>\n",
       "      <td>56990</td>\n",
       "      <td>sub-UTS08</td>\n",
       "      <td>human-text</td>\n",
       "      <td>False</td>\n",
       "      <td>run-avg</td>\n",
       "      <td>0.415559</td>\n",
       "    </tr>\n",
       "  </tbody>\n",
       "</table>\n",
       "<p>10942272 rows × 6 columns</p>\n",
       "</div>"
      ],
      "text/plain": [
       "        voxel        sub  feature_name  significant      run     resid\n",
       "0           0  sub-UTS01  ground-truth         True    run-1  0.801334\n",
       "1           1  sub-UTS01  ground-truth         True    run-1  0.813158\n",
       "2           2  sub-UTS01  ground-truth        False    run-1  0.812402\n",
       "3           3  sub-UTS01  ground-truth         True    run-1  0.756860\n",
       "4           4  sub-UTS01  ground-truth         True    run-1  0.737781\n",
       "...       ...        ...           ...          ...      ...       ...\n",
       "341941  56986  sub-UTS08    human-text        False  run-avg  0.373334\n",
       "341942  56987  sub-UTS08    human-text         True  run-avg  0.402660\n",
       "341943  56988  sub-UTS08    human-text         True  run-avg  0.390217\n",
       "341944  56989  sub-UTS08    human-text        False  run-avg  0.387767\n",
       "341945  56990  sub-UTS08    human-text        False  run-avg  0.415559\n",
       "\n",
       "[10942272 rows x 6 columns]"
      ]
     },
     "execution_count": 261,
     "metadata": {},
     "output_type": "execute_result"
    }
   ],
   "source": [
    "df_all_sub_residuals"
   ]
  },
  {
   "cell_type": "code",
   "execution_count": 419,
   "id": "6058965d",
   "metadata": {},
   "outputs": [
    {
     "name": "stdout",
     "output_type": "stream",
     "text": [
      "Here\n"
     ]
    }
   ],
   "source": [
    "df_run_avg = df_contrast[df_contrast['run'] == 'run-avg'].reset_index(drop=True)\n",
    "df_run_avg = df_run_avg.groupby(['contrast', 'voxel'], as_index=False)['resid'].mean()\n",
    "\n",
    "df_run_avg = df_run_avg[df_run_avg['contrast'].isin([\n",
    "    'model-predicted - human-audio',\n",
    "#     'model-predicted - human-text',\n",
    "#     'model-predicted - ground-truth',\n",
    "#     'human-audio - human-text'\n",
    "#     'human-audio - ground-truth'\n",
    "\n",
    "])]\n",
    "\n",
    "# turn to log scale\n",
    "# df_run_avg['resid'] = -1 * (np.sign(df_run_avg['resid']) * np.log10(abs(df_run_avg['resid'])))\n",
    "\n",
    "max_val = abs(df_run_avg['resid']).max()\n",
    "\n",
    "significance_counts = np.sum(np.stack(pvals) < 0.05, axis=0).astype(float)\n",
    "significance_counts[significance_counts < 4] = np.nan\n",
    "\n",
    "for i, df in df_run_avg.groupby('contrast'):\n",
    "    \n",
    "    contrast_name = i.replace(' - ', '_')\n",
    "    \n",
    "    avg_error = df['resid'].to_numpy()\n",
    "    avg_error[np.isnan(significance_counts)] = np.nan\n",
    "    \n",
    "    out_fn = os.path.join(plots_dir, f'group_task-{TASK}_{contrast_name}-error.{EXT}')\n",
    "    title = '' #f'group - {contrast_name} error'\n",
    "    \n",
    "    max_val = np.nanmax(abs(avg_error))\n",
    "    ds_avg_error = masker.inverse_transform(avg_error)\n",
    "\n",
    "    surfs, data = vol_to_surf(ds_avg_error, surf_type='fsaverage', map_type='inflated')\n",
    "    layer = make_layers_dict(data=data, cmap='RdBu_r', label=f'MSE', alpha=1, color_range=(-max_val, max_val))\n",
    "    \n",
    "    _ = plot_surf_data(surfs, [layer], views=VIEWS, colorbar=True, surf_type=SURF_TYPE, \n",
    "                add_depth=ADD_DEPTH, out_fn=out_fn, title=title)\n",
    "    \n",
    "#     if PLOT_SEPARATE_VIEWS:\n",
    "#         for view in VIEWS:\n",
    "#             _ = plot_surf_data(surfs, [layer], views=[view], colorbar=COLORBAR, surf_type=SURF_TYPE, \n",
    "#                 add_depth=ADD_DEPTH, out_fn=out_fn.replace(f'.{EXT}', f'-{view}.{EXT}'),\n",
    "#                 title=title)\n",
    "#         else:\n",
    "#             _ = plot_surf_data(surfs, [layer], views=VIEWS, colorbar=COLORBAR, surf_type=SURF_TYPE, \n",
    "#                 add_depth=ADD_DEPTH, out_fn=out_fn, title=title)"
   ]
  },
  {
   "cell_type": "code",
   "execution_count": 423,
   "id": "7d103b73",
   "metadata": {},
   "outputs": [
    {
     "data": {
      "text/plain": [
       "array([-0.00058331,  0.00064262,  0.00106202, ...,  0.0008547 ,\n",
       "        0.00021057,  0.00116216], dtype=float32)"
      ]
     },
     "execution_count": 423,
     "metadata": {},
     "output_type": "execute_result"
    }
   ],
   "source": [
    "avg_error"
   ]
  },
  {
   "cell_type": "code",
   "execution_count": 425,
   "id": "946ae365",
   "metadata": {},
   "outputs": [
    {
     "name": "stdout",
     "output_type": "stream",
     "text": [
      "Here\n"
     ]
    }
   ],
   "source": [
    "tmp = np.empty(avg_error.shape)\n",
    "tmp[:] = np.nan\n",
    "tmp = masker.inverse_transform(tmp)\n",
    "\n",
    "surfs, data = vol_to_surf(tmp, surf_type='fsaverage', map_type='inflated')\n",
    "layer = make_layers_dict(data=data, cmap='RdBu_r', label=f'MSE', alpha=1, color_range=(-1, 1))\n",
    "\n",
    "_ = plot_surf_data(surfs, [layer], views=['lateral'], colorbar=False, surf_type=SURF_TYPE, \n",
    "            add_depth=ADD_DEPTH, out_fn='blank_brain.png', title='')\n"
   ]
  },
  {
   "cell_type": "markdown",
   "id": "e60cdc02",
   "metadata": {},
   "source": [
    "### Test contrast of contrasts"
   ]
  },
  {
   "cell_type": "code",
   "execution_count": 381,
   "id": "74315ec6",
   "metadata": {},
   "outputs": [],
   "source": [
    "df_run_avg = df_contrast[df_contrast['run'] == 'run-avg'].reset_index(drop=True)\n",
    "# df_run_avg = df_run_avg.groupby(['contrast', 'voxel'], as_index=False)['resid'].mean()"
   ]
  },
  {
   "cell_type": "code",
   "execution_count": 382,
   "id": "ec60a152",
   "metadata": {},
   "outputs": [
    {
     "data": {
      "text/plain": [
       "array(['model-predicted - human-audio', 'model-predicted - human-text',\n",
       "       'model-predicted - ground-truth', 'human-audio - ground-truth',\n",
       "       'human-text - ground-truth', 'human-audio - human-text'],\n",
       "      dtype=object)"
      ]
     },
     "execution_count": 382,
     "metadata": {},
     "output_type": "execute_result"
    }
   ],
   "source": [
    "df_run_avg['contrast'].unique()"
   ]
  },
  {
   "cell_type": "code",
   "execution_count": 383,
   "id": "9be47474",
   "metadata": {},
   "outputs": [],
   "source": [
    "contrast_model = df_run_avg[df_run_avg['contrast'].isin(['model-predicted - ground-truth'])].reset_index(drop=True)\n",
    "contrast_audio = df_run_avg[df_run_avg['contrast'].isin(['human-audio - ground-truth'])].reset_index(drop=True)"
   ]
  },
  {
   "cell_type": "code",
   "execution_count": 407,
   "id": "b4f73799",
   "metadata": {},
   "outputs": [],
   "source": [
    "df_contrasts_of_contrasts = contrast_audio.copy()\n",
    "df_contrasts_of_contrasts['resid'] = contrast_model['resid'] - contrast_audio['resid']\n",
    "df_contrasts_of_contrasts = df_contrasts_of_contrasts.groupby(['voxel'], as_index=False)['resid'].mean()"
   ]
  },
  {
   "cell_type": "code",
   "execution_count": 408,
   "id": "2d6b896c",
   "metadata": {},
   "outputs": [
    {
     "name": "stdout",
     "output_type": "stream",
     "text": [
      "Here\n"
     ]
    }
   ],
   "source": [
    "avg_error = df_contrasts_of_contrasts['resid'].to_numpy()\n",
    "avg_error[np.isnan(significance_counts)] = np.nan\n",
    "# avg_error = -1 * (np.sign(avg_error) * np.log10(abs(avg_error)))\n",
    "\n",
    "max_val = np.nanmax(abs(avg_error))\n",
    "\n",
    "out_fn = os.path.join(plots_dir, f'group_task-{TASK}_contrasts-contrasts-error.jpg')\n",
    "title = f'group - audio model diff error'\n",
    "\n",
    "ds_avg_error = masker.inverse_transform(avg_error)\n",
    "\n",
    "surfs, data = vol_to_surf(ds_avg_error, surf_type='fsaverage', map_type='inflated')\n",
    "layer = make_layers_dict(data=data, cmap='RdBu_r', label=f'MSE', alpha=1, color_range=(-max_val, max_val))\n",
    "\n",
    "_ = plot_surf_data(surfs, [layer], views=VIEWS, colorbar=COLORBAR, surf_type=SURF_TYPE, \n",
    "                   add_depth=ADD_DEPTH, out_fn=out_fn, title=title, embed_nb=False)\n"
   ]
  },
  {
   "cell_type": "code",
   "execution_count": 128,
   "id": "cbf67c42",
   "metadata": {},
   "outputs": [
    {
     "name": "stderr",
     "output_type": "stream",
     "text": [
      "/scratch/ipykernel_25177/2915445507.py:6: FutureWarning: \n",
      "\n",
      "Passing `palette` without assigning `hue` is deprecated and will be removed in v0.14.0. Assign the `x` variable to `hue` and set `legend=False` for the same effect.\n",
      "\n",
      "  sns.barplot(df_run_avg, x='contrast', y='resid', palette='plasma', ax=ax)\n",
      "No artists with labels found to put in legend.  Note that artists whose label start with an underscore are ignored when legend() is called with no argument.\n"
     ]
    },
    {
     "data": {
      "text/plain": [
       "Text(0.5, 1.0, 'Average voxelwise residual error - gpt2-xl')"
      ]
     },
     "execution_count": 128,
     "metadata": {},
     "output_type": "execute_result"
    },
    {
     "data": {
      "image/png": "[encoded data removed]",
      "text/plain": [
       "<Figure size 1000x500 with 1 Axes>"
      ]
     },
     "metadata": {},
     "output_type": "display_data"
    }
   ],
   "source": [
    "import seaborn as sns\n",
    "from matplotlib import pyplot as plt\n",
    "\n",
    "fig, ax = plt.subplots(figsize=(10,5))\n",
    "\n",
    "sns.barplot(df_run_avg, x='contrast', y='resid', palette='plasma', ax=ax)\n",
    "plt.legend(loc='upper right', bbox_to_anchor=(1.25, 1))\n",
    "# plt.ylim([-0.0003, 0.0008])\n",
    "\n",
    "plt.title(f'Average voxelwise residual error - {MODEL_NAME}')"
   ]
  },
  {
   "cell_type": "code",
   "execution_count": 44,
   "id": "e4ac8ef0",
   "metadata": {},
   "outputs": [
    {
     "name": "stderr",
     "output_type": "stream",
     "text": [
      "/scratch/ipykernel_25177/2915445507.py:6: FutureWarning: \n",
      "\n",
      "Passing `palette` without assigning `hue` is deprecated and will be removed in v0.14.0. Assign the `x` variable to `hue` and set `legend=False` for the same effect.\n",
      "\n",
      "  sns.barplot(df_run_avg, x='contrast', y='resid', palette='plasma', ax=ax)\n",
      "No artists with labels found to put in legend.  Note that artists whose label start with an underscore are ignored when legend() is called with no argument.\n"
     ]
    },
    {
     "data": {
      "text/plain": [
       "Text(0.5, 1.0, 'Average voxelwise residual error - gpt2-xl')"
      ]
     },
     "execution_count": 44,
     "metadata": {},
     "output_type": "execute_result"
    },
    {
     "data": {
      "image/png": "[encoded data removed]",
      "text/plain": [
       "<Figure size 1000x500 with 1 Axes>"
      ]
     },
     "metadata": {},
     "output_type": "display_data"
    }
   ],
   "source": [
    "import seaborn as sns\n",
    "from matplotlib import pyplot as plt\n",
    "\n",
    "fig, ax = plt.subplots(figsize=(10,5))\n",
    "\n",
    "sns.barplot(df_run_avg, x='contrast', y='resid', palette='plasma', ax=ax)\n",
    "plt.legend(loc='upper right', bbox_to_anchor=(1.25, 1))\n",
    "# plt.ylim([-0.0003, 0.0008])\n",
    "\n",
    "plt.title(f'Average voxelwise residual error - {MODEL_NAME}')"
   ]
  },
  {
   "cell_type": "code",
   "execution_count": null,
   "id": "64bf4778",
   "metadata": {
    "scrolled": true
   },
   "outputs": [],
   "source": [
    "# df_run_avg = df_all_sub_contrasts[df_all_sub_contrasts['run'] == 'run-avg']\n",
    "df_avg_contrasts = df_run_avg.groupby(['voxel', 'contrast'], as_index=False)['resid'].mean()\n",
    "\n",
    "df_sub_contrasts = df_run_avg[df_run_avg['sub'] == 'sub-UTS05'].reset_index(drop=True)\n",
    "# df_avg_log_contrasts = convert_residuals_to_log(df_avg_contrasts)"
   ]
  },
  {
   "cell_type": "code",
   "execution_count": null,
   "id": "5b0950d8",
   "metadata": {},
   "outputs": [],
   "source": [
    "avg_vox_resid = df_sub_contrasts[df_sub_contrasts['contrast'] == 'model-audio']['resid'].to_numpy()"
   ]
  },
  {
   "cell_type": "code",
   "execution_count": null,
   "id": "a46bcd41",
   "metadata": {
    "scrolled": true
   },
   "outputs": [],
   "source": [
    "# avg_vox_resid = df_voxel_diffs.groupby(['voxel']).mean()['resid'].to_numpy()\n",
    "ds_avg = masker.inverse_transform(avg_vox_resid)\n",
    "# max_val = abs(avg_vox_resid).max()\n",
    "max_val = 0.01\n",
    "\n",
    "surfs, data = vol_to_surf(ds_avg, surf_type='fsaverage', map_type='inflated')\n",
    "layer = make_layers_dict(data=data, cmap='RdBu_r', label=f'MSE', alpha=1, color_range=(-max_val, max_val))\n",
    "\n",
    "_ = plot_surf_data(surfs, [layer], views=VIEWS, colorbar=COLORBAR, surf_type=SURF_TYPE, \n",
    "                   add_depth=ADD_DEPTH, out_fn=None, title='Average voxel-wise error across runs/subjects', embed_nb=True)\n"
   ]
  },
  {
   "cell_type": "markdown",
   "id": "bb592787",
   "metadata": {},
   "source": [
    "### Now load Glasser"
   ]
  },
  {
   "cell_type": "code",
   "execution_count": null,
   "id": "63b77f12",
   "metadata": {},
   "outputs": [],
   "source": [
    "from nilearn.input_data import NiftiMasker\n",
    "from nilearn.image import resample_to_img\n",
    "\n",
    "# load the masker\n",
    "parcels_fn = os.path.join(ATLAS_DIR, 'schaefer_2018', 'Schaefer2018_200Parcels_17Networks_order_FSLMNI152_2mm.nii.gz')\n",
    "parcels_resampled = resample_to_img(parcels_fn, mask_fn, interpolation='nearest')\n",
    "\n",
    "masker = NiftiMasker(mask_fn).fit()\n",
    "parcels_masked = masker.transform(parcels_resampled).squeeze()"
   ]
  },
  {
   "cell_type": "code",
   "execution_count": null,
   "id": "9e4f3d2d",
   "metadata": {
    "scrolled": true
   },
   "outputs": [],
   "source": [
    "all_parcel_diffs = []\n",
    "all_voxel_diffs = []\n",
    "\n",
    "runs = [f'run-{i+1}' for i in np.arange(5)]\n",
    "runs = runs.extend('run-avg')\n",
    "# runs = ['run-avg']\n",
    "\n",
    "for sub in sorted(sub_list): \n",
    "    print (f'Starting {sub}')\n",
    "    \n",
    "    model_residuals, human_residuals = get_sub_residuals(sub, MODEL_NAME, model_all_features, human_all_features, crit_trs)\n",
    "    voxelwise_resid_diff = (abs(model_residuals) - abs(human_residuals)).mean(1)\n",
    "    parcel_resid_diff = get_parcel_difference(parcels_masked, model_residuals, human_residuals)\n",
    "    \n",
    "    # PARCELS --> turn dictionary into a dataframe\n",
    "    # then rename the index to parcel and reset --> add in sub\n",
    "    df_parcels = pd.DataFrame.from_dict(parcel_resid_diff, orient='index', columns=runs)\n",
    "    df_parcels = df_parcels.reset_index().rename(columns={'index': 'parcel'})\n",
    "    df_parcels['sub'] = sub\n",
    "    df_parcels = pd.melt(df_parcels, id_vars=['parcel', 'sub'], var_name='run', value_name='resid')\n",
    "    \n",
    "    all_parcel_diffs.append(df_parcels)\n",
    "    \n",
    "    # VOXELS --> turn array into dataframe\n",
    "    # then rename the index to parcel and reset --> add in sub\n",
    "    \n",
    "    df_voxels = pd.DataFrame(voxelwise_resid_diff.T, columns=runs)\n",
    "    df_voxels = df_voxels.reset_index().rename(columns={'index': 'voxel'})\n",
    "    df_voxels['sub'] = sub\n",
    "    df_voxels = pd.melt(df_voxels, id_vars=['voxel', 'sub'], var_name='run', value_name='resid')\n",
    "\n",
    "    all_voxel_diffs.append(df_voxels)\n",
    "\n",
    "    print (f'Completed {sub}')\n",
    "    \n",
    "    "
   ]
  },
  {
   "cell_type": "code",
   "execution_count": null,
   "id": "d8a69b8f",
   "metadata": {},
   "outputs": [],
   "source": [
    "df_parcel_diffs = pd.concat(all_parcel_diffs).reset_index(drop=True)\n",
    "df_voxel_diffs = pd.concat(all_voxel_diffs).reset_index(drop=True)"
   ]
  },
  {
   "cell_type": "code",
   "execution_count": null,
   "id": "3b5e737c",
   "metadata": {
    "scrolled": false
   },
   "outputs": [],
   "source": [
    "# avg_vox_resid = df_voxel_diffs.groupby(['voxel']).mean()['resid'].to_numpy()\n",
    "ds_avg = masker.inverse_transform(avg_vox_resid)\n",
    "max_val = abs(avg_vox_resid).max()\n",
    "\n",
    "surfs, data = vol_to_surf(ds_avg, surf_type='fsaverage', map_type='inflated')\n",
    "layer = make_layers_dict(data=data, cmap='RdBu_r', label=f'MSE', alpha=1, color_range=(-max_val, max_val))\n",
    "\n",
    "_ = plot_surf_data(surfs, [layer], views=VIEWS, colorbar=COLORBAR, surf_type=SURF_TYPE, \n",
    "                   add_depth=ADD_DEPTH, out_fn=None, title='Average voxel-wise log error across runs/subjects', embed_nb=True)\n"
   ]
  },
  {
   "cell_type": "code",
   "execution_count": null,
   "id": "d929f85b",
   "metadata": {
    "scrolled": false
   },
   "outputs": [],
   "source": [
    "import seaborn as sns\n",
    "from matplotlib import pyplot as plt\n",
    "\n",
    "fig, ax = plt.subplots(figsize=(10,5))\n",
    "\n",
    "sns.barplot(df_voxel_diffs, x='sub', y='resid', palette='plasma', ax=ax)\n",
    "plt.legend(loc='upper right', bbox_to_anchor=(1.25, 1))\n",
    "plt.tight_layout()\n",
    "# plt.ylim([-0.0003, 0.0008])\n",
    "\n",
    "plt.title(f'Average voxelwise residual error - {MODEL_NAME}')\n",
    "plt.ylabel('Absolute MSE Difference')\n",
    "# plt"
   ]
  },
  {
   "cell_type": "code",
   "execution_count": null,
   "id": "a5ff2a59",
   "metadata": {
    "scrolled": true
   },
   "outputs": [],
   "source": [
    "import seaborn as sns\n",
    "from matplotlib import pyplot as plt\n",
    "\n",
    "fig, ax = plt.subplots(figsize=(10,5))\n",
    "\n",
    "sns.boxplot(log_voxel_diffs, x='sub', y='resid', palette='plasma', ax=ax)\n",
    "plt.legend(loc='upper right', bbox_to_anchor=(1.25, 1))\n",
    "plt.tight_layout()\n",
    "# plt.ylim([-0.0003, 0.0008])\n",
    "\n",
    "plt.title(f'Average voxelwise residual error - {MODEL_NAME}')\n",
    "plt.ylabel('Negative log MSE Difference')\n",
    "# plt"
   ]
  },
  {
   "cell_type": "code",
   "execution_count": null,
   "id": "30e64fed",
   "metadata": {},
   "outputs": [],
   "source": [
    "avg_vox_resid = df_voxel_diffs.groupby(['voxel']).mean()['resid'].to_numpy()\n",
    "ds_avg = masker.inverse_transform(avg_vox_resid)\n",
    "max_val = abs(avg_vox_resid).max()\n",
    "\n",
    "surfs, data = vol_to_surf(ds_avg, surf_type='fsaverage', map_type='inflated')\n",
    "layer = make_layers_dict(data=data, cmap='RdBu_r', label=f'MSE', alpha=1, color_range=(-max_val, max_val))\n",
    "\n",
    "_ = plot_surf_data(surfs, [layer], views=VIEWS, colorbar=COLORBAR, surf_type=SURF_TYPE, \n",
    "                   add_depth=ADD_DEPTH, out_fn=None, title='Average voxel-wise error across runs/subjects', embed_nb=True)\n"
   ]
  },
  {
   "cell_type": "markdown",
   "id": "8791d528",
   "metadata": {},
   "source": [
    "### Run parcelwise analyses"
   ]
  },
  {
   "cell_type": "code",
   "execution_count": null,
   "id": "a58848fa",
   "metadata": {},
   "outputs": [],
   "source": [
    "import seaborn as sns\n",
    "from matplotlib import pyplot as plt\n",
    "\n",
    "fig, ax = plt.subplots(figsize=(10,5))\n",
    "\n",
    "sns.barplot(df_parcel_diffs, x='run', y='resid', hue='sub', palette='plasma', ax=ax)\n",
    "plt.legend(loc='upper right', bbox_to_anchor=(1.25, 1))\n",
    "plt.tight_layout()\n",
    "plt.ylim([-0.0003, 0.0008])\n",
    "\n",
    "plt.title(f'Average parcel residual error - {MODEL_NAME}')\n",
    "plt.ylabel('Absolute MSE Difference')\n",
    "# plt"
   ]
  },
  {
   "cell_type": "code",
   "execution_count": null,
   "id": "d1d41c34",
   "metadata": {},
   "outputs": [],
   "source": [
    "def results2parcellation(masker, parcels_masked, results):\n",
    "    \n",
    "    parcels_masked = parcels_masked.astype(int)\n",
    "    temp = np.empty(parcels_masked.shape)\n",
    "    temp[:] = np.nan\n",
    "    \n",
    "    parcels = np.unique(parcels_masked)[1:].astype(int)\n",
    "    \n",
    "    for i, num in enumerate(parcels):\n",
    "        parcel_idxs = np.argwhere(num == parcels_masked)\n",
    "        temp[parcel_idxs] = results[i]\n",
    "    \n",
    "    temp = masker.inverse_transform(temp)\n",
    "    return temp"
   ]
  },
  {
   "cell_type": "code",
   "execution_count": null,
   "id": "9db24c89",
   "metadata": {
    "scrolled": false
   },
   "outputs": [],
   "source": [
    "parcel_means = df_parcel_diffs.groupby(['parcel'])['resid'].mean().to_numpy()\n",
    "ds_avg = results2parcellation(masker, parcels_masked, parcel_means)\n",
    "\n",
    "max_val = abs(parcel_means).max()\n",
    "\n",
    "surfs, data = vol_to_surf(ds_avg, surf_type='fsaverage', map_type='inflated')\n",
    "layer = make_layers_dict(data=data, cmap='RdBu_r', label=f'MSE', alpha=1, color_range=(-max_val, max_val))\n",
    "\n",
    "_ = plot_surf_data(surfs, [layer], views=VIEWS, colorbar=COLORBAR, surf_type=SURF_TYPE, \n",
    "                   add_depth=ADD_DEPTH, out_fn=None, title='Average parcel-wise error across runs/subjects', embed_nb=True)\n"
   ]
  },
  {
   "cell_type": "code",
   "execution_count": null,
   "id": "577c38ed",
   "metadata": {},
   "outputs": [],
   "source": [
    "from nilearn.input_data import NiftiMasker\n",
    "from nilearn.image import resample_to_img\n",
    "\n",
    "# load the masker\n",
    "mask_fn = os.path.join(dataset_meta[task]['info']['mask'])\n",
    "glasser_fn = os.path.join(ATLAS_DIR, 'glasser', 'MNI_Glasser_HCP_v1.0.nii.gz')\n",
    "\n",
    "glasser_resampled = resample_to_img(glasser_fn, mask_fn, interpolation='nearest')\n",
    "\n",
    "masker = NiftiMasker(mask_fn).fit()\n",
    "glasser_masked = masker.transform(glasser_resampled).squeeze()"
   ]
  },
  {
   "cell_type": "code",
   "execution_count": null,
   "id": "d8ff0823",
   "metadata": {},
   "outputs": [],
   "source": [
    "np.unique(crit_trs).shape"
   ]
  },
  {
   "cell_type": "code",
   "execution_count": null,
   "id": "67ebc225",
   "metadata": {},
   "outputs": [],
   "source": [
    "all_layer_similarity = []\n",
    "\n",
    "for model_feat, human_feat in zip(model_downsampled_features, human_downsampled_features):\n",
    "    layer_similarity = 1 - cdist(model_feat, human_feat, metric='cosine')\n",
    "    layer_similarity = np.diag(layer_similarity)\n",
    "    \n",
    "    all_layer_similarity.append(layer_similarity)"
   ]
  },
  {
   "cell_type": "code",
   "execution_count": null,
   "id": "ab3cdcba",
   "metadata": {},
   "outputs": [],
   "source": [
    "np.concatenate(all_layer_similarity).shape"
   ]
  },
  {
   "cell_type": "markdown",
   "id": "a759b157",
   "metadata": {},
   "source": [
    "### Set up permutation testing"
   ]
  },
  {
   "cell_type": "code",
   "execution_count": null,
   "id": "31a54fb6",
   "metadata": {},
   "outputs": [],
   "source": [
    "from pathlib import Path\n",
    "\n",
    "MODEL_NAME = 'gpt2'\n",
    "regressors_dir = os.path.join(BASE_DIR, f'derivatives/regressors/', DATASET, TASK)\n",
    "\n",
    "# load the model features\n",
    "features_list = ['spectral', 'phoneme', 'word2vec', 'gpt2']\n",
    "all_feature_fns = []\n",
    "\n",
    "for feature in features_list:\n",
    "    feature_fns = sorted(glob.glob(os.path.join(regressors_dir, feature, '*.npy')))\n",
    "    all_feature_fns.append(feature_fns)\n",
    "    \n",
    "# expand the list of lists\n",
    "# get all filenames and the grab their feature names\n",
    "all_feature_fns = sum(all_feature_fns, [])\n",
    "all_features_names = ['_'.join(Path(fn).stem.split('_')[1:]) for fn in all_feature_fns]\n",
    "all_features, feature_names = encoding.load_banded_features(all_feature_fns, all_features_names)\n",
    "print (feature_names)\n"
   ]
  },
  {
   "cell_type": "code",
   "execution_count": null,
   "id": "84ba8fd5",
   "metadata": {},
   "outputs": [],
   "source": [
    "def get_sub_model_predictions(sub, model_name, features):\n",
    "    \n",
    "    data_dir = os.path.join(DATASETS_DIR, DATASET, 'derivatives/dark-matter-preproc-smooth/', sub)\n",
    "    sub_dir = os.path.join(results_dir, sub, model_name)\n",
    "    \n",
    "    sub_data_fns = sorted(glob.glob(os.path.join(data_dir, f'*{TASK}*hyperaligned.npy')))\n",
    "    model_fn = os.path.join(sub_dir, f'{sub}_encoding-model_iter-00001.pkl')\n",
    "    \n",
    "    with open(model_fn, 'rb') as f:\n",
    "        enc_pipeline = joblib.load(f)\n",
    "        \n",
    "    print (f'Model loaded')\n",
    "    \n",
    "    # get model predictions for each\n",
    "    Y_pred = enc_pipeline.predict(features)\n",
    "    print (f'Finished model prediction')\n",
    "    \n",
    "    Y_test = np.stack([np.load(fn) for fn in sub_data_fns]).mean(0)\n",
    "    \n",
    "    return Y_pred, Y_test\n",
    "    "
   ]
  },
  {
   "cell_type": "code",
   "execution_count": null,
   "id": "0056168e",
   "metadata": {},
   "outputs": [],
   "source": [
    "Y_pred, Y_test = get_sub_model_predictions('sub-UTS01', MODEL_NAME, all_features)"
   ]
  },
  {
   "cell_type": "code",
   "execution_count": null,
   "id": "fcca01a2",
   "metadata": {},
   "outputs": [],
   "source": [
    "from himalaya import correlation_score"
   ]
  },
  {
   "cell_type": "code",
   "execution_count": null,
   "id": "216b8719",
   "metadata": {},
   "outputs": [],
   "source": [
    "def block_permutation_test(Y_test, Y_pred, metric, block_size=10, nperms=1000):\n",
    "    '''\n",
    "    Block permutation test of model predictions\n",
    "    Adapted from https://github.com/HuthLab/deep-fMRI-dataset/blob/master/encoding/significance_testing.py\n",
    "    '''\n",
    "    \n",
    "    n_blocks = int(Y_test.shape[0] / block_size)\n",
    "\n",
    "    block_true = np.dstack(np.vsplit(true, nblocks)).transpose((2,0,1))\n",
    "    block_pred = np.dstack(np.vsplit(pred, nblocks)).transpose((2,0,1))\n",
    "    \n",
    "    # Select random blocks, compute metric for each\n",
    "    a_inds = make_randinds(nblocks, nperms)\n",
    "    b_inds = make_randinds(nblocks, nperms)\n",
    "    \n",
    "    from multiprocessing.pool import ThreadPool\n",
    "    pool = ThreadPool(processes=8)\n",
    "    perm_rsqs = pool.map(lambda a: metric(np.vstack(block_true[a[0]]), np.vstack(block_pred[a[1]])), zip(a_inds.T, b_inds.T))\n",
    "\n",
    "    real_rsqs = metric(true, pred)\n",
    "    \n",
    "    pvals = (real_rsqs <= perm_rsqs).mean(0)\n",
    "    \n",
    "    return pvals, perm_rsqs, real_rsqs"
   ]
  },
  {
   "cell_type": "code",
   "execution_count": null,
   "id": "36d7ff39",
   "metadata": {
    "scrolled": true
   },
   "outputs": [],
   "source": [
    "Y_pred.shape"
   ]
  },
  {
   "cell_type": "code",
   "execution_count": null,
   "id": "5fe155e5",
   "metadata": {},
   "outputs": [],
   "source": [
    "Y_test.shape"
   ]
  },
  {
   "cell_type": "code",
   "execution_count": null,
   "id": "50886765",
   "metadata": {},
   "outputs": [],
   "source": [
    "block_size = 10\n",
    "\n",
    "n_blocks = int(Y_test.shape[0] / block_size)\n",
    "\n",
    "# splits timeseries into n_blocks (non overlapping)\n",
    "# then adjusts to blocks x TRs x voxels \n",
    "blocks_true = np.dstack(np.vsplit(Y_test, n_blocks)).transpose((2,0,1))\n",
    "\n",
    "for i in \n",
    "random_blocks = make_\n",
    "# blocks_pred = np.dstack(np.vsplit(Y_pred, n_blocks)).transpose((2,0,1))"
   ]
  },
  {
   "cell_type": "code",
   "execution_count": null,
   "id": "aa45e74f",
   "metadata": {},
   "outputs": [],
   "source": [
    "perm_idxs = pr"
   ]
  },
  {
   "cell_type": "code",
   "execution_count": null,
   "id": "7d932029",
   "metadata": {},
   "outputs": [],
   "source": [
    "def make_random_indices(n_items, n_perms, max_random_seed=2**32-1):\n",
    "    \n",
    "    random_state = None\n",
    "    random_idxs = []\n",
    "    \n",
    "    for i in range(n_perms):\n",
    "        if isinstance(random_state, np.random.RandomState):\n",
    "            prng = random_state\n",
    "        else:\n",
    "            prng = np.random.RandomState(random_state)\n",
    "\n",
    "        # get the permuted indices\n",
    "        perm_idxs = prng.permutation(n_items)\n",
    "        random_idxs.append(perm_idxs)\n",
    "\n",
    "        #randomly select another random_state for next time\n",
    "        random_state = np.random.RandomState(prng.randint(0, max_random_seed))\n",
    "        \n",
    "    return random_idxs"
   ]
  },
  {
   "cell_type": "code",
   "execution_count": null,
   "id": "5ea0fe17",
   "metadata": {},
   "outputs": [],
   "source": [
    "from joblib import Parallel, delayed\n",
    "\n",
    "def block_permutation_test(true, pred, metric, block_size=10, n_perms=1000, N_PROC=1):\n",
    "    '''\n",
    "    Block permutation test of model predictions\n",
    "    Adapted from https://github.com/HuthLab/deep-fMRI-dataset/blob/master/encoding/significance_testing.py\n",
    "    '''\n",
    "    \n",
    "    # set the number of blocks based on size array --> get permutation indices\n",
    "    n_blocks = int(true.shape[0] / block_size)\n",
    "    perm_idxs = make_random_indices(n_items=n_blocks, n_perms=n_perms)\n",
    "    \n",
    "    # decompose into blocks\n",
    "    block_true = np.dstack(np.vsplit(true, n_blocks)).transpose((2,0,1))\n",
    "#     block_pred = np.dstack(np.vsplit(pred, n_blocks)).transpose((2,0,1))\n",
    "\n",
    "    jobs = []\n",
    "    \n",
    "    for perm in perm_idxs:\n",
    "        # create job for current iteration\n",
    "        job = delayed(metric)(np.vstack(block_true[perm, ...]), pred)\n",
    "        jobs.append(job)\n",
    "        \n",
    "    with Parallel(n_jobs=N_PROC) as parallel:\n",
    "        permutations = parallel(jobs)\n",
    "        \n",
    "    permutations = np.stack(permutations)\n",
    "    \n",
    "    return permutations"
   ]
  },
  {
   "cell_type": "code",
   "execution_count": null,
   "id": "9a9fa865",
   "metadata": {},
   "outputs": [],
   "source": [
    "test = block_permutation_test(Y_test, Y_pred, correlation_score, n_perms=1000)"
   ]
  },
  {
   "cell_type": "code",
   "execution_count": null,
   "id": "2223aa7a",
   "metadata": {
    "scrolled": false
   },
   "outputs": [],
   "source": [
    "sns.histplot(test[:, 500])"
   ]
  },
  {
   "cell_type": "code",
   "execution_count": null,
   "id": "59312ec1",
   "metadata": {},
   "outputs": [],
   "source": [
    "from himalaya.scoring import correlation_score"
   ]
  },
  {
   "cell_type": "code",
   "execution_count": null,
   "id": "67b0c683",
   "metadata": {},
   "outputs": [],
   "source": [
    "correlation_score(np.vstack(block_true[perm_idxs[0], ...]), np.vstack(block_pred))"
   ]
  },
  {
   "cell_type": "code",
   "execution_count": null,
   "id": "4d5b111a",
   "metadata": {
    "scrolled": true
   },
   "outputs": [],
   "source": []
  },
  {
   "cell_type": "code",
   "execution_count": null,
   "id": "cf6a4c3f",
   "metadata": {},
   "outputs": [],
   "source": [
    "np.corrcoef(np.vstack(block_true[perm_idxs[0], ...]), )"
   ]
  },
  {
   "cell_type": "code",
   "execution_count": null,
   "id": "e796d8b0",
   "metadata": {},
   "outputs": [],
   "source": [
    "block_true"
   ]
  },
  {
   "cell_type": "code",
   "execution_count": null,
   "id": "e651eb9a",
   "metadata": {},
   "outputs": [],
   "source": [
    "random_idxs = make_random_indices(n_blocks, n_perms=1000)"
   ]
  },
  {
   "cell_type": "code",
   "execution_count": null,
   "id": "8ec4f2ae",
   "metadata": {},
   "outputs": [],
   "source": [
    "# for each iteration, this permutes the order of blocks"
   ]
  },
  {
   "cell_type": "code",
   "execution_count": null,
   "id": "5a5cd047",
   "metadata": {},
   "outputs": [],
   "source": [
    "a_inds.T[0]"
   ]
  },
  {
   "cell_type": "code",
   "execution_count": null,
   "id": "76d54b32",
   "metadata": {},
   "outputs": [],
   "source": [
    "block_true[a[0]]\n",
    "\n",
    "metric(np.vstack(block_true[a[0]]), np.vstack(block_pred[a[1]])), zip(a_inds.T, b_inds.T)"
   ]
  },
  {
   "cell_type": "code",
   "execution_count": null,
   "id": "5ce4cb0f",
   "metadata": {},
   "outputs": [],
   "source": [
    "a_inds"
   ]
  },
  {
   "cell_type": "code",
   "execution_count": null,
   "id": "be45c908",
   "metadata": {
    "scrolled": true
   },
   "outputs": [],
   "source": [
    "blocks_true.shape"
   ]
  },
  {
   "cell_type": "code",
   "execution_count": null,
   "id": "a5c4c8b0",
   "metadata": {},
   "outputs": [],
   "source": [
    "np.dstack(np.vsplit(Y_test, n_blocks)).shape"
   ]
  },
  {
   "cell_type": "code",
   "execution_count": null,
   "id": "770193a9",
   "metadata": {},
   "outputs": [],
   "source": [
    "n_blocks"
   ]
  }
 ],
 "metadata": {
  "kernelspec": {
   "display_name": "Python 3 (ipykernel)",
   "language": "python",
   "name": "python3"
  },
  "language_info": {
   "codemirror_mode": {
    "name": "ipython",
    "version": 3
   },
   "file_extension": ".py",
   "mimetype": "text/x-python",
   "name": "python",
   "nbconvert_exporter": "python",
   "pygments_lexer": "ipython3",
   "version": "3.9.18"
  }
 },
 "nbformat": 4,
 "nbformat_minor": 5
}
