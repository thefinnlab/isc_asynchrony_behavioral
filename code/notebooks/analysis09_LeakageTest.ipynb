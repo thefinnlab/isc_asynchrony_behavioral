{
 "cells": [
  {
   "cell_type": "code",
   "execution_count": 2,
   "id": "c74b75aa",
   "metadata": {},
   "outputs": [
    {
     "name": "stderr",
     "output_type": "stream",
     "text": [
      "/dartfs/rc/lab/F/FinnLab/tommy/conda/envs/dark_matter/lib/python3.9/site-packages/transformers/utils/generic.py:441: UserWarning: torch.utils._pytree._register_pytree_node is deprecated. Please use torch.utils._pytree.register_pytree_node instead.\n",
      "  _torch_pytree._register_pytree_node(\n",
      "2024-12-08 09:36:58.779680: E tensorflow/compiler/xla/stream_executor/cuda/cuda_dnn.cc:9342] Unable to register cuDNN factory: Attempting to register factory for plugin cuDNN when one has already been registered\n",
      "2024-12-08 09:36:58.779745: E tensorflow/compiler/xla/stream_executor/cuda/cuda_fft.cc:609] Unable to register cuFFT factory: Attempting to register factory for plugin cuFFT when one has already been registered\n",
      "2024-12-08 09:36:58.779780: E tensorflow/compiler/xla/stream_executor/cuda/cuda_blas.cc:1518] Unable to register cuBLAS factory: Attempting to register factory for plugin cuBLAS when one has already been registered\n",
      "2024-12-08 09:36:58.789578: I tensorflow/core/platform/cpu_feature_guard.cc:182] This TensorFlow binary is optimized to use available CPU instructions in performance-critical operations.\n",
      "To enable the following instructions: AVX2 FMA, in other operations, rebuild TensorFlow with the appropriate compiler flags.\n",
      "2024-12-08 09:37:04.843748: W tensorflow/compiler/tf2tensorrt/utils/py_utils.cc:38] TF-TRT Warning: Could not find TensorRT\n"
     ]
    }
   ],
   "source": [
    "import os, sys\n",
    "import glob\n",
    "import json\n",
    "import re\n",
    "\n",
    "import numpy as np\n",
    "import pandas as pd\n",
    "\n",
    "import seaborn as sns\n",
    "from matplotlib import pyplot as plt\n",
    "from scipy import stats\n",
    "from scipy.stats import pearsonr, spearmanr, kendalltau\n",
    "import matplotlib.colors as clr\n",
    "\n",
    "from scipy.stats import ttest_ind, f_oneway\n",
    "from scipy.stats import chisquare, fisher_exact, power_divergence\n",
    "\n",
    "\n",
    "sys.path.append('/dartfs/rc/lab/F/FinnLab/tommy/isc_asynchrony_behavior/code/utils/')\n",
    "\n",
    "from config import *\n",
    "import analysis_utils as utils"
   ]
  },
  {
   "cell_type": "code",
   "execution_count": 182,
   "id": "e970399b",
   "metadata": {},
   "outputs": [],
   "source": [
    "# Sourced for aggregating data across subjects\n",
    "preproc_dir = os.path.join(BASE_DIR, 'stimuli/preprocessed')\n",
    "behavioral_dir = os.path.join(BASE_DIR, 'derivatives/results/behavioral/') # where we will write our data"
   ]
  },
  {
   "cell_type": "markdown",
   "id": "69dc633c",
   "metadata": {},
   "source": [
    "## Define function for extracting phonemes"
   ]
  },
  {
   "cell_type": "code",
   "execution_count": 211,
   "id": "960b7c44",
   "metadata": {},
   "outputs": [],
   "source": [
    "import nltk\n",
    "from functools import lru_cache\n",
    "from itertools import product as iterprod\n",
    "\n",
    "try:\n",
    "    arpabet = nltk.corpus.cmudict.dict()\n",
    "except LookupError:\n",
    "    nltk.download('cmudict')\n",
    "    arpabet = nltk.corpus.cmudict.dict()\n",
    "\n",
    "@lru_cache()\n",
    "def wordbreak(s):\n",
    "    s = s.lower()\n",
    "    if s in arpabet:\n",
    "        return arpabet[s]\n",
    "    middle = len(s)/2\n",
    "    partition = sorted(list(range(len(s))), key=lambda x: (x-middle)**2-x)\n",
    "    for i in partition:\n",
    "        pre, suf = (s[:i], s[i:])\n",
    "        if pre in arpabet and wordbreak(suf) is not None:\n",
    "            return [x+y for x,y in iterprod(arpabet[pre], wordbreak(suf))]\n",
    "    return None"
   ]
  },
  {
   "cell_type": "markdown",
   "id": "6044c3f2",
   "metadata": {},
   "source": [
    "## Load subject-level results"
   ]
  },
  {
   "cell_type": "code",
   "execution_count": 186,
   "id": "3fd87d54",
   "metadata": {},
   "outputs": [],
   "source": [
    "# Load results\n",
    "df_results = pd.read_csv(os.path.join(behavioral_dir, f'all-task_subject-behavior_lemmatized.csv'))\n",
    "\n",
    "# Create dataframe for evaluating leakage\n",
    "df_leakage = pd.DataFrame(columns=[\n",
    "        'task', 'modality', 'word_index', \n",
    "        'wrong_resp_correct', 'wrong_resp_incorrect', 'wrong_resp_accuracy', # focusing on the wrong responses, how many were correct v. incorrect\n",
    "        \n",
    "])\n",
    "\n",
    "for (task, modality, word_index), df in df_results.groupby(['task', 'modality', 'word_index']):\n",
    "\n",
    "    ground_truth = df['ground_truth'].unique()[0]\n",
    "    ground_truth_phoneme = wordbreak(ground_truth)[0][0]\n",
    "\n",
    "    responses = df['response'].to_numpy()\n",
    "\n",
    "    # Get first letter of each response\n",
    "    predicted_phoneme = [wordbreak(word)[0][0] for word in responses]\n",
    "    unique, counts = np.unique(predicted_phoneme, return_counts=True)\n",
    "\n",
    "    # Find accuracy of first letter\n",
    "    phoneme_accuracy = np.asarray([phone == ground_truth_phoneme for phone in predicted_phoneme])\n",
    "\n",
    "    # Focus on wrong responses\n",
    "    wrong_responses = np.argwhere(responses != ground_truth)\n",
    "\n",
    "    if len(wrong_responses) >= 1:\n",
    "        wrong_phonemes = np.asarray(predicted_phoneme)[wrong_responses]\n",
    "        wrong_accuracy = phoneme_accuracy[wrong_responses]\n",
    "\n",
    "        # Get number of correct responses for the wrong response\n",
    "        wrong_resp_correct = np.sum(wrong_accuracy)\n",
    "        wrong_resp_incorrect = len(wrong_accuracy) - wrong_resp_correct\n",
    "        wrong_resp_accuracy = wrong_resp_correct / len(wrong_accuracy)\n",
    "    else:\n",
    "        wrong_resp_correct = np.nan \n",
    "        wrong_resp_incorrect = np.nan \n",
    "        wrong_resp_accuracy = np.nan\n",
    "\n",
    "    df_leakage.loc[len(df_leakage)] = {\n",
    "        'task': task,\n",
    "        'modality': modality,\n",
    "        'word_index': word_index,\n",
    "        'wrong_resp_correct': wrong_resp_correct,\n",
    "        'wrong_resp_incorrect': wrong_resp_incorrect,\n",
    "        'wrong_resp_accuracy': wrong_resp_accuracy,\n",
    "    }"
   ]
  },
  {
   "cell_type": "markdown",
   "id": "389a5e0d",
   "metadata": {},
   "source": [
    "## Calculate leakage statistics\n",
    "\n",
    "For each predicted word, create a contingency table of (audio v. text) x (correct v. incorrect) specifically for the wrong responses."
   ]
  },
  {
   "cell_type": "code",
   "execution_count": 208,
   "id": "ee2f1178",
   "metadata": {},
   "outputs": [],
   "source": [
    "all_pvals = []\n",
    "df_pvals = pd.DataFrame(columns=['task', 'word_index', 'pval'])\n",
    "\n",
    "for (task, word_index), df in df_leakage.groupby(['task', 'word_index']):\n",
    "\n",
    "    contingency = df[['wrong_resp_correct', 'wrong_resp_incorrect']].to_numpy().astype(float)\n",
    "\n",
    "    if np.isnan(contingency).any():\n",
    "        continue\n",
    "    stat, pval = fisher_exact(contingency, alternative='two-sided')\n",
    "\n",
    "    df_pvals.loc[len(df_pvals)] = {\n",
    "        'task': task,\n",
    "        'word_index': word_index,\n",
    "        'pval': pval\n",
    "    }"
   ]
  },
  {
   "cell_type": "markdown",
   "id": "5d62b90e",
   "metadata": {},
   "source": [
    "### Plot phoneme accuracy across tasks"
   ]
  },
  {
   "cell_type": "code",
   "execution_count": 209,
   "id": "a8e4cfb7",
   "metadata": {},
   "outputs": [
    {
     "data": {
      "text/plain": [
       "Text(0.5, 1.05, 'Phoneme accuracy across tasks')"
      ]
     },
     "execution_count": 209,
     "metadata": {},
     "output_type": "execute_result"
    },
    {
     "data": {
      "image/png": "[encoded data removed]",
      "text/plain": [
       "<Figure size 900x300 with 3 Axes>"
      ]
     },
     "metadata": {},
     "output_type": "display_data"
    }
   ],
   "source": [
    "g = sns.FacetGrid(df_leakage, col=\"task\")\n",
    "g.map_dataframe(sns.histplot, x=\"wrong_resp_accuracy\", hue='modality')\n",
    "\n",
    "g.set_axis_labels(\"Phoneme Accuracy\", \"Count\")\n",
    "plt.suptitle('Phoneme accuracy across tasks', y=1.05)"
   ]
  },
  {
   "cell_type": "markdown",
   "id": "bc85504d",
   "metadata": {},
   "source": [
    "### Calculate percentage of words with significant leakage"
   ]
  },
  {
   "cell_type": "code",
   "execution_count": 214,
   "id": "a3a35bb5",
   "metadata": {},
   "outputs": [
    {
     "name": "stdout",
     "output_type": "stream",
     "text": [
      "Percent significant leakage\n",
      "\n",
      "Task: black -- 21.76%\n",
      "Task: howtodraw -- 7.14%\n",
      "Task: wheretheressmoke -- 13.19%\n"
     ]
    }
   ],
   "source": [
    "print (f'Percent significant leakage\\n')\n",
    "\n",
    "percent_leakage = []\n",
    "\n",
    "for i, df in df_pvals.groupby('task'):\n",
    "    perc = 100 * (sum(df['pval'] < 0.05) / len(df))\n",
    "    print (f'Task: {i} -- {perc:.2f}%')\n",
    "    percent_leakage.append(perc)"
   ]
  },
  {
   "cell_type": "markdown",
   "id": "73d75746",
   "metadata": {},
   "source": [
    "### Plot distribution of leakage p-values"
   ]
  },
  {
   "cell_type": "code",
   "execution_count": 181,
   "id": "8f620410",
   "metadata": {},
   "outputs": [
    {
     "data": {
      "text/plain": [
       "Text(0.5, 1.05, 'Fisher Exact - Pvals')"
      ]
     },
     "execution_count": 181,
     "metadata": {},
     "output_type": "execute_result"
    },
    {
     "data": {
      "image/png": "[encoded data removed]",
      "text/plain": [
       "<Figure size 900x300 with 3 Axes>"
      ]
     },
     "metadata": {},
     "output_type": "display_data"
    }
   ],
   "source": [
    "g = sns.FacetGrid(df_pvals, col=\"task\")\n",
    "g.map_dataframe(sns.histplot, x=\"pval\")\n",
    "\n",
    "g.set_axis_labels(\"pvalues\", \"Count\")\n",
    "plt.suptitle('Fisher Exact - Pvals', y=1.05)"
   ]
  }
 ],
 "metadata": {
  "kernelspec": {
   "display_name": "Python 3 (ipykernel)",
   "language": "python",
   "name": "python3"
  },
  "language_info": {
   "codemirror_mode": {
    "name": "ipython",
    "version": 3
   },
   "file_extension": ".py",
   "mimetype": "text/x-python",
   "name": "python",
   "nbconvert_exporter": "python",
   "pygments_lexer": "ipython3",
   "version": "3.9.19"
  }
 },
 "nbformat": 4,
 "nbformat_minor": 5
}
